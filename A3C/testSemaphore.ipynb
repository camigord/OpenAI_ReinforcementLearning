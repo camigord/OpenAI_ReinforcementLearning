{
 "cells": [
  {
   "cell_type": "code",
   "execution_count": 1,
   "metadata": {
    "collapsed": true
   },
   "outputs": [],
   "source": [
    "from multiprocessing import RawValue, RawArray, Semaphore, Lock, Process\n",
    "import numpy as np\n",
    "import ctypes\n",
    "import numpy as np\n",
    "import time"
   ]
  },
  {
   "cell_type": "code",
   "execution_count": 25,
   "metadata": {
    "collapsed": false
   },
   "outputs": [],
   "source": [
    "class SharedCounter(object):\n",
    "    def __init__(self, initval=0):\n",
    "        self.val = RawValue('i', initval)\n",
    "        self.last_step_update_target = RawValue('i', initval)\n",
    "        self.lock = Lock()\n",
    "\n",
    "    def value(self):\n",
    "        return self.val.value\n",
    "\n",
    "class Barrier_v2:\n",
    "    def __init__(self, n):\n",
    "        self.n = n\n",
    "        self.counter = SharedCounter(0)\n",
    "        self.barrier = Semaphore(0)\n",
    "\n",
    "    def wait(self,name):\n",
    "        with self.counter.lock:\n",
    "            self.counter.val.value += 1\n",
    "            if self.counter.val.value % self.n == 0: \n",
    "                for i in range(self.n-1):\n",
    "                    self.barrier.release()\n",
    "                return\n",
    "        \n",
    "        print('block ' + name)\n",
    "        self.barrier.acquire()\n",
    "        print('release ' + name)\n",
    "\n",
    "class Barrier:\n",
    "    def __init__(self, n):\n",
    "        self.n = n\n",
    "        self.counter = SharedCounter(0)\n",
    "        self.barrier = Semaphore(0)\n",
    "\n",
    "    def wait(self,name):\n",
    "        with self.counter.lock:\n",
    "            self.counter.val.value += 1\n",
    "            if self.counter.val.value == self.n:\n",
    "                self.barrier.release()\n",
    "                \n",
    "        print('block ' + name)\n",
    "        self.barrier.acquire()\n",
    "        print('release ' + name)\n",
    "        self.barrier.release()"
   ]
  },
  {
   "cell_type": "code",
   "execution_count": 23,
   "metadata": {
    "collapsed": false
   },
   "outputs": [],
   "source": [
    "class test(Process):\n",
    "    def __init__(self,b,name):\n",
    "        super(test, self).__init__()\n",
    "        self.barrier = b\n",
    "        self.name = name\n",
    "        \n",
    "    def run(self):\n",
    "        print('activating ' + self.name)\n",
    "        self.barrier.wait(self.name)\n",
    "        print('terminating ' + self.name)\n",
    "        print(self.barrier.barrier)\n",
    "        \n",
    "        time.sleep(10)\n",
    "        \n",
    "        print('Start ' + self.name)\n",
    "        self.barrier.wait('X' + self.name)\n",
    "        print('End ' + self.name)\n",
    "        print(self.barrier.barrier)\n",
    "        "
   ]
  },
  {
   "cell_type": "code",
   "execution_count": 20,
   "metadata": {
    "collapsed": false
   },
   "outputs": [
    {
     "name": "stdout",
     "output_type": "stream",
     "text": [
      "activating 0\n",
      "block 0\n",
      "activating 1\n",
      "block 1\n",
      "activating 2\n",
      "block 2\n",
      "activating 3\n",
      "block 3\n",
      "activating 4\n",
      "block 4\n",
      "release 0\n",
      "terminating 0\n",
      "release 1\n",
      "release 2\n",
      "<Semaphore(value=0)>\n",
      "terminating 1\n",
      "release 3\n",
      "terminating 2\n",
      "<Semaphore(value=0)>\n",
      "<Semaphore(value=0)>\n",
      "terminating 3\n",
      "release 4\n",
      "<Semaphore(value=0)>\n",
      "terminating 4\n",
      "<Semaphore(value=1)>\n",
      "Start 0\n",
      "block X0\n",
      "Start 1\n",
      "Start 3\n",
      "release X0\n",
      "Start 2\n",
      "block X1\n",
      "block X3\n",
      "Start 4\n",
      "block X2\n",
      "release X3\n",
      "block X4\n",
      "End 0\n",
      "release X1\n",
      "End 3\n",
      "<Semaphore(value=0)>\n",
      "<Semaphore(value=0)>\n",
      "End 1\n",
      "release X2\n",
      "<Semaphore(value=0)>\n",
      "End 2\n",
      "release X4\n",
      "End 4\n",
      "<Semaphore(value=1)>\n",
      "<Semaphore(value=1)>\n"
     ]
    }
   ],
   "source": [
    "b = Barrier(5)\n",
    "\n",
    "processes = []\n",
    "for i in range(5):\n",
    "    processes.append(test(b,str(i)))\n",
    "    time.sleep(1)\n",
    "    processes[-1].start()\n",
    "    \n",
    "for t in processes:\n",
    "    t.join()"
   ]
  },
  {
   "cell_type": "code",
   "execution_count": 26,
   "metadata": {
    "collapsed": false
   },
   "outputs": [
    {
     "name": "stdout",
     "output_type": "stream",
     "text": [
      "activating 0\n",
      "block 0\n",
      "activating 1\n",
      "block 1\n",
      "activating 2\n",
      "block 2\n",
      "activating 3\n",
      "block 3\n",
      "activating 4\n",
      "release 0\n",
      "release 2\n",
      "terminating 4\n",
      "release 3\n",
      "release 1\n",
      "terminating 0\n",
      "terminating 2\n",
      "terminating 3\n",
      "<Semaphore(value=0)>\n",
      "terminating 1\n",
      "<Semaphore(value=0)>\n",
      "<Semaphore(value=0)>\n",
      "<Semaphore(value=0)>\n",
      "<Semaphore(value=0)>\n",
      "Start 2\n",
      "Start 4\n",
      "Start 1\n",
      "Start 3\n",
      "block X3\n",
      "block X4\n",
      "block X2\n",
      "block X1\n",
      "Start 0\n",
      "release X4\n",
      "End 0\n",
      "release X1\n",
      "release X2\n",
      "release X3\n",
      "End 4\n",
      "<Semaphore(value=0)>\n",
      "End 2\n",
      "<Semaphore(value=0)>\n",
      "End 1\n",
      "End 3\n",
      "<Semaphore(value=0)>\n",
      "<Semaphore(value=0)>\n",
      "<Semaphore(value=0)>\n"
     ]
    }
   ],
   "source": [
    "b = Barrier_v2(5)\n",
    "\n",
    "processes = []\n",
    "for i in range(5):\n",
    "    processes.append(test(b,str(i)))\n",
    "    time.sleep(1)\n",
    "    processes[-1].start()\n",
    "    \n",
    "for t in processes:\n",
    "    t.join()"
   ]
  },
  {
   "cell_type": "code",
   "execution_count": null,
   "metadata": {
    "collapsed": true
   },
   "outputs": [],
   "source": []
  }
 ],
 "metadata": {
  "kernelspec": {
   "display_name": "Python [Neptuno]",
   "language": "python",
   "name": "Python [Neptuno]"
  },
  "language_info": {
   "codemirror_mode": {
    "name": "ipython",
    "version": 2
   },
   "file_extension": ".py",
   "mimetype": "text/x-python",
   "name": "python",
   "nbconvert_exporter": "python",
   "pygments_lexer": "ipython2",
   "version": "2.7.12"
  }
 },
 "nbformat": 4,
 "nbformat_minor": 0
}
