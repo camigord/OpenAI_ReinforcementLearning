{
 "cells": [
  {
   "cell_type": "code",
   "execution_count": 10,
   "metadata": {
    "collapsed": true
   },
   "outputs": [],
   "source": [
    "import math\n",
    "import random\n",
    "import numpy as np\n",
    "import gym\n",
    "import cv2\n",
    "import matplotlib.pyplot as plt\n",
    "%matplotlib inline"
   ]
  },
  {
   "cell_type": "code",
   "execution_count": 11,
   "metadata": {
    "collapsed": true
   },
   "outputs": [],
   "source": [
    "class GameScreen:\n",
    "    def __init__(self, conf):\n",
    "        self.history = np.zeros([conf['pool_frame_size'],conf['screen_height'],conf['screen_width']],dtype=np.float32)\n",
    "        \n",
    "    def add(self, screen):\n",
    "        self.history[:-1] = self.history[1:]\n",
    "        self.history[-1] = screen\n",
    "        \n",
    "    def get(self):        \n",
    "        return np.amax(np.transpose(self.history,(1,2,0)),axis=2)"
   ]
  },
  {
   "cell_type": "code",
   "execution_count": 70,
   "metadata": {
    "collapsed": true
   },
   "outputs": [],
   "source": [
    "class GymEnvironment():\n",
    "    def __init__(self,name,conf):\n",
    "        self.env = gym.make(name)            # Initialize Gym environment\n",
    "        self.GameScreen = GameScreen(conf)\n",
    "        self.screen_width = conf['screen_width']         \n",
    "        self.screen_height = conf['screen_height']\n",
    "        self.random_start = conf['random_start']\n",
    "        self.action_repeat = conf['action_repeat']\n",
    "        self.pool_frame_size = conf['pool_frame_size']\n",
    "        self.display = False\n",
    "        \n",
    "    def new_game(self):\n",
    "        self._observation = self.env.reset()\n",
    "        \n",
    "        for i in range(self.pool_frame_size):\n",
    "            self.GameScreen.add(self.observation)\n",
    "            \n",
    "        self.render()        \n",
    "        return self.screen\n",
    "    \n",
    "    def new_random_game(self):  # Starts a random new game doing \n",
    "        _ = self.new_game()\n",
    "        for _ in xrange(random.randint(0,self.random_start-1)):\n",
    "            self._observation, reward, terminal, _ = self.env.step(0)\n",
    "            self.GameScreen.add(self.observation)\n",
    "        \n",
    "        self.render()\n",
    "        return self.screen, 0, terminal\n",
    "        \n",
    "    def execute_action(self,action,is_training=True):\n",
    "        # This function execute the selected action for 'action_repeat' number of times and returns the cumulative reward\n",
    "        # and final state\n",
    "        cum_reward = 0\n",
    "        start_lives = self.num_lives\n",
    "        print(self.action_repeat)\n",
    "        for _ in xrange(self.action_repeat):\n",
    "            print('taking action %d' % action)\n",
    "            self._observation, reward, terminal, _ = self.env.step(action)\n",
    "            self.GameScreen.add(self.observation)\n",
    "            cum_reward += reward\n",
    "            \n",
    "            if is_training and start_lives > self.num_lives:\n",
    "                terminal = True\n",
    "                \n",
    "            if terminal:\n",
    "                break\n",
    "                \n",
    "        self.render()\n",
    "        \n",
    "        return self.screen, cum_reward, terminal\n",
    "    \n",
    "    @property\n",
    "    def screen(self):\n",
    "        return self.GameScreen.get()\n",
    "        \n",
    "    @property\n",
    "    def action_size(self):\n",
    "        return self.env.action_space.n        # Number of available actions\n",
    "\n",
    "    @property\n",
    "    def num_lives(self):\n",
    "        return self.env.ale.lives()\n",
    "    \n",
    "    @property\n",
    "    def observation(self):     # Method to resize the screen provided by gym to the desired values\n",
    "        return cv2.resize(cv2.cvtColor(self._observation,cv2.COLOR_RGB2GRAY)/255.,(self.screen_width,self.screen_height))\n",
    "    \n",
    "    def render(self):    # Renders the environment only if display == True\n",
    "        if self.display:\n",
    "            self.env.render()        "
   ]
  },
  {
   "cell_type": "code",
   "execution_count": 73,
   "metadata": {
    "collapsed": false
   },
   "outputs": [],
   "source": [
    "conf_parameters = {\n",
    "    # Input size\n",
    "    'screen_width': 84,\n",
    "    'screen_height': 84,\n",
    "    'pool_frame_size': 1,\n",
    "    \n",
    "    'random_start': 30,           # Maximum number of 'do nothing' actions at the start of an episode\n",
    "\n",
    "    # Clip rewards\n",
    "    'min_reward': -1.0,\n",
    "    'max_reward': 1.0,\n",
    "\n",
    "    # How many times should the same action be taken\n",
    "    'action_repeat': 1,    # Gym Breakout-v0 is already repeating the action sampling k from {2,3,4}\n",
    "    \n",
    "    # Whether or not to render the environment \n",
    "    'display': True,\n",
    "}\n"
   ]
  },
  {
   "cell_type": "code",
   "execution_count": 33,
   "metadata": {
    "collapsed": false
   },
   "outputs": [
    {
     "name": "stderr",
     "output_type": "stream",
     "text": [
      "[2017-01-13 16:17:33,276] Making new env: Breakout-v0\n"
     ]
    },
    {
     "data": {
      "image/png": "[encoded data removed]",
      "text/plain": [
       "<matplotlib.figure.Figure at 0x7f55b7d5f050>"
      ]
     },
     "metadata": {},
     "output_type": "display_data"
    }
   ],
   "source": [
    "env1 = gym.make('Breakout-v0')\n",
    "s1 = env1.reset()\n",
    "imgplot = plt.imshow(s1, cmap='gray')"
   ]
  },
  {
   "cell_type": "code",
   "execution_count": 47,
   "metadata": {
    "collapsed": false
   },
   "outputs": [
    {
     "data": {
      "image/png": "[encoded data removed]",
      "text/plain": [
       "<matplotlib.figure.Figure at 0x7f55b7e859d0>"
      ]
     },
     "metadata": {},
     "output_type": "display_data"
    }
   ],
   "source": [
    "s1,r,t,_ = env1.step(3)\n",
    "imgplot = plt.imshow(s1, cmap='gray')"
   ]
  },
  {
   "cell_type": "code",
   "execution_count": 74,
   "metadata": {
    "collapsed": false
   },
   "outputs": [
    {
     "name": "stderr",
     "output_type": "stream",
     "text": [
      "[2017-01-13 16:21:17,924] Making new env: Breakout-v0\n"
     ]
    },
    {
     "name": "stdout",
     "output_type": "stream",
     "text": [
      "(84, 84)\n"
     ]
    },
    {
     "data": {
      "image/png": "[encoded data removed]",
      "text/plain": [
       "<matplotlib.figure.Figure at 0x7f55b83e1bd0>"
      ]
     },
     "metadata": {},
     "output_type": "display_data"
    }
   ],
   "source": [
    "env = GymEnvironment('Breakout-v0',conf_parameters)\n",
    "screen = env.new_game()\n",
    "print(screen.shape)\n",
    "imgplot = plt.imshow(screen, cmap='gray')"
   ]
  },
  {
   "cell_type": "code",
   "execution_count": 88,
   "metadata": {
    "collapsed": false
   },
   "outputs": [
    {
     "name": "stdout",
     "output_type": "stream",
     "text": [
      "1\n",
      "taking action 3\n",
      "(0.0, False)\n",
      "(84, 84)\n"
     ]
    },
    {
     "data": {
      "image/png": "[encoded data removed]",
      "text/plain": [
       "<matplotlib.figure.Figure at 0x7f55b7ef0a10>"
      ]
     },
     "metadata": {},
     "output_type": "display_data"
    }
   ],
   "source": [
    "screen,r,t = env.execute_action(3,is_training=False)\n",
    "print(r, t)\n",
    "print(screen.shape)\n",
    "imgplot = plt.imshow(screen, cmap='gray')"
   ]
  },
  {
   "cell_type": "code",
   "execution_count": null,
   "metadata": {
    "collapsed": false
   },
   "outputs": [],
   "source": [
    "\n",
    "s, r, terminal = env.new_random_game()\n",
    "cum_reward = r\n",
    "\n",
    "while not terminal:\n",
    "    action = raw_input()\n",
    "    action = int(action)\n",
    "    if action == 6:\n",
    "        break\n",
    "    s,r,terminal = env.execute_action(action,is_training=False)\n",
    "    print(env.num_lives)\n",
    "    cum_reward += r\n",
    "    \n",
    "print(cum_reward)\n",
    "env.env.render(close=True)"
   ]
  },
  {
   "cell_type": "code",
   "execution_count": 5,
   "metadata": {
    "collapsed": false
   },
   "outputs": [
    {
     "data": {
      "image/png": "[encoded data removed]",
      "text/plain": [
       "<matplotlib.figure.Figure at 0x7fd966c6b190>"
      ]
     },
     "metadata": {},
     "output_type": "display_data"
    }
   ],
   "source": [
    "\n",
    "\n",
    "imgplot = plt.imshow(s)"
   ]
  },
  {
   "cell_type": "code",
   "execution_count": null,
   "metadata": {
    "collapsed": true
   },
   "outputs": [],
   "source": []
  }
 ],
 "metadata": {
  "anaconda-cloud": {},
  "kernelspec": {
   "display_name": "Python [Neptuno]",
   "language": "python",
   "name": "Python [Neptuno]"
  },
  "language_info": {
   "codemirror_mode": {
    "name": "ipython",
    "version": 2
   },
   "file_extension": ".py",
   "mimetype": "text/x-python",
   "name": "python",
   "nbconvert_exporter": "python",
   "pygments_lexer": "ipython2",
   "version": "2.7.12"
  }
 },
 "nbformat": 4,
 "nbformat_minor": 2
}
