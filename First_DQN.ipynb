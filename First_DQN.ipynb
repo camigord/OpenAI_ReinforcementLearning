{
 "cells": [
  {
   "cell_type": "code",
   "execution_count": 1,
   "metadata": {
    "collapsed": false
   },
   "outputs": [],
   "source": [
    "import gym\n",
    "import numpy as np\n",
    "import tensorflow as tf\n",
    "import matplotlib.pyplot as plt\n",
    "%matplotlib inline\n",
    "import random\n",
    "import cv2\n",
    "import os\n",
    "import time\n",
    "from tqdm import tqdm"
   ]
  },
  {
   "cell_type": "markdown",
   "metadata": {},
   "source": [
    "## Configuration parameters"
   ]
  },
  {
   "cell_type": "code",
   "execution_count": 2,
   "metadata": {
    "collapsed": true
   },
   "outputs": [],
   "source": [
    "screen_width = 84\n",
    "screen_height = 84\n",
    "history_length = 4\n",
    "\n",
    "memory_size = 1000000\n",
    "batch_size = 32\n",
    "gamma = 0.99\n",
    "\n",
    "learning_rate = 0.0005\n",
    "learning_rate_decay = 0.96\n",
    "learning_rate_decay_step = 50000\n",
    "\n",
    "max_steps = 50000000\n",
    "learn_start = 50000\n",
    "\n",
    "# Exploration parameters\n",
    "ep_min = 0.1\n",
    "ep_start = 1.0\n",
    "ep_end_time = memory_size\n",
    "\n",
    "# Update Target network\n",
    "target_q_update_step = 10000\n",
    "\n",
    "# Train batch\n",
    "train_frequency = 4\n",
    "# Print performance\n",
    "test_step = 50000\n",
    "\n",
    "# Clip rewards\n",
    "min_reward = -1.0\n",
    "max_reward = 1.0\n",
    "\n",
    "# How many times should the same action be taken (avoids taking a new decision after every environment iteration)\n",
    "action_repeat = 4\n",
    "\n",
    "# Whether or not to render the environment \n",
    "display = False"
   ]
  },
  {
   "cell_type": "markdown",
   "metadata": {},
   "source": [
    "## Load the game environment"
   ]
  },
  {
   "cell_type": "code",
   "execution_count": 3,
   "metadata": {
    "collapsed": false
   },
   "outputs": [],
   "source": [
    "class GymEnvironment():\n",
    "    def __init__(self,name):\n",
    "        self.env = gym.make(name)\n",
    "        self.action_repeat = action_repeat\n",
    "        \n",
    "    def execute_action(self,action,is_training=True):\n",
    "        cum_reward = 0\n",
    "        start_lives = self.env.ale.lives()\n",
    "        \n",
    "        for _ in xrange(self.action_repeat):\n",
    "            screen, reward, terminal, _ = self.env.step(action)\n",
    "            cum_reward += reward\n",
    "            \n",
    "            if is_training and start_lives > self.env.ale.lives():\n",
    "                cum_reward -= 1\n",
    "                terminal = True\n",
    "                \n",
    "            if terminal:\n",
    "                break\n",
    "                \n",
    "        reward = cum_reward\n",
    "        \n",
    "        if display:\n",
    "            self.env.render()\n",
    "        \n",
    "        screen = cv2.resize(cv2.cvtColor(screen,cv2.COLOR_RGB2GRAY)/255.,(screen_width,screen_height))\n",
    "        return screen, reward, terminal\n",
    "    \n",
    "    @property\n",
    "    def action_size(self):\n",
    "        return self.env.action_space.n\n",
    "    \n",
    "    def new_game(self):\n",
    "        screen = self.env.reset()\n",
    "        screen = cv2.resize(cv2.cvtColor(screen,cv2.COLOR_RGB2GRAY)/255.,(screen_width,screen_height))\n",
    "        \n",
    "        return screen"
   ]
  },
  {
   "cell_type": "code",
   "execution_count": 4,
   "metadata": {
    "collapsed": false
   },
   "outputs": [
    {
     "data": {
      "text/plain": [
       "'screen = env.reset()\\nprint(screen.shape)\\nenv.render()\\nenv.render(close=True)\\n'"
      ]
     },
     "execution_count": 4,
     "metadata": {},
     "output_type": "execute_result"
    }
   ],
   "source": [
    "'''screen = env.reset()\n",
    "print(screen.shape)\n",
    "env.render()\n",
    "env.render(close=True)\n",
    "'''"
   ]
  },
  {
   "cell_type": "markdown",
   "metadata": {},
   "source": [
    "## Experience Replay\n",
    "This class will allow us to store the experiences and to take random samples to update our target network parameters."
   ]
  },
  {
   "cell_type": "code",
   "execution_count": 5,
   "metadata": {
    "collapsed": true
   },
   "outputs": [],
   "source": [
    "class Experience_Buffer():\n",
    "    def __init__(self,memory_size = 50000):\n",
    "        self.memory = []\n",
    "        self.memory_size = memory_size\n",
    "        self.actions = np.empty(self.memory_size,dtype=np.uint8)\n",
    "        self.rewards = np.empty(self.memory_size,dtype=np.integer)\n",
    "        self.screens = np.empty((self.memory_size, screen_height, screen_width),dtype=np.float16)\n",
    "        self.terminals = np.empty(self.memory_size,dtype=np.bool)\n",
    "        self.prestates = np.empty((batch_size,history_length,screen_height, screen_width),dtype=np.float16)\n",
    "        self.poststates = np.empty((batch_size,history_length,screen_height, screen_width),dtype=np.float16)\n",
    "        self.current = 0\n",
    "        self.count = 0\n",
    "        \n",
    "    def add(self, screen, reward, action, terminal):\n",
    "        self.actions[self.current] = action\n",
    "        self.rewards[self.current] = reward\n",
    "        self.screens[self.current,...] = screen\n",
    "        self.terminals[self.current] = terminal\n",
    "        self.count = max(self.count, self.current+1)\n",
    "        self.current = (self.current + 1) % self.memory_size\n",
    "        \n",
    "    def getState(self,index):\n",
    "        index = index % self.count\n",
    "        # If index is not in the beginning, just use simple slicing\n",
    "        if index >= history_length-1:\n",
    "            return self.screens[(index-(history_length-1)):(index+1),...]\n",
    "        # Otherwise determine the list of indexes which need to be returned\n",
    "        else:\n",
    "            indexes = [(index-i) % self.count for i in reversed(range(history_length))]\n",
    "            return self.screens[indexes,...]\n",
    "        \n",
    "    def sample_from_replay(self):\n",
    "        # Sample random indexes\n",
    "        indexes = []\n",
    "        while len(indexes) < batch_size:\n",
    "            while True:\n",
    "                index = random.randint(history_length,self.count-1)\n",
    "                # If index wraps over current pointer, get new one\n",
    "                if index >= self.current and index - history_length < self.current:\n",
    "                    continue\n",
    "                # If index wraps over terminal state, get new one\n",
    "                if self.terminals[(index-history_length):index].any():\n",
    "                    continue\n",
    "                # Use the index otherwise\n",
    "                break\n",
    "            self.prestates[len(indexes),...] = self.getState(index-1)\n",
    "            self.poststates[len(indexes),...] = self.getState(index)\n",
    "            indexes.append(index)\n",
    "            \n",
    "        actions = self.actions[indexes]\n",
    "        rewards = self.rewards[indexes]\n",
    "        terminals = self.terminals[indexes]\n",
    "        \n",
    "        return np.transpose(self.prestates,(0,2,3,1)),actions,rewards,np.transpose(self.poststates,(0,2,3,1)),terminals"
   ]
  },
  {
   "cell_type": "markdown",
   "metadata": {},
   "source": [
    "## History\n",
    "This class will allow us to stack the last K screens to use them as the input to the network (history of states)."
   ]
  },
  {
   "cell_type": "code",
   "execution_count": 6,
   "metadata": {
    "collapsed": true
   },
   "outputs": [],
   "source": [
    "class History:\n",
    "    def __init__(self):\n",
    "        self.history = np.zeros([history_length,screen_height,screen_width],dtype=np.float32)\n",
    "        \n",
    "    def add(self, screen):\n",
    "        self.history[:-1] = self.history[1:]\n",
    "        self.history[-1] = screen\n",
    "    \n",
    "    def reset(self):\n",
    "        self.history *= 0\n",
    "        \n",
    "    def get(self):\n",
    "        return np.transpose(self.history,(1,2,0))"
   ]
  },
  {
   "cell_type": "markdown",
   "metadata": {},
   "source": [
    "## Auxiliar functions "
   ]
  },
  {
   "cell_type": "code",
   "execution_count": 7,
   "metadata": {
    "collapsed": false
   },
   "outputs": [],
   "source": [
    "checkpoint_dir = 'Models/'\n",
    "if not os.path.exists(checkpoint_dir):\n",
    "    os.makedirs(checkpoint_dir)\n",
    "    \n",
    "log_dir = 'Models/Logs/'\n",
    "if not os.path.exists(log_dir):\n",
    "    os.makedirs(log_dir)\n",
    "    \n",
    "def conv2d(x,output_dim,kernel_size,stride,\n",
    "           initializer=tf.contrib.layers.xavier_initializer(),\n",
    "           activation_fn = tf.nn.relu,\n",
    "           padding = 'VALID',\n",
    "           name = 'conv2d'):\n",
    "    with tf.variable_scope(name):\n",
    "        stride = [1,stride[0],stride[1],1]\n",
    "        kernel_shape = [kernel_size[0],kernel_size[1],x.get_shape()[-1],output_dim]\n",
    "        \n",
    "        w = tf.get_variable('w',kernel_shape,tf.float32,initializer=initializer)\n",
    "        conv = tf.nn.conv2d(x,w,stride,padding)\n",
    "        b = tf.get_variable('biases',[output_dim],initializer=tf.constant_initializer(0.0))\n",
    "        out = activation_fn(tf.nn.bias_add(conv,b))\n",
    "        \n",
    "    return out,w,b       \n",
    "\n",
    "def linear(input_,output_size,stddev=0.02,bias_start=0.0,activation_fn=None,name='linear'):\n",
    "    shape = input_.get_shape().as_list()\n",
    "    \n",
    "    with tf.variable_scope(name):\n",
    "        w = tf.get_variable('Matrix',[shape[1],output_size],tf.float32,\n",
    "                            tf.random_normal_initializer(stddev=stddev))\n",
    "        b = tf.get_variable('bias',[output_size],initializer=tf.constant_initializer(bias_start))\n",
    "        \n",
    "        out = tf.nn.bias_add(tf.matmul(input_,w),b)\n",
    "        \n",
    "    if activation_fn!=None:\n",
    "        return activation_fn(out), w, b\n",
    "    else:\n",
    "        return out,w,b"
   ]
  },
  {
   "cell_type": "markdown",
   "metadata": {
    "collapsed": true
   },
   "source": [
    "## Learning agent"
   ]
  },
  {
   "cell_type": "code",
   "execution_count": 8,
   "metadata": {
    "collapsed": false
   },
   "outputs": [],
   "source": [
    "class Agent():\n",
    "    def __init__(self,environment,sess):\n",
    "        self.sess = sess\n",
    "        self.env = environment\n",
    "        self.exp_replay = Experience_Buffer(memory_size)\n",
    "        self.history = History()\n",
    "        \n",
    "        with tf.variable_scope('step'):\n",
    "            self.step_op = tf.Variable(0,trainable=False,name='step')\n",
    "            self.step_input = tf.placeholder(tf.int32,None,name='step_input')\n",
    "            self.step_assign_op = self.step_op.assign(self.step_input)\n",
    "        \n",
    "        # Build Deep network\n",
    "        self.build_dqn()\n",
    "        \n",
    "    def build_dqn(self):\n",
    "        self.w = {}\n",
    "        self.t_w = {}\n",
    "        \n",
    "        initializer = tf.truncated_normal_initializer(0, 0.02)\n",
    "        activation_fn = tf.nn.relu\n",
    "        \n",
    "        # TRAINING NETWORK\n",
    "        with tf.variable_scope('prediction'):\n",
    "            self.input_state = tf.placeholder(tf.float32,[None, screen_height, screen_width, history_length],\n",
    "                                              name='input_state')\n",
    "            self.l1, self.w['l1_w'], self.w['l1_b'] = conv2d(self.input_state,32,[8,8],[4,4],initializer, \n",
    "                                                             activation_fn, name='l1')\n",
    "            self.l2, self.w['l2_w'], self.w['l2_b'] = conv2d(self.l1,64,[4,4],[2,2],initializer, \n",
    "                                                             activation_fn, name='l2')\n",
    "            self.l3, self.w['l3_w'], self.w['l3_b'] = conv2d(self.l2,64,[3,3],[1,1],initializer, \n",
    "                                                             activation_fn, name='l3')\n",
    "            \n",
    "            shape = self.l3.get_shape().as_list()\n",
    "            self.l3_flat = tf.reshape(self.l3,[-1,reduce(lambda x,y: x*y,shape[1:])])\n",
    "            \n",
    "            # Standard DQN implementation\n",
    "            self.l4, self.w['l4_w'], self.w['l4_b'] = linear(self.l3_flat,512,activation_fn=activation_fn,name='l4')\n",
    "            self.q, self.w['q_w'],self.w['q_b'] = linear(self.l4,self.env.action_size,name='q')\n",
    "            \n",
    "            self.q_action = tf.argmax(self.q,dimension=1)\n",
    "            \n",
    "            # Add output summaries\n",
    "            q_summary = []\n",
    "            avg_q = tf.reduce_mean(self.q,0)  # Mean q_value per action for each batch\n",
    "            for idx in xrange(self.env.action_size):\n",
    "                q_summary.append(tf.histogram_summary('q/%s' % idx, avg_q[idx]))\n",
    "            self.q_summary = tf.merge_summary(q_summary,'q_summary')\n",
    "                           \n",
    "        # TARGET NETWORK\n",
    "        with tf.variable_scope('target'):\n",
    "            self.target_state = tf.placeholder(tf.float32,[None, screen_height, screen_width, history_length],\n",
    "                                              name='target_state')\n",
    "            self.target_l1, self.t_w['l1_w'], self.t_w['l1_b'] = conv2d(self.target_state,32,[8,8],[4,4],initializer, \n",
    "                                                             activation_fn, name='target_l1')\n",
    "            self.target_l2, self.t_w['l2_w'], self.t_w['l2_b'] = conv2d(self.target_l1,64,[4,4],[2,2],initializer, \n",
    "                                                             activation_fn, name='target_l2')\n",
    "            self.target_l3, self.t_w['l3_w'], self.t_w['l3_b'] = conv2d(self.target_l2,64,[3,3],[1,1],initializer, \n",
    "                                                             activation_fn, name='target_l3')\n",
    "            \n",
    "            shape = self.target_l3.get_shape().as_list()\n",
    "            self.target_l3_flat = tf.reshape(self.target_l3,[-1,reduce(lambda x,y: x*y,shape[1:])])\n",
    "            \n",
    "            # Standard DQN\n",
    "            self.target_l4, self.t_w['l4_w'], self.t_w['l4_b'] = linear(self.target_l3_flat,512,\n",
    "                                                                    activation_fn=activation_fn,name='target_l4')\n",
    "            self.target_q, self.t_w['q_w'],self.t_w['q_b'] = linear(self.target_l4,self.env.action_size,\n",
    "                                                                    name='target_q')\n",
    "            \n",
    "            self.target_q_idx = tf.placeholder(tf.int32,[None,None],'outputs_idx')\n",
    "            self.target_q_with_idx = tf.gather_nd(self.target_q,self.target_q_idx)  # Gets q value according to index\n",
    "        \n",
    "        # COPY TRAINING NETWORK INTO TARGET\n",
    "        with tf.variable_scope('pred_to_target'):\n",
    "            self.t_w_input = {}\n",
    "            self.t_w_assign_op = {}\n",
    "            \n",
    "            for name in self.w.keys():\n",
    "                self.t_w_input[name] = tf.placeholder(tf.float32,self.t_w[name].get_shape().as_list(),name=name)\n",
    "                self.t_w_assign_op[name] = self.t_w[name].assign(self.t_w_input[name])\n",
    "                    \n",
    "        # OPTIMIZER\n",
    "        with tf.variable_scope('optimizer'):\n",
    "            self.target_q_t = tf.placeholder(tf.float32,[None],name='target_q_t')\n",
    "            self.action = tf.placeholder(tf.int64,[None],name='action')\n",
    "            \n",
    "            # One hot of the action which was taken\n",
    "            action_one_hot = tf.one_hot(self.action,self.env.action_size,1.0,0.0,name='action_one_hot')\n",
    "            # Extract the q_value of the action\n",
    "            q_acted = tf.reduce_sum(self.q * action_one_hot,reduction_indices=1,name='q_acted')\n",
    "            \n",
    "            self.delta = self.target_q_t - q_acted      # Error\n",
    "            self.clipped_delta = tf.clip_by_value(self.delta,-1.0,1.0,name='clipped_delta')\n",
    "            \n",
    "            # PAY ATTENTION TO THIS ONE!\n",
    "            self.global_step = tf.Variable(0,trainable=False)\n",
    "            \n",
    "            self.loss = tf.reduce_mean(tf.square(self.clipped_delta),name='loss')\n",
    "            self.learning_rate_step = tf.placeholder(tf.int64,None,name='learning_rate_step')\n",
    "            self.learning_rate_op = tf.maximum(0.00025,tf.train.exponential_decay(\n",
    "                learning_rate,self.learning_rate_step,learning_rate_decay_step,learning_rate_decay,staircase=True))\n",
    "            self.optim = tf.train.RMSPropOptimizer(self.learning_rate_op,momentum=0.95,epsilon=0.01).minimize(self.loss)\n",
    "            \n",
    "        # Add summaries\n",
    "        with tf.variable_scope('summary'):\n",
    "            scalar_summary_tags = ['average.reward', 'average.loss', 'average.q', 'episode.max reward', 'episode.min reward',\\\n",
    "                                  'episode.avg reward', 'episode.num of games', 'training.learning_rate']\n",
    "            self.summary_placeholders = {}\n",
    "            self.summary_ops = {}\n",
    "            for tag in scalar_summary_tags:\n",
    "                self.summary_placeholders[tag] = tf.placeholder(tf.float32,None,name=tag.replace(' ','_'))\n",
    "                self.summary_ops[tag] = tf.scalar_summary(tag, self.summary_placeholders[tag])\n",
    "            \n",
    "            histogram_summary_tags = ['episode.rewards','episode.actions']\n",
    "            for tag in histogram_summary_tags:\n",
    "                self.summary_placeholders[tag] = tf.placeholder(tf.float32,None,name=tag.replace(' ','_'))\n",
    "                self.summary_ops[tag] = tf.histogram_summary(tag, self.summary_placeholders[tag])\n",
    "                \n",
    "            self.writer = tf.train.SummaryWriter(log_dir,self.sess.graph)\n",
    "        \n",
    "        tf.initialize_all_variables().run()\n",
    "        self._saver = tf.train.Saver(self.w.values() + [self.step_op], max_to_keep = 10)\n",
    "        \n",
    "        self.load_model()\n",
    "        self.update_target_q_network()\n",
    "                    \n",
    "    def update_target_q_network(self):\n",
    "        for name in self.w.keys():\n",
    "            self.t_w_assign_op[name].eval({self.t_w_input[name]:self.w[name].eval()})\n",
    "            \n",
    "    def load_model(self,step=None):\n",
    "        print('[*] Loading Checkpoints...')\n",
    "\n",
    "        ckpt = tf.train.get_checkpoint_state(checkpoint_dir)\n",
    "        if ckpt and ckpt.model_checkpoint_path:\n",
    "            ckpt_name = os.path.basename(ckpt.model_checkpoint_path)\n",
    "            fname = os.path.join(checkpoint_dir,ckpt_name)\n",
    "            self._saver.restore(self.sess,fname)\n",
    "            print('[*] Load succesfull: %s' % fname)\n",
    "            return True\n",
    "        else:\n",
    "            print('[!] Load failed: %s' % checkpoint_dir)\n",
    "            return False\n",
    "        \n",
    "    def save_model(self,step=None):\n",
    "        print('[*] Saving checkpoints...')\n",
    "        self._saver.save(self.sess,checkpoint_dir,global_step=step)    \n",
    "        \n",
    "    def train(self):\n",
    "        start_step = self.step_op.eval()\n",
    "        print('ok')\n",
    "        # VERIFY THE NEED OF THE FOLLOWING VARIABLES\n",
    "        num_game, self.update_count, ep_reward = 0, 0, 0.\n",
    "        total_reward, self.total_loss, self.total_q = 0., 0., 0.\n",
    "        max_avg_ep_reward = 0\n",
    "        ep_rewards, actions = [], []\n",
    "        \n",
    "        # New game (we could modify this to start randomly -> taking random initial actions)\n",
    "        screen = self.env.new_game()\n",
    "        \n",
    "        # Stacking the screen in the first input buffer\n",
    "        for _ in range(history_length):\n",
    "            self.history.add(screen)\n",
    "            \n",
    "        # Training:\n",
    "        for self.step in tqdm(range(start_step,max_steps),ncols=70,initial=start_step):\n",
    "            if self.step == learn_start:\n",
    "                num_game, self.update_count, ep_reward = 0, 0, 0.\n",
    "                total_reward, self.total_loss, self.total_q = 0., 0., 0.\n",
    "                ep_rewards, actions = [], []\n",
    "                \n",
    "            # 1. Predict: Use our training network to select an action\n",
    "            action = self.predict(self.history.get())\n",
    "            \n",
    "            # 2. Execute the action\n",
    "            screen, reward, terminal = self.env.execute_action(action,is_training=True)\n",
    "            \n",
    "            # 3. New observation\n",
    "            self.observe(screen,reward,action,terminal)\n",
    "            \n",
    "            if terminal:\n",
    "                screen = self.env.new_game()\n",
    "                num_game += 1\n",
    "                ep_rewards.append(ep_reward)\n",
    "                ep_reward = 0\n",
    "            else:\n",
    "                ep_reward += reward\n",
    "                total_reward += reward\n",
    "                actions.append(action)\n",
    "                \n",
    "            actions.append(action)\n",
    "            \n",
    "            if self.step >= learn_start:\n",
    "                if self.step % test_step == test_step - 1:\n",
    "                    avg_reward = total_reward / test_step\n",
    "                    avg_loss = self.total_loss / self.update_count\n",
    "                    avg_q = self.total_q / self.update_count\n",
    "                    \n",
    "                    try:\n",
    "                        max_ep_reward = np.max(ep_rewards)\n",
    "                        min_ep_reward = np.min(ep_rewards)\n",
    "                        avg_ep_reward = np.mean(ep_rewards)\n",
    "                    except:\n",
    "                        max_ep_reward, min_ep_reward, avg_ep_reward = 0,0,0\n",
    "                        \n",
    "                    print('////////////////////////\\nAverage reward: %.4f \\nAverage loss: %.6f \\nAverage Q: %3.6f'\\\n",
    "                         % (avg_reward, avg_loss, avg_q))\n",
    "                    print('\\nAvg. Ep. Reward: %.4f \\nMax Ep. Reward: %.4f \\nMin Ep. Reward: %.4f \\n# Game: %d'\\\n",
    "                         % (avg_ep_reward, max_ep_reward, min_ep_reward, num_game))\n",
    "                    \n",
    "                    if max_avg_ep_reward * 0.9 <= avg_ep_reward:\n",
    "                        self.step_assign_op.eval({self.step_input: self.step+1})\n",
    "                        self.save_model(self.step+1)\n",
    "                        max_avg_ep_reward = max(max_avg_ep_reward, avg_ep_reward)\n",
    "                        \n",
    "                    if self.step > 180:\n",
    "                        self.inject_summary({\n",
    "                                'average.reward' : avg_reward,\n",
    "                                'average.loss': avg_loss,\n",
    "                                'average.q': avg_q,\n",
    "                                'episode.max reward':max_ep_reward,\n",
    "                                'episode.min reward':min_ep_reward,\n",
    "                                'episode.avg reward':avg_ep_reward,\n",
    "                                'episode.num of games':num_game,\n",
    "                                'episode.rewards': ep_rewards,\n",
    "                                'episode.actions': actions,\n",
    "                                'training.learning_rate': self.learning_rate_op.eval({self.learning_rate_step:self.step})\n",
    "                            })\n",
    "\n",
    "                    num_game = 0\n",
    "                    total_reward = 0.\n",
    "                    self.total_loss = 0.\n",
    "                    self.total_q = 0.\n",
    "                    self.update_count = 0\n",
    "                    ep_reward = 0\n",
    "                    ep_rewards = []       \n",
    "                    actions = []\n",
    "            \n",
    "    def predict(self,current_state,test_ep=None):\n",
    "        # Calculate exploration prob. epsilon => This is a decaying epsilon starting at 1 and decreasing until 0.1\n",
    "        # once the learning process start\n",
    "        ep = test_ep or (ep_min + max(0.,(ep_start-ep_min)*(ep_end_time-max(0.,self.step-learn_start))/ep_end_time))\n",
    "        if random.random() < ep:\n",
    "            # Explore: random action\n",
    "            action = random.randrange(self.env.action_size)\n",
    "        else:\n",
    "            action = self.q_action.eval({self.input_state:[current_state]})[0]\n",
    "            \n",
    "        return action\n",
    "    \n",
    "    def observe(self,screen,reward,action,terminal):\n",
    "        # Clip reward\n",
    "        reward = max(min_reward,min(max_reward,reward))\n",
    "        \n",
    "        # Add to history\n",
    "        self.history.add(screen)\n",
    "        # Add to exp. replay\n",
    "        self.exp_replay.add(screen,reward,action,terminal)\n",
    "        \n",
    "        if self.step > learn_start:\n",
    "            # If it is time to train the network\n",
    "            if self.step % train_frequency == 0:\n",
    "                self.q_learning_mini_batch()\n",
    "                \n",
    "            # If it is time to update Target network\n",
    "            if self.step % target_q_update_step == target_q_update_step -1:\n",
    "                self.update_target_q_network()\n",
    "        \n",
    "    def q_learning_mini_batch(self):\n",
    "        if self.exp_replay.count < history_length:\n",
    "            # Not enough experiences\n",
    "            return\n",
    "        else:\n",
    "            init_state, action, reward, end_state, terminal = self.exp_replay.sample_from_replay()\n",
    "            \n",
    "            # Standard DQN implementation\n",
    "            # Get the Q-value of the next state\n",
    "            q_t_plus_1 = self.target_q.eval({self.target_state: end_state})\n",
    "            terminal = np.array(terminal) + 0.\n",
    "            # Get max Q_t+1\n",
    "            max_q_t_plus_1 = np.max(q_t_plus_1, axis=1)\n",
    "            # The target q-value (if is not terminal state) will be:\n",
    "            target_q_t = (1. - terminal) * gamma * max_q_t_plus_1 + reward\n",
    "\n",
    "            _, q_t, loss, summary_str = self.sess.run([self.optim,self.q,self.loss,self.q_summary], {\n",
    "                    self.target_q_t: target_q_t,\n",
    "                    self.action: action,\n",
    "                    self.input_state: init_state,\n",
    "                    self.learning_rate_step: self.step\n",
    "                })\n",
    "\n",
    "            self.writer.add_summary(summary_str,self.step)\n",
    "            self.total_loss += loss\n",
    "            self.total_q += q_t.mean()\n",
    "            self.update_count += 1      \n",
    "            \n",
    "    def inject_summary(self,tag_dir):\n",
    "        summary_str_lists = self.sess.run([self.summary_ops[tag] for tag in tag_dir.keys()], {\n",
    "                self.summary_placeholders[tag]: value for tag , value in tag_dir.items()\n",
    "            })\n",
    "        for summary_str in summary_str_lists:\n",
    "            self.writer.add_summary(summary_str,self.step)\n",
    "        "
   ]
  },
  {
   "cell_type": "markdown",
   "metadata": {
    "collapsed": true
   },
   "source": [
    "## Main code:"
   ]
  },
  {
   "cell_type": "code",
   "execution_count": null,
   "metadata": {
    "collapsed": false
   },
   "outputs": [],
   "source": [
    "'''with tf.Session() as sess:\n",
    "    env = GymEnvironment('Breakout-v0')\n",
    "    agent = Agent(env,sess)\n",
    "    agent.train()'''"
   ]
  },
  {
   "cell_type": "code",
   "execution_count": 9,
   "metadata": {
    "collapsed": false
   },
   "outputs": [
    {
     "name": "stderr",
     "output_type": "stream",
     "text": [
      "[2016-12-02 15:46:20,677] Making new env: Breakout-v0\n"
     ]
    },
    {
     "name": "stdout",
     "output_type": "stream",
     "text": [
      "[*] Loading Checkpoints...\n",
      "[*] Load succesfull: Models/-100000\n",
      "ok\n"
     ]
    },
    {
     "name": "stderr",
     "output_type": "stream",
     "text": [
      "  0%|                   | 149997/49900000 [12:32<231:44:33, 59.63it/s]"
     ]
    },
    {
     "name": "stdout",
     "output_type": "stream",
     "text": [
      "////////////////////////\n",
      "Average reward: 0.0232 \n",
      "Average loss: 0.142165 \n",
      "Average Q: 0.367866\n",
      "\n",
      "Avg. Ep. Reward: 0.3036 \n",
      "Max Ep. Reward: 6.0000 \n",
      "Min Ep. Reward: 0.0000 \n",
      "# Game: 3818\n",
      "[*] Saving checkpoints...\n"
     ]
    },
    {
     "name": "stderr",
     "output_type": "stream",
     "text": [
      "  0%|                   | 199997/49900000 [25:19<223:48:32, 61.68it/s]"
     ]
    },
    {
     "name": "stdout",
     "output_type": "stream",
     "text": [
      "////////////////////////\n",
      "Average reward: 0.0233 \n",
      "Average loss: 0.140669 \n",
      "Average Q: 0.602020\n",
      "\n",
      "Avg. Ep. Reward: 0.3093 \n",
      "Max Ep. Reward: 5.0000 \n",
      "Min Ep. Reward: 0.0000 \n",
      "# Game: 3770\n",
      "[*] Saving checkpoints...\n"
     ]
    },
    {
     "name": "stderr",
     "output_type": "stream",
     "text": [
      "  1%|                   | 249993/49900000 [38:09<213:31:45, 64.59it/s]"
     ]
    },
    {
     "name": "stdout",
     "output_type": "stream",
     "text": [
      "////////////////////////\n",
      "Average reward: 0.0236 \n",
      "Average loss: 0.140270 \n",
      "Average Q: 0.813687\n",
      "\n",
      "Avg. Ep. Reward: 0.3137 \n",
      "Max Ep. Reward: 6.0000 \n",
      "Min Ep. Reward: 0.0000 \n",
      "# Game: 3761\n",
      "[*] Saving checkpoints...\n"
     ]
    },
    {
     "name": "stderr",
     "output_type": "stream",
     "text": [
      "  1%|                   | 299993/49900000 [51:10<211:16:54, 65.21it/s]"
     ]
    },
    {
     "name": "stdout",
     "output_type": "stream",
     "text": [
      "////////////////////////\n",
      "Average reward: 0.0233 \n",
      "Average loss: 0.136213 \n",
      "Average Q: 1.036969\n",
      "\n",
      "Avg. Ep. Reward: 0.3108 \n",
      "Max Ep. Reward: 9.0000 \n",
      "Min Ep. Reward: 0.0000 \n",
      "# Game: 3735\n",
      "[*] Saving checkpoints...\n"
     ]
    },
    {
     "name": "stderr",
     "output_type": "stream",
     "text": [
      "  1%|                 | 349993/49900000 [1:04:18<231:23:40, 59.48it/s]"
     ]
    },
    {
     "name": "stdout",
     "output_type": "stream",
     "text": [
      "////////////////////////\n",
      "Average reward: 0.0245 \n",
      "Average loss: 0.122829 \n",
      "Average Q: 1.274685\n",
      "\n",
      "Avg. Ep. Reward: 0.3300 \n",
      "Max Ep. Reward: 5.0000 \n",
      "Min Ep. Reward: 0.0000 \n",
      "# Game: 3715\n",
      "[*] Saving checkpoints...\n"
     ]
    },
    {
     "name": "stderr",
     "output_type": "stream",
     "text": [
      "  1%|▏                | 399993/49900000 [1:17:38<240:59:28, 57.06it/s]"
     ]
    },
    {
     "name": "stdout",
     "output_type": "stream",
     "text": [
      "////////////////////////\n",
      "Average reward: 0.0301 \n",
      "Average loss: 0.116589 \n",
      "Average Q: 1.538831\n",
      "\n",
      "Avg. Ep. Reward: 0.4336 \n",
      "Max Ep. Reward: 4.0000 \n",
      "Min Ep. Reward: 0.0000 \n",
      "# Game: 3469\n",
      "[*] Saving checkpoints...\n"
     ]
    },
    {
     "name": "stderr",
     "output_type": "stream",
     "text": [
      "  1%|▏                | 449993/49900000 [1:30:56<226:00:54, 60.78it/s]"
     ]
    },
    {
     "name": "stdout",
     "output_type": "stream",
     "text": [
      "////////////////////////\n",
      "Average reward: 0.0331 \n",
      "Average loss: 0.113940 \n",
      "Average Q: 1.810254\n",
      "\n",
      "Avg. Ep. Reward: 0.5118 \n",
      "Max Ep. Reward: 7.0000 \n",
      "Min Ep. Reward: 0.0000 \n",
      "# Game: 3230\n",
      "[*] Saving checkpoints...\n"
     ]
    },
    {
     "name": "stderr",
     "output_type": "stream",
     "text": [
      "  1%|▏                | 499993/49900000 [1:44:22<231:52:12, 59.18it/s]"
     ]
    },
    {
     "name": "stdout",
     "output_type": "stream",
     "text": [
      "////////////////////////\n",
      "Average reward: 0.0356 \n",
      "Average loss: 0.110114 \n",
      "Average Q: 2.037924\n",
      "\n",
      "Avg. Ep. Reward: 0.5872 \n",
      "Max Ep. Reward: 6.0000 \n",
      "Min Ep. Reward: 0.0000 \n",
      "# Game: 3028\n",
      "[*] Saving checkpoints...\n"
     ]
    },
    {
     "name": "stderr",
     "output_type": "stream",
     "text": [
      "  1%|▏                | 549997/49900000 [1:57:46<223:04:10, 61.45it/s]"
     ]
    },
    {
     "name": "stdout",
     "output_type": "stream",
     "text": [
      "////////////////////////\n",
      "Average reward: 0.0427 \n",
      "Average loss: 0.105732 \n",
      "Average Q: 2.290139\n",
      "\n",
      "Avg. Ep. Reward: 0.8324 \n",
      "Max Ep. Reward: 6.0000 \n",
      "Min Ep. Reward: 0.0000 \n",
      "# Game: 2565\n",
      "[*] Saving checkpoints...\n"
     ]
    },
    {
     "name": "stderr",
     "output_type": "stream",
     "text": [
      "  1%|▏                | 599997/49900000 [2:11:26<221:58:06, 61.70it/s]"
     ]
    },
    {
     "name": "stdout",
     "output_type": "stream",
     "text": [
      "////////////////////////\n",
      "Average reward: 0.0451 \n",
      "Average loss: 0.098451 \n",
      "Average Q: 2.496039\n",
      "\n",
      "Avg. Ep. Reward: 0.9230 \n",
      "Max Ep. Reward: 7.0000 \n",
      "Min Ep. Reward: 0.0000 \n",
      "# Game: 2442\n",
      "[*] Saving checkpoints...\n"
     ]
    },
    {
     "name": "stderr",
     "output_type": "stream",
     "text": [
      "  1%|▏                | 649997/49900000 [2:25:11<218:56:32, 62.48it/s]"
     ]
    },
    {
     "name": "stdout",
     "output_type": "stream",
     "text": [
      "////////////////////////\n",
      "Average reward: 0.0470 \n",
      "Average loss: 0.096958 \n",
      "Average Q: 2.705843\n",
      "\n",
      "Avg. Ep. Reward: 1.0000 \n",
      "Max Ep. Reward: 6.0000 \n",
      "Min Ep. Reward: 0.0000 \n",
      "# Game: 2346\n",
      "[*] Saving checkpoints...\n"
     ]
    },
    {
     "name": "stderr",
     "output_type": "stream",
     "text": [
      "  1%|▏                | 699997/49900000 [2:39:05<237:26:32, 57.56it/s]"
     ]
    },
    {
     "name": "stdout",
     "output_type": "stream",
     "text": [
      "////////////////////////\n",
      "Average reward: 0.0487 \n",
      "Average loss: 0.092012 \n",
      "Average Q: 2.935419\n",
      "\n",
      "Avg. Ep. Reward: 1.1110 \n",
      "Max Ep. Reward: 7.0000 \n",
      "Min Ep. Reward: 0.0000 \n",
      "# Game: 2189\n",
      "[*] Saving checkpoints...\n"
     ]
    },
    {
     "name": "stderr",
     "output_type": "stream",
     "text": [
      "  2%|▎                | 749997/49900000 [2:52:59<247:50:22, 55.09it/s]"
     ]
    },
    {
     "name": "stdout",
     "output_type": "stream",
     "text": [
      "////////////////////////\n",
      "Average reward: 0.0512 \n",
      "Average loss: 0.089019 \n",
      "Average Q: 3.088274\n",
      "\n",
      "Avg. Ep. Reward: 1.2126 \n",
      "Max Ep. Reward: 7.0000 \n",
      "Min Ep. Reward: 0.0000 \n",
      "# Game: 2112\n",
      "[*] Saving checkpoints...\n"
     ]
    },
    {
     "name": "stderr",
     "output_type": "stream",
     "text": [
      "  2%|▎                | 799997/49900000 [3:06:49<229:21:22, 59.47it/s]"
     ]
    },
    {
     "name": "stdout",
     "output_type": "stream",
     "text": [
      "////////////////////////\n",
      "Average reward: 0.0530 \n",
      "Average loss: 0.086923 \n",
      "Average Q: 3.231466\n",
      "\n",
      "Avg. Ep. Reward: 1.3098 \n",
      "Max Ep. Reward: 9.0000 \n",
      "Min Ep. Reward: 0.0000 \n",
      "# Game: 2024\n",
      "[*] Saving checkpoints...\n"
     ]
    },
    {
     "name": "stderr",
     "output_type": "stream",
     "text": [
      "  2%|▎                | 849993/49900000 [3:20:46<231:58:14, 58.74it/s]"
     ]
    },
    {
     "name": "stdout",
     "output_type": "stream",
     "text": [
      "////////////////////////\n",
      "Average reward: 0.0544 \n",
      "Average loss: 0.084959 \n",
      "Average Q: 3.390613\n",
      "\n",
      "Avg. Ep. Reward: 1.3926 \n",
      "Max Ep. Reward: 7.0000 \n",
      "Min Ep. Reward: 0.0000 \n",
      "# Game: 1951\n",
      "[*] Saving checkpoints...\n"
     ]
    },
    {
     "name": "stderr",
     "output_type": "stream",
     "text": [
      "  2%|▎                | 899993/49900000 [3:34:50<174:46:32, 77.88it/s]"
     ]
    },
    {
     "name": "stdout",
     "output_type": "stream",
     "text": [
      "////////////////////////\n",
      "Average reward: 0.0556 \n",
      "Average loss: 0.081536 \n",
      "Average Q: 3.541846\n",
      "\n",
      "Avg. Ep. Reward: 1.5120 \n",
      "Max Ep. Reward: 10.0000 \n",
      "Min Ep. Reward: 0.0000 \n",
      "# Game: 1838\n",
      "[*] Saving checkpoints...\n"
     ]
    },
    {
     "name": "stderr",
     "output_type": "stream",
     "text": [
      "  2%|▎                | 949993/49900000 [3:49:01<205:41:15, 66.11it/s]"
     ]
    },
    {
     "name": "stdout",
     "output_type": "stream",
     "text": [
      "////////////////////////\n",
      "Average reward: 0.0581 \n",
      "Average loss: 0.080064 \n",
      "Average Q: 3.702444\n",
      "\n",
      "Avg. Ep. Reward: 1.6860 \n",
      "Max Ep. Reward: 9.0000 \n",
      "Min Ep. Reward: 0.0000 \n",
      "# Game: 1723\n",
      "[*] Saving checkpoints...\n"
     ]
    },
    {
     "name": "stderr",
     "output_type": "stream",
     "text": [
      "  2%|▎                | 999997/49900000 [4:03:12<225:57:31, 60.11it/s]"
     ]
    },
    {
     "name": "stdout",
     "output_type": "stream",
     "text": [
      "////////////////////////\n",
      "Average reward: 0.0587 \n",
      "Average loss: 0.078780 \n",
      "Average Q: 3.916708\n",
      "\n",
      "Avg. Ep. Reward: 1.7469 \n",
      "Max Ep. Reward: 8.0000 \n",
      "Min Ep. Reward: 0.0000 \n",
      "# Game: 1679\n",
      "[*] Saving checkpoints...\n"
     ]
    },
    {
     "name": "stderr",
     "output_type": "stream",
     "text": [
      "  2%|▎               | 1049997/49900000 [4:17:24<242:47:26, 55.89it/s]"
     ]
    },
    {
     "name": "stdout",
     "output_type": "stream",
     "text": [
      "////////////////////////\n",
      "Average reward: 0.0609 \n",
      "Average loss: 0.076771 \n",
      "Average Q: 4.136729\n",
      "\n",
      "Avg. Ep. Reward: 2.0300 \n",
      "Max Ep. Reward: 11.0000 \n",
      "Min Ep. Reward: 0.0000 \n",
      "# Game: 1499\n",
      "[*] Saving checkpoints...\n"
     ]
    },
    {
     "name": "stderr",
     "output_type": "stream",
     "text": [
      "  2%|▎               | 1099995/49900000 [4:31:54<233:10:43, 58.13it/s]"
     ]
    },
    {
     "name": "stdout",
     "output_type": "stream",
     "text": [
      "////////////////////////\n",
      "Average reward: 0.0617 \n",
      "Average loss: 0.076143 \n",
      "Average Q: 4.342553\n",
      "\n",
      "Avg. Ep. Reward: 2.0894 \n",
      "Max Ep. Reward: 11.0000 \n",
      "Min Ep. Reward: 0.0000 \n",
      "# Game: 1476\n",
      "[*] Saving checkpoints...\n"
     ]
    },
    {
     "name": "stderr",
     "output_type": "stream",
     "text": [
      "  2%|▎               | 1149995/49900000 [4:46:30<205:46:30, 65.81it/s]"
     ]
    },
    {
     "name": "stdout",
     "output_type": "stream",
     "text": [
      "////////////////////////\n",
      "Average reward: 0.0618 \n",
      "Average loss: 0.073713 \n",
      "Average Q: 4.568146\n",
      "\n",
      "Avg. Ep. Reward: 2.1164 \n",
      "Max Ep. Reward: 12.0000 \n",
      "Min Ep. Reward: 0.0000 \n",
      "# Game: 1460\n",
      "[*] Saving checkpoints...\n"
     ]
    },
    {
     "name": "stderr",
     "output_type": "stream",
     "text": [
      "  2%|▍               | 1199997/49900000 [5:00:51<240:01:14, 56.36it/s]"
     ]
    },
    {
     "name": "stdout",
     "output_type": "stream",
     "text": [
      "////////////////////////\n",
      "Average reward: 0.0620 \n",
      "Average loss: 0.071256 \n",
      "Average Q: 4.818509\n",
      "\n",
      "Avg. Ep. Reward: 2.1307 \n",
      "Max Ep. Reward: 10.0000 \n",
      "Min Ep. Reward: 0.0000 \n",
      "# Game: 1454\n",
      "[*] Saving checkpoints...\n"
     ]
    },
    {
     "name": "stderr",
     "output_type": "stream",
     "text": [
      "  3%|▍               | 1249993/49900000 [5:15:17<243:05:03, 55.59it/s]"
     ]
    },
    {
     "name": "stdout",
     "output_type": "stream",
     "text": [
      "////////////////////////\n",
      "Average reward: 0.0612 \n",
      "Average loss: 0.068195 \n",
      "Average Q: 5.047041\n",
      "\n",
      "Avg. Ep. Reward: 2.0428 \n",
      "Max Ep. Reward: 8.0000 \n",
      "Min Ep. Reward: 0.0000 \n",
      "# Game: 1497\n",
      "[*] Saving checkpoints...\n"
     ]
    },
    {
     "name": "stderr",
     "output_type": "stream",
     "text": [
      "  3%|▍               | 1299995/49900000 [5:29:59<236:47:38, 57.01it/s]"
     ]
    },
    {
     "name": "stdout",
     "output_type": "stream",
     "text": [
      "////////////////////////\n",
      "Average reward: 0.0623 \n",
      "Average loss: 0.064492 \n",
      "Average Q: 5.267203\n",
      "\n",
      "Avg. Ep. Reward: 2.1693 \n",
      "Max Ep. Reward: 9.0000 \n",
      "Min Ep. Reward: 0.0000 \n",
      "# Game: 1435\n",
      "[*] Saving checkpoints...\n"
     ]
    },
    {
     "name": "stderr",
     "output_type": "stream",
     "text": [
      "  3%|▍               | 1349997/49900000 [5:44:36<231:35:19, 58.23it/s]"
     ]
    },
    {
     "name": "stdout",
     "output_type": "stream",
     "text": [
      "////////////////////////\n",
      "Average reward: 0.0631 \n",
      "Average loss: 0.062410 \n",
      "Average Q: 5.565132\n",
      "\n",
      "Avg. Ep. Reward: 2.2175 \n",
      "Max Ep. Reward: 9.0000 \n",
      "Min Ep. Reward: 0.0000 \n",
      "# Game: 1421\n",
      "[*] Saving checkpoints...\n"
     ]
    },
    {
     "name": "stderr",
     "output_type": "stream",
     "text": [
      "  3%|▍               | 1399993/49900000 [5:59:18<249:17:09, 54.04it/s]"
     ]
    },
    {
     "name": "stdout",
     "output_type": "stream",
     "text": [
      "////////////////////////\n",
      "Average reward: 0.0630 \n",
      "Average loss: 0.060106 \n",
      "Average Q: 5.807959\n",
      "\n",
      "Avg. Ep. Reward: 2.1937 \n",
      "Max Ep. Reward: 10.0000 \n",
      "Min Ep. Reward: 0.0000 \n",
      "# Game: 1435\n",
      "[*] Saving checkpoints...\n"
     ]
    },
    {
     "name": "stderr",
     "output_type": "stream",
     "text": [
      "  3%|▍               | 1449993/49900000 [6:13:32<246:21:21, 54.63it/s]"
     ]
    },
    {
     "name": "stdout",
     "output_type": "stream",
     "text": [
      "////////////////////////\n",
      "Average reward: 0.0629 \n",
      "Average loss: 0.058011 \n",
      "Average Q: 6.057569\n",
      "\n",
      "Avg. Ep. Reward: 2.1947 \n",
      "Max Ep. Reward: 10.0000 \n",
      "Min Ep. Reward: 0.0000 \n",
      "# Game: 1433\n",
      "[*] Saving checkpoints...\n"
     ]
    },
    {
     "name": "stderr",
     "output_type": "stream",
     "text": [
      "  3%|▍               | 1499993/49900000 [6:27:41<236:46:27, 56.78it/s]"
     ]
    },
    {
     "name": "stdout",
     "output_type": "stream",
     "text": [
      "////////////////////////\n",
      "Average reward: 0.0640 \n",
      "Average loss: 0.056824 \n",
      "Average Q: 6.268853\n",
      "\n",
      "Avg. Ep. Reward: 2.3515 \n",
      "Max Ep. Reward: 11.0000 \n",
      "Min Ep. Reward: 0.0000 \n",
      "# Game: 1360\n",
      "[*] Saving checkpoints...\n"
     ]
    },
    {
     "name": "stderr",
     "output_type": "stream",
     "text": [
      "  3%|▍               | 1549997/49900000 [6:42:07<210:54:39, 63.68it/s]"
     ]
    },
    {
     "name": "stdout",
     "output_type": "stream",
     "text": [
      "////////////////////////\n",
      "Average reward: 0.0633 \n",
      "Average loss: 0.057410 \n",
      "Average Q: 6.475310\n",
      "\n",
      "Avg. Ep. Reward: 2.3121 \n",
      "Max Ep. Reward: 11.0000 \n",
      "Min Ep. Reward: 0.0000 \n",
      "# Game: 1368\n",
      "[*] Saving checkpoints...\n"
     ]
    },
    {
     "name": "stderr",
     "output_type": "stream",
     "text": [
      "  3%|▌               | 1599993/49900000 [6:56:20<215:20:00, 62.31it/s]"
     ]
    },
    {
     "name": "stdout",
     "output_type": "stream",
     "text": [
      "////////////////////////\n",
      "Average reward: 0.0620 \n",
      "Average loss: 0.055855 \n",
      "Average Q: 6.764640\n",
      "\n",
      "Avg. Ep. Reward: 2.1567 \n",
      "Max Ep. Reward: 10.0000 \n",
      "Min Ep. Reward: 0.0000 \n",
      "# Game: 1436\n",
      "[*] Saving checkpoints...\n"
     ]
    },
    {
     "name": "stderr",
     "output_type": "stream",
     "text": [
      "  3%|▌               | 1649999/49900000 [7:10:42<231:45:54, 57.83it/s]"
     ]
    },
    {
     "name": "stdout",
     "output_type": "stream",
     "text": [
      "////////////////////////\n",
      "Average reward: 0.0629 \n",
      "Average loss: 0.056107 \n",
      "Average Q: 6.958884\n",
      "\n",
      "Avg. Ep. Reward: 2.2219 \n",
      "Max Ep. Reward: 10.0000 \n",
      "Min Ep. Reward: 0.0000 \n",
      "# Game: 1415\n",
      "[*] Saving checkpoints...\n"
     ]
    },
    {
     "name": "stderr",
     "output_type": "stream",
     "text": [
      "  3%|▌               | 1699993/49900000 [7:25:14<229:01:50, 58.46it/s]"
     ]
    },
    {
     "name": "stdout",
     "output_type": "stream",
     "text": [
      "////////////////////////\n",
      "Average reward: 0.0635 \n",
      "Average loss: 0.053135 \n",
      "Average Q: 7.121434\n",
      "\n",
      "Avg. Ep. Reward: 2.2715 \n",
      "Max Ep. Reward: 12.0000 \n",
      "Min Ep. Reward: 0.0000 \n",
      "# Game: 1396\n",
      "[*] Saving checkpoints...\n"
     ]
    },
    {
     "name": "stderr",
     "output_type": "stream",
     "text": [
      "  4%|▌               | 1749993/49900000 [7:39:48<242:55:38, 55.06it/s]"
     ]
    },
    {
     "name": "stdout",
     "output_type": "stream",
     "text": [
      "////////////////////////\n",
      "Average reward: 0.0630 \n",
      "Average loss: 0.050960 \n",
      "Average Q: 7.290835\n",
      "\n",
      "Avg. Ep. Reward: 2.2895 \n",
      "Max Ep. Reward: 10.0000 \n",
      "Min Ep. Reward: 0.0000 \n",
      "# Game: 1375\n",
      "[*] Saving checkpoints...\n"
     ]
    },
    {
     "name": "stderr",
     "output_type": "stream",
     "text": [
      "  4%|▌               | 1799994/49900000 [7:54:27<227:22:34, 58.76it/s]"
     ]
    },
    {
     "name": "stdout",
     "output_type": "stream",
     "text": [
      "////////////////////////\n",
      "Average reward: 0.0615 \n",
      "Average loss: 0.049712 \n",
      "Average Q: 7.410751\n",
      "\n",
      "Avg. Ep. Reward: 2.2504 \n",
      "Max Ep. Reward: 10.0000 \n",
      "Min Ep. Reward: 0.0000 \n",
      "# Game: 1366\n",
      "[*] Saving checkpoints...\n"
     ]
    },
    {
     "name": "stderr",
     "output_type": "stream",
     "text": [
      "  4%|▌               | 1849996/49900000 [8:08:58<221:38:38, 60.22it/s]"
     ]
    },
    {
     "name": "stdout",
     "output_type": "stream",
     "text": [
      "////////////////////////\n",
      "Average reward: 0.0619 \n",
      "Average loss: 0.050430 \n",
      "Average Q: 7.571064\n",
      "\n",
      "Avg. Ep. Reward: 2.3742 \n",
      "Max Ep. Reward: 8.0000 \n",
      "Min Ep. Reward: 0.0000 \n",
      "# Game: 1304\n",
      "[*] Saving checkpoints...\n"
     ]
    },
    {
     "name": "stderr",
     "output_type": "stream",
     "text": [
      "  4%|▌               | 1899997/49900000 [8:23:35<223:01:55, 59.78it/s]"
     ]
    },
    {
     "name": "stdout",
     "output_type": "stream",
     "text": [
      "////////////////////////\n",
      "Average reward: 0.0622 \n",
      "Average loss: 0.049518 \n",
      "Average Q: 7.750849\n",
      "\n",
      "Avg. Ep. Reward: 2.2967 \n",
      "Max Ep. Reward: 13.0000 \n",
      "Min Ep. Reward: 0.0000 \n",
      "# Game: 1355\n",
      "[*] Saving checkpoints...\n"
     ]
    },
    {
     "name": "stderr",
     "output_type": "stream",
     "text": [
      "  4%|▋               | 1949999/49900000 [8:38:13<233:49:46, 56.96it/s]"
     ]
    },
    {
     "name": "stdout",
     "output_type": "stream",
     "text": [
      "////////////////////////\n",
      "Average reward: 0.0628 \n",
      "Average loss: 0.049443 \n",
      "Average Q: 7.909996\n",
      "\n",
      "Avg. Ep. Reward: 2.3088 \n",
      "Max Ep. Reward: 13.0000 \n",
      "Min Ep. Reward: 0.0000 \n",
      "# Game: 1360\n",
      "[*] Saving checkpoints...\n"
     ]
    },
    {
     "name": "stderr",
     "output_type": "stream",
     "text": [
      "  4%|▋               | 1999998/49900000 [8:52:48<242:51:22, 54.79it/s]"
     ]
    },
    {
     "name": "stdout",
     "output_type": "stream",
     "text": [
      "////////////////////////\n",
      "Average reward: 0.0636 \n",
      "Average loss: 0.049138 \n",
      "Average Q: 8.058322\n",
      "\n",
      "Avg. Ep. Reward: 2.3503 \n",
      "Max Ep. Reward: 10.0000 \n",
      "Min Ep. Reward: 0.0000 \n",
      "# Game: 1353\n",
      "[*] Saving checkpoints...\n"
     ]
    },
    {
     "name": "stderr",
     "output_type": "stream",
     "text": [
      "  4%|▋               | 2049995/49900000 [9:07:26<236:13:47, 56.27it/s]"
     ]
    },
    {
     "name": "stdout",
     "output_type": "stream",
     "text": [
      "////////////////////////\n",
      "Average reward: 0.0627 \n",
      "Average loss: 0.048198 \n",
      "Average Q: 8.134550\n",
      "\n",
      "Avg. Ep. Reward: 2.2659 \n",
      "Max Ep. Reward: 12.0000 \n",
      "Min Ep. Reward: 0.0000 \n",
      "# Game: 1384\n",
      "[*] Saving checkpoints...\n"
     ]
    },
    {
     "name": "stderr",
     "output_type": "stream",
     "text": [
      "  4%|▋               | 2099993/49900000 [9:22:05<242:49:43, 54.68it/s]"
     ]
    },
    {
     "name": "stdout",
     "output_type": "stream",
     "text": [
      "////////////////////////\n",
      "Average reward: 0.0634 \n",
      "Average loss: 0.047600 \n",
      "Average Q: 8.315713\n",
      "\n",
      "Avg. Ep. Reward: 2.3231 \n",
      "Max Ep. Reward: 12.0000 \n",
      "Min Ep. Reward: 0.0000 \n",
      "# Game: 1365\n",
      "[*] Saving checkpoints...\n"
     ]
    },
    {
     "name": "stderr",
     "output_type": "stream",
     "text": [
      "  4%|▋               | 2149993/49900000 [9:36:39<235:55:43, 56.22it/s]"
     ]
    },
    {
     "name": "stdout",
     "output_type": "stream",
     "text": [
      "////////////////////////\n",
      "Average reward: 0.0632 \n",
      "Average loss: 0.047934 \n",
      "Average Q: 8.497808\n",
      "\n",
      "Avg. Ep. Reward: 2.2984 \n",
      "Max Ep. Reward: 9.0000 \n",
      "Min Ep. Reward: 0.0000 \n",
      "# Game: 1374\n",
      "[*] Saving checkpoints...\n"
     ]
    },
    {
     "name": "stderr",
     "output_type": "stream",
     "text": [
      "  4%|▋               | 2199997/49900000 [9:51:13<235:21:35, 56.30it/s]"
     ]
    },
    {
     "name": "stdout",
     "output_type": "stream",
     "text": [
      "////////////////////////\n",
      "Average reward: 0.0635 \n",
      "Average loss: 0.047269 \n",
      "Average Q: 8.623283\n",
      "\n",
      "Avg. Ep. Reward: 2.2903 \n",
      "Max Ep. Reward: 12.0000 \n",
      "Min Ep. Reward: 0.0000 \n",
      "# Game: 1385\n",
      "[*] Saving checkpoints...\n"
     ]
    },
    {
     "name": "stderr",
     "output_type": "stream",
     "text": [
      "  5%|▋              | 2249999/49900000 [10:05:44<232:26:21, 56.94it/s]"
     ]
    },
    {
     "name": "stdout",
     "output_type": "stream",
     "text": [
      "////////////////////////\n",
      "Average reward: 0.0626 \n",
      "Average loss: 0.046461 \n",
      "Average Q: 8.681039\n",
      "\n",
      "Avg. Ep. Reward: 2.2646 \n",
      "Max Ep. Reward: 11.0000 \n",
      "Min Ep. Reward: 0.0000 \n",
      "# Game: 1383\n",
      "[*] Saving checkpoints...\n"
     ]
    },
    {
     "name": "stderr",
     "output_type": "stream",
     "text": [
      "  5%|▋              | 2299997/49900000 [10:20:12<247:33:40, 53.41it/s]"
     ]
    },
    {
     "name": "stdout",
     "output_type": "stream",
     "text": [
      "////////////////////////\n",
      "Average reward: 0.0632 \n",
      "Average loss: 0.046077 \n",
      "Average Q: 8.775906\n",
      "\n",
      "Avg. Ep. Reward: 2.2967 \n",
      "Max Ep. Reward: 8.0000 \n",
      "Min Ep. Reward: 0.0000 \n",
      "# Game: 1375\n",
      "[*] Saving checkpoints...\n"
     ]
    },
    {
     "name": "stderr",
     "output_type": "stream",
     "text": [
      "  5%|▋              | 2349993/49900000 [10:34:43<243:10:40, 54.32it/s]"
     ]
    },
    {
     "name": "stdout",
     "output_type": "stream",
     "text": [
      "////////////////////////\n",
      "Average reward: 0.0636 \n",
      "Average loss: 0.044936 \n",
      "Average Q: 8.872286\n",
      "\n",
      "Avg. Ep. Reward: 2.2944 \n",
      "Max Ep. Reward: 10.0000 \n",
      "Min Ep. Reward: 0.0000 \n",
      "# Game: 1386\n",
      "[*] Saving checkpoints...\n"
     ]
    },
    {
     "name": "stderr",
     "output_type": "stream",
     "text": [
      "  5%|▋              | 2399993/49900000 [10:49:23<230:53:18, 57.15it/s]"
     ]
    },
    {
     "name": "stdout",
     "output_type": "stream",
     "text": [
      "////////////////////////\n",
      "Average reward: 0.0641 \n",
      "Average loss: 0.044799 \n",
      "Average Q: 8.909322\n",
      "\n",
      "Avg. Ep. Reward: 2.3421 \n",
      "Max Ep. Reward: 10.0000 \n",
      "Min Ep. Reward: 0.0000 \n",
      "# Game: 1368\n",
      "[*] Saving checkpoints...\n"
     ]
    },
    {
     "name": "stderr",
     "output_type": "stream",
     "text": [
      "  5%|▋              | 2449997/49900000 [11:04:01<228:29:53, 57.68it/s]"
     ]
    },
    {
     "name": "stdout",
     "output_type": "stream",
     "text": [
      "////////////////////////\n",
      "Average reward: 0.0643 \n",
      "Average loss: 0.044116 \n",
      "Average Q: 8.971611\n",
      "\n",
      "Avg. Ep. Reward: 2.3423 \n",
      "Max Ep. Reward: 9.0000 \n",
      "Min Ep. Reward: 0.0000 \n",
      "# Game: 1370\n",
      "[*] Saving checkpoints...\n"
     ]
    },
    {
     "name": "stderr",
     "output_type": "stream",
     "text": [
      "  5%|▊              | 2499993/49900000 [11:18:35<235:46:36, 55.84it/s]"
     ]
    },
    {
     "name": "stdout",
     "output_type": "stream",
     "text": [
      "////////////////////////\n",
      "Average reward: 0.0629 \n",
      "Average loss: 0.044225 \n",
      "Average Q: 9.096549\n",
      "\n",
      "Avg. Ep. Reward: 2.1894 \n",
      "Max Ep. Reward: 11.0000 \n",
      "Min Ep. Reward: 0.0000 \n",
      "# Game: 1436\n",
      "[*] Saving checkpoints...\n"
     ]
    },
    {
     "name": "stderr",
     "output_type": "stream",
     "text": [
      "  5%|▊              | 2549997/49900000 [11:33:09<234:26:51, 56.10it/s]"
     ]
    },
    {
     "name": "stdout",
     "output_type": "stream",
     "text": [
      "////////////////////////\n",
      "Average reward: 0.0639 \n",
      "Average loss: 0.044287 \n",
      "Average Q: 9.193831\n",
      "\n",
      "Avg. Ep. Reward: 2.2880 \n",
      "Max Ep. Reward: 9.0000 \n",
      "Min Ep. Reward: 0.0000 \n",
      "# Game: 1396\n",
      "[*] Saving checkpoints...\n"
     ]
    },
    {
     "name": "stderr",
     "output_type": "stream",
     "text": [
      "  5%|▊              | 2599997/49900000 [11:47:41<250:10:33, 52.52it/s]"
     ]
    },
    {
     "name": "stdout",
     "output_type": "stream",
     "text": [
      "////////////////////////\n",
      "Average reward: 0.0630 \n",
      "Average loss: 0.043745 \n",
      "Average Q: 9.258631\n",
      "\n",
      "Avg. Ep. Reward: 2.1859 \n",
      "Max Ep. Reward: 11.0000 \n",
      "Min Ep. Reward: 0.0000 \n",
      "# Game: 1442\n",
      "[*] Saving checkpoints...\n"
     ]
    },
    {
     "name": "stderr",
     "output_type": "stream",
     "text": [
      "  5%|▊              | 2649999/49900000 [12:02:18<229:35:08, 57.17it/s]"
     ]
    },
    {
     "name": "stdout",
     "output_type": "stream",
     "text": [
      "////////////////////////\n",
      "Average reward: 0.0640 \n",
      "Average loss: 0.042963 \n",
      "Average Q: 9.199065\n",
      "\n",
      "Avg. Ep. Reward: 2.2479 \n",
      "Max Ep. Reward: 11.0000 \n",
      "Min Ep. Reward: 0.0000 \n",
      "# Game: 1424\n",
      "[*] Saving checkpoints...\n"
     ]
    },
    {
     "name": "stderr",
     "output_type": "stream",
     "text": [
      "  5%|▊              | 2699996/49900000 [12:16:54<218:40:23, 59.96it/s]"
     ]
    },
    {
     "name": "stdout",
     "output_type": "stream",
     "text": [
      "////////////////////////\n",
      "Average reward: 0.0647 \n",
      "Average loss: 0.042221 \n",
      "Average Q: 9.212097\n",
      "\n",
      "Avg. Ep. Reward: 2.3435 \n",
      "Max Ep. Reward: 11.0000 \n",
      "Min Ep. Reward: 0.0000 \n",
      "# Game: 1380\n",
      "[*] Saving checkpoints...\n"
     ]
    },
    {
     "name": "stderr",
     "output_type": "stream",
     "text": [
      "  6%|▊              | 2749993/49900000 [12:31:32<233:05:06, 56.19it/s]"
     ]
    },
    {
     "name": "stdout",
     "output_type": "stream",
     "text": [
      "////////////////////////\n",
      "Average reward: 0.0640 \n",
      "Average loss: 0.040516 \n",
      "Average Q: 9.238079\n",
      "\n",
      "Avg. Ep. Reward: 2.1986 \n",
      "Max Ep. Reward: 13.0000 \n",
      "Min Ep. Reward: 0.0000 \n",
      "# Game: 1455\n",
      "[*] Saving checkpoints...\n"
     ]
    },
    {
     "name": "stderr",
     "output_type": "stream",
     "text": [
      "  6%|▊              | 2799998/49900000 [12:46:04<244:25:56, 53.53it/s]"
     ]
    },
    {
     "name": "stdout",
     "output_type": "stream",
     "text": [
      "////////////////////////\n",
      "Average reward: 0.0642 \n",
      "Average loss: 0.040890 \n",
      "Average Q: 9.236434\n",
      "\n",
      "Avg. Ep. Reward: 2.2302 \n",
      "Max Ep. Reward: 16.0000 \n",
      "Min Ep. Reward: 0.0000 \n",
      "# Game: 1438\n",
      "[*] Saving checkpoints...\n"
     ]
    },
    {
     "name": "stderr",
     "output_type": "stream",
     "text": [
      "  6%|▊              | 2849996/49900000 [13:00:39<224:50:43, 58.13it/s]"
     ]
    },
    {
     "name": "stdout",
     "output_type": "stream",
     "text": [
      "////////////////////////\n",
      "Average reward: 0.0651 \n",
      "Average loss: 0.040909 \n",
      "Average Q: 9.280494\n",
      "\n",
      "Avg. Ep. Reward: 2.3597 \n",
      "Max Ep. Reward: 11.0000 \n",
      "Min Ep. Reward: 0.0000 \n",
      "# Game: 1379\n",
      "[*] Saving checkpoints...\n"
     ]
    },
    {
     "name": "stderr",
     "output_type": "stream",
     "text": [
      "  6%|▊              | 2899996/49900000 [13:15:12<222:25:43, 58.70it/s]"
     ]
    },
    {
     "name": "stdout",
     "output_type": "stream",
     "text": [
      "////////////////////////\n",
      "Average reward: 0.0652 \n",
      "Average loss: 0.041121 \n",
      "Average Q: 9.355304\n",
      "\n",
      "Avg. Ep. Reward: 2.4303 \n",
      "Max Ep. Reward: 12.0000 \n",
      "Min Ep. Reward: 0.0000 \n",
      "# Game: 1341\n",
      "[*] Saving checkpoints...\n"
     ]
    },
    {
     "name": "stderr",
     "output_type": "stream",
     "text": [
      "  6%|▉              | 2949993/49900000 [13:29:49<243:12:32, 53.62it/s]"
     ]
    },
    {
     "name": "stdout",
     "output_type": "stream",
     "text": [
      "////////////////////////\n",
      "Average reward: 0.0653 \n",
      "Average loss: 0.039788 \n",
      "Average Q: 9.412079\n",
      "\n",
      "Avg. Ep. Reward: 2.4424 \n",
      "Max Ep. Reward: 11.0000 \n",
      "Min Ep. Reward: 0.0000 \n",
      "# Game: 1336\n",
      "[*] Saving checkpoints...\n"
     ]
    },
    {
     "name": "stderr",
     "output_type": "stream",
     "text": [
      "  6%|▉              | 2999993/49900000 [13:44:28<224:50:34, 57.94it/s]"
     ]
    },
    {
     "name": "stdout",
     "output_type": "stream",
     "text": [
      "////////////////////////\n",
      "Average reward: 0.0654 \n",
      "Average loss: 0.040010 \n",
      "Average Q: 9.408444\n",
      "\n",
      "Avg. Ep. Reward: 2.4019 \n",
      "Max Ep. Reward: 12.0000 \n",
      "Min Ep. Reward: 0.0000 \n",
      "# Game: 1361\n",
      "[*] Saving checkpoints...\n"
     ]
    },
    {
     "name": "stderr",
     "output_type": "stream",
     "text": [
      "  6%|▉              | 3049993/49900000 [13:59:06<224:22:50, 58.00it/s]"
     ]
    },
    {
     "name": "stdout",
     "output_type": "stream",
     "text": [
      "////////////////////////\n",
      "Average reward: 0.0654 \n",
      "Average loss: 0.039215 \n",
      "Average Q: 9.414415\n",
      "\n",
      "Avg. Ep. Reward: 2.3991 \n",
      "Max Ep. Reward: 13.0000 \n",
      "Min Ep. Reward: 0.0000 \n",
      "# Game: 1363\n",
      "[*] Saving checkpoints...\n"
     ]
    },
    {
     "name": "stderr",
     "output_type": "stream",
     "text": [
      "  6%|▉              | 3099997/49900000 [14:13:34<231:53:45, 56.06it/s]"
     ]
    },
    {
     "name": "stdout",
     "output_type": "stream",
     "text": [
      "////////////////////////\n",
      "Average reward: 0.0659 \n",
      "Average loss: 0.039096 \n",
      "Average Q: 9.385376\n",
      "\n",
      "Avg. Ep. Reward: 2.5338 \n",
      "Max Ep. Reward: 14.0000 \n",
      "Min Ep. Reward: 0.0000 \n",
      "# Game: 1300\n",
      "[*] Saving checkpoints...\n"
     ]
    },
    {
     "name": "stderr",
     "output_type": "stream",
     "text": [
      "  6%|▉              | 3149993/49900000 [14:28:14<235:15:42, 55.20it/s]"
     ]
    },
    {
     "name": "stdout",
     "output_type": "stream",
     "text": [
      "////////////////////////\n",
      "Average reward: 0.0647 \n",
      "Average loss: 0.038955 \n",
      "Average Q: 9.365218\n",
      "\n",
      "Avg. Ep. Reward: 2.3620 \n",
      "Max Ep. Reward: 15.0000 \n",
      "Min Ep. Reward: 0.0000 \n",
      "# Game: 1370\n",
      "[*] Saving checkpoints...\n"
     ]
    },
    {
     "name": "stderr",
     "output_type": "stream",
     "text": [
      "  6%|▉              | 3199997/49900000 [14:42:56<233:57:46, 55.45it/s]"
     ]
    },
    {
     "name": "stdout",
     "output_type": "stream",
     "text": [
      "////////////////////////\n",
      "Average reward: 0.0655 \n",
      "Average loss: 0.039008 \n",
      "Average Q: 9.368443\n",
      "\n",
      "Avg. Ep. Reward: 2.4913 \n",
      "Max Ep. Reward: 11.0000 \n",
      "Min Ep. Reward: 0.0000 \n",
      "# Game: 1315\n",
      "[*] Saving checkpoints...\n"
     ]
    },
    {
     "name": "stderr",
     "output_type": "stream",
     "text": [
      "  7%|▉              | 3249993/49900000 [14:57:30<233:39:38, 55.46it/s]"
     ]
    },
    {
     "name": "stdout",
     "output_type": "stream",
     "text": [
      "////////////////////////\n",
      "Average reward: 0.0664 \n",
      "Average loss: 0.038016 \n",
      "Average Q: 9.348012\n",
      "\n",
      "Avg. Ep. Reward: 2.5967 \n",
      "Max Ep. Reward: 11.0000 \n",
      "Min Ep. Reward: 0.0000 \n",
      "# Game: 1277\n",
      "[*] Saving checkpoints...\n"
     ]
    },
    {
     "name": "stderr",
     "output_type": "stream",
     "text": [
      "  7%|▉              | 3299997/49900000 [15:12:02<233:16:06, 55.49it/s]"
     ]
    },
    {
     "name": "stdout",
     "output_type": "stream",
     "text": [
      "////////////////////////\n",
      "Average reward: 0.0659 \n",
      "Average loss: 0.037463 \n",
      "Average Q: 9.321322\n",
      "\n",
      "Avg. Ep. Reward: 2.4872 \n",
      "Max Ep. Reward: 12.0000 \n",
      "Min Ep. Reward: 0.0000 \n",
      "# Game: 1324\n",
      "[*] Saving checkpoints...\n"
     ]
    },
    {
     "name": "stderr",
     "output_type": "stream",
     "text": [
      "  7%|█              | 3349993/49900000 [15:26:37<231:57:57, 55.74it/s]"
     ]
    },
    {
     "name": "stdout",
     "output_type": "stream",
     "text": [
      "////////////////////////\n",
      "Average reward: 0.0663 \n",
      "Average loss: 0.037526 \n",
      "Average Q: 9.281428\n",
      "\n",
      "Avg. Ep. Reward: 2.5965 \n",
      "Max Ep. Reward: 15.0000 \n",
      "Min Ep. Reward: 0.0000 \n",
      "# Game: 1274\n",
      "[*] Saving checkpoints...\n"
     ]
    },
    {
     "name": "stderr",
     "output_type": "stream",
     "text": [
      "  7%|█              | 3399997/49900000 [15:41:09<223:35:06, 57.77it/s]"
     ]
    },
    {
     "name": "stdout",
     "output_type": "stream",
     "text": [
      "////////////////////////\n",
      "Average reward: 0.0663 \n",
      "Average loss: 0.037282 \n",
      "Average Q: 9.257130\n",
      "\n",
      "Avg. Ep. Reward: 2.5754 \n",
      "Max Ep. Reward: 9.0000 \n",
      "Min Ep. Reward: 0.0000 \n",
      "# Game: 1286\n",
      "[*] Saving checkpoints...\n"
     ]
    },
    {
     "name": "stderr",
     "output_type": "stream",
     "text": [
      "  7%|█              | 3449993/49900000 [15:55:42<225:39:57, 57.18it/s]"
     ]
    },
    {
     "name": "stdout",
     "output_type": "stream",
     "text": [
      "////////////////////////\n",
      "Average reward: 0.0667 \n",
      "Average loss: 0.036989 \n",
      "Average Q: 9.219107\n",
      "\n",
      "Avg. Ep. Reward: 2.5038 \n",
      "Max Ep. Reward: 11.0000 \n",
      "Min Ep. Reward: 0.0000 \n",
      "# Game: 1332\n",
      "[*] Saving checkpoints...\n"
     ]
    },
    {
     "name": "stderr",
     "output_type": "stream",
     "text": [
      "  7%|█              | 3499998/49900000 [16:10:15<237:17:40, 54.32it/s]"
     ]
    },
    {
     "name": "stdout",
     "output_type": "stream",
     "text": [
      "////////////////////////\n",
      "Average reward: 0.0671 \n",
      "Average loss: 0.036324 \n",
      "Average Q: 9.182218\n",
      "\n",
      "Avg. Ep. Reward: 2.5683 \n",
      "Max Ep. Reward: 17.0000 \n",
      "Min Ep. Reward: 0.0000 \n",
      "# Game: 1304\n",
      "[*] Saving checkpoints...\n"
     ]
    },
    {
     "name": "stderr",
     "output_type": "stream",
     "text": [
      "  7%|█              | 3549997/49900000 [16:24:45<218:04:42, 59.04it/s]"
     ]
    },
    {
     "name": "stdout",
     "output_type": "stream",
     "text": [
      "////////////////////////\n",
      "Average reward: 0.0676 \n",
      "Average loss: 0.037259 \n",
      "Average Q: 9.209851\n",
      "\n",
      "Avg. Ep. Reward: 2.6502 \n",
      "Max Ep. Reward: 13.0000 \n",
      "Min Ep. Reward: 0.0000 \n",
      "# Game: 1275\n",
      "[*] Saving checkpoints...\n"
     ]
    },
    {
     "name": "stderr",
     "output_type": "stream",
     "text": [
      "  7%|█              | 3599998/49900000 [16:39:14<220:23:47, 58.35it/s]"
     ]
    },
    {
     "name": "stdout",
     "output_type": "stream",
     "text": [
      "////////////////////////\n",
      "Average reward: 0.0683 \n",
      "Average loss: 0.036484 \n",
      "Average Q: 9.220040\n",
      "\n",
      "Avg. Ep. Reward: 2.7015 \n",
      "Max Ep. Reward: 12.0000 \n",
      "Min Ep. Reward: 0.0000 \n",
      "# Game: 1263\n",
      "[*] Saving checkpoints...\n"
     ]
    },
    {
     "name": "stderr",
     "output_type": "stream",
     "text": [
      "  7%|█              | 3649999/49900000 [16:53:53<224:05:51, 57.33it/s]"
     ]
    },
    {
     "name": "stdout",
     "output_type": "stream",
     "text": [
      "////////////////////////\n",
      "Average reward: 0.0676 \n",
      "Average loss: 0.035913 \n",
      "Average Q: 9.150815\n",
      "\n",
      "Avg. Ep. Reward: 2.6199 \n",
      "Max Ep. Reward: 10.0000 \n",
      "Min Ep. Reward: 0.0000 \n",
      "# Game: 1289\n",
      "[*] Saving checkpoints...\n"
     ]
    },
    {
     "name": "stderr",
     "output_type": "stream",
     "text": [
      "  7%|█              | 3699997/49900000 [17:08:30<229:39:35, 55.88it/s]"
     ]
    },
    {
     "name": "stdout",
     "output_type": "stream",
     "text": [
      "////////////////////////\n",
      "Average reward: 0.0676 \n",
      "Average loss: 0.035993 \n",
      "Average Q: 9.121728\n",
      "\n",
      "Avg. Ep. Reward: 2.6229 \n",
      "Max Ep. Reward: 12.0000 \n",
      "Min Ep. Reward: 0.0000 \n",
      "# Game: 1286\n",
      "[*] Saving checkpoints...\n"
     ]
    },
    {
     "name": "stderr",
     "output_type": "stream",
     "text": [
      "  8%|█▏             | 3749993/49900000 [17:23:04<210:25:35, 60.92it/s]"
     ]
    },
    {
     "name": "stdout",
     "output_type": "stream",
     "text": [
      "////////////////////////\n",
      "Average reward: 0.0666 \n",
      "Average loss: 0.035387 \n",
      "Average Q: 9.087604\n",
      "\n",
      "Avg. Ep. Reward: 2.5459 \n",
      "Max Ep. Reward: 13.0000 \n",
      "Min Ep. Reward: 0.0000 \n",
      "# Game: 1308\n",
      "[*] Saving checkpoints...\n"
     ]
    },
    {
     "name": "stderr",
     "output_type": "stream",
     "text": [
      "  8%|█▏             | 3799993/49900000 [17:37:35<233:47:32, 54.77it/s]"
     ]
    },
    {
     "name": "stdout",
     "output_type": "stream",
     "text": [
      "////////////////////////\n",
      "Average reward: 0.0679 \n",
      "Average loss: 0.035510 \n",
      "Average Q: 9.099642\n",
      "\n",
      "Avg. Ep. Reward: 2.6302 \n",
      "Max Ep. Reward: 12.0000 \n",
      "Min Ep. Reward: 0.0000 \n",
      "# Game: 1290\n",
      "[*] Saving checkpoints...\n"
     ]
    },
    {
     "name": "stderr",
     "output_type": "stream",
     "text": [
      "  8%|█▏             | 3849993/49900000 [17:52:05<238:19:03, 53.67it/s]"
     ]
    },
    {
     "name": "stdout",
     "output_type": "stream",
     "text": [
      "////////////////////////\n",
      "Average reward: 0.0682 \n",
      "Average loss: 0.035449 \n",
      "Average Q: 9.080185\n",
      "\n",
      "Avg. Ep. Reward: 2.7324 \n",
      "Max Ep. Reward: 17.0000 \n",
      "Min Ep. Reward: 0.0000 \n",
      "# Game: 1248\n",
      "[*] Saving checkpoints...\n"
     ]
    },
    {
     "name": "stderr",
     "output_type": "stream",
     "text": [
      "  8%|█▏             | 3899993/49900000 [18:06:42<226:57:43, 56.30it/s]"
     ]
    },
    {
     "name": "stdout",
     "output_type": "stream",
     "text": [
      "////////////////////////\n",
      "Average reward: 0.0683 \n",
      "Average loss: 0.035428 \n",
      "Average Q: 9.052052\n",
      "\n",
      "Avg. Ep. Reward: 2.6363 \n",
      "Max Ep. Reward: 12.0000 \n",
      "Min Ep. Reward: 0.0000 \n",
      "# Game: 1295\n",
      "[*] Saving checkpoints...\n"
     ]
    },
    {
     "name": "stderr",
     "output_type": "stream",
     "text": [
      "  8%|█▏             | 3949993/49900000 [18:21:17<231:46:48, 55.07it/s]"
     ]
    },
    {
     "name": "stdout",
     "output_type": "stream",
     "text": [
      "////////////////////////\n",
      "Average reward: 0.0681 \n",
      "Average loss: 0.034937 \n",
      "Average Q: 9.028500\n",
      "\n",
      "Avg. Ep. Reward: 2.6589 \n",
      "Max Ep. Reward: 13.0000 \n",
      "Min Ep. Reward: 0.0000 \n",
      "# Game: 1281\n",
      "[*] Saving checkpoints...\n"
     ]
    },
    {
     "name": "stderr",
     "output_type": "stream",
     "text": [
      "  8%|█▏             | 3999993/49900000 [18:35:51<225:07:43, 56.63it/s]"
     ]
    },
    {
     "name": "stdout",
     "output_type": "stream",
     "text": [
      "////////////////////////\n",
      "Average reward: 0.0687 \n",
      "Average loss: 0.034527 \n",
      "Average Q: 9.012072\n",
      "\n",
      "Avg. Ep. Reward: 2.6891 \n",
      "Max Ep. Reward: 13.0000 \n",
      "Min Ep. Reward: 0.0000 \n",
      "# Game: 1277\n",
      "[*] Saving checkpoints...\n"
     ]
    },
    {
     "name": "stderr",
     "output_type": "stream",
     "text": [
      "  8%|█▏             | 4049997/49900000 [18:50:32<235:33:54, 54.07it/s]"
     ]
    },
    {
     "name": "stdout",
     "output_type": "stream",
     "text": [
      "////////////////////////\n",
      "Average reward: 0.0677 \n",
      "Average loss: 0.034314 \n",
      "Average Q: 8.967712\n",
      "\n",
      "Avg. Ep. Reward: 2.5959 \n",
      "Max Ep. Reward: 13.0000 \n",
      "Min Ep. Reward: 0.0000 \n",
      "# Game: 1304\n",
      "[*] Saving checkpoints...\n"
     ]
    },
    {
     "name": "stderr",
     "output_type": "stream",
     "text": [
      "  8%|█▏             | 4099993/49900000 [19:05:01<220:10:07, 57.78it/s]"
     ]
    },
    {
     "name": "stdout",
     "output_type": "stream",
     "text": [
      "////////////////////////\n",
      "Average reward: 0.0678 \n",
      "Average loss: 0.034516 \n",
      "Average Q: 8.896744\n",
      "\n",
      "Avg. Ep. Reward: 2.6248 \n",
      "Max Ep. Reward: 14.0000 \n",
      "Min Ep. Reward: 0.0000 \n",
      "# Game: 1290\n",
      "[*] Saving checkpoints...\n"
     ]
    },
    {
     "name": "stderr",
     "output_type": "stream",
     "text": [
      "  8%|█▏             | 4149997/49900000 [19:19:34<229:34:55, 55.35it/s]"
     ]
    },
    {
     "name": "stdout",
     "output_type": "stream",
     "text": [
      "////////////////////////\n",
      "Average reward: 0.0683 \n",
      "Average loss: 0.034768 \n",
      "Average Q: 8.878876\n",
      "\n",
      "Avg. Ep. Reward: 2.6610 \n",
      "Max Ep. Reward: 12.0000 \n",
      "Min Ep. Reward: 0.0000 \n",
      "# Game: 1283\n",
      "[*] Saving checkpoints...\n"
     ]
    },
    {
     "name": "stderr",
     "output_type": "stream",
     "text": [
      "  8%|█▎             | 4199995/49900000 [19:34:10<211:24:18, 60.05it/s]"
     ]
    },
    {
     "name": "stdout",
     "output_type": "stream",
     "text": [
      "////////////////////////\n",
      "Average reward: 0.0675 \n",
      "Average loss: 0.034452 \n",
      "Average Q: 8.859573\n",
      "\n",
      "Avg. Ep. Reward: 2.6054 \n",
      "Max Ep. Reward: 13.0000 \n",
      "Min Ep. Reward: 0.0000 \n",
      "# Game: 1295\n",
      "[*] Saving checkpoints...\n"
     ]
    },
    {
     "name": "stderr",
     "output_type": "stream",
     "text": [
      "  9%|█▎             | 4249997/49900000 [19:48:42<227:17:33, 55.79it/s]"
     ]
    },
    {
     "name": "stdout",
     "output_type": "stream",
     "text": [
      "////////////////////////\n",
      "Average reward: 0.0666 \n",
      "Average loss: 0.034611 \n",
      "Average Q: 8.882112\n",
      "\n",
      "Avg. Ep. Reward: 2.5254 \n",
      "Max Ep. Reward: 14.0000 \n",
      "Min Ep. Reward: 0.0000 \n",
      "# Game: 1319\n",
      "[*] Saving checkpoints...\n"
     ]
    },
    {
     "name": "stderr",
     "output_type": "stream",
     "text": [
      "  9%|█▎             | 4299997/49900000 [20:03:15<216:00:38, 58.64it/s]"
     ]
    },
    {
     "name": "stdout",
     "output_type": "stream",
     "text": [
      "////////////////////////\n",
      "Average reward: 0.0687 \n",
      "Average loss: 0.034179 \n",
      "Average Q: 8.856148\n",
      "\n",
      "Avg. Ep. Reward: 2.6897 \n",
      "Max Ep. Reward: 11.0000 \n",
      "Min Ep. Reward: 0.0000 \n",
      "# Game: 1276\n",
      "[*] Saving checkpoints...\n"
     ]
    },
    {
     "name": "stderr",
     "output_type": "stream",
     "text": [
      "  9%|█▎             | 4349993/49900000 [20:17:52<218:09:56, 58.00it/s]"
     ]
    },
    {
     "name": "stdout",
     "output_type": "stream",
     "text": [
      "////////////////////////\n",
      "Average reward: 0.0690 \n",
      "Average loss: 0.033791 \n",
      "Average Q: 8.829531\n",
      "\n",
      "Avg. Ep. Reward: 2.7598 \n",
      "Max Ep. Reward: 16.0000 \n",
      "Min Ep. Reward: 0.0000 \n",
      "# Game: 1249\n",
      "[*] Saving checkpoints...\n"
     ]
    },
    {
     "name": "stderr",
     "output_type": "stream",
     "text": [
      "  9%|█▎             | 4399997/49900000 [20:32:26<217:07:28, 58.21it/s]"
     ]
    },
    {
     "name": "stdout",
     "output_type": "stream",
     "text": [
      "////////////////////////\n",
      "Average reward: 0.0681 \n",
      "Average loss: 0.034341 \n",
      "Average Q: 8.786747\n",
      "\n",
      "Avg. Ep. Reward: 2.5768 \n",
      "Max Ep. Reward: 12.0000 \n",
      "Min Ep. Reward: 0.0000 \n",
      "# Game: 1321\n",
      "[*] Saving checkpoints...\n"
     ]
    },
    {
     "name": "stderr",
     "output_type": "stream",
     "text": [
      "  9%|█▎             | 4449995/49900000 [20:47:02<230:09:34, 54.85it/s]"
     ]
    },
    {
     "name": "stdout",
     "output_type": "stream",
     "text": [
      "////////////////////////\n",
      "Average reward: 0.0678 \n",
      "Average loss: 0.034645 \n",
      "Average Q: 8.743765\n",
      "\n",
      "Avg. Ep. Reward: 2.6599 \n",
      "Max Ep. Reward: 11.0000 \n",
      "Min Ep. Reward: 0.0000 \n",
      "# Game: 1273\n",
      "[*] Saving checkpoints...\n"
     ]
    },
    {
     "name": "stderr",
     "output_type": "stream",
     "text": [
      "  9%|█▎             | 4499993/49900000 [21:01:35<216:29:47, 58.25it/s]"
     ]
    },
    {
     "name": "stdout",
     "output_type": "stream",
     "text": [
      "////////////////////////\n",
      "Average reward: 0.0688 \n",
      "Average loss: 0.034203 \n",
      "Average Q: 8.664640\n",
      "\n",
      "Avg. Ep. Reward: 2.6553 \n",
      "Max Ep. Reward: 13.0000 \n",
      "Min Ep. Reward: 0.0000 \n",
      "# Game: 1294\n",
      "[*] Saving checkpoints...\n"
     ]
    },
    {
     "name": "stderr",
     "output_type": "stream",
     "text": [
      "  9%|█▎             | 4549995/49900000 [21:16:03<223:58:29, 56.24it/s]"
     ]
    },
    {
     "name": "stdout",
     "output_type": "stream",
     "text": [
      "////////////////////////\n",
      "Average reward: 0.0684 \n",
      "Average loss: 0.034236 \n",
      "Average Q: 8.625840\n",
      "\n",
      "Avg. Ep. Reward: 2.6688 \n",
      "Max Ep. Reward: 12.0000 \n",
      "Min Ep. Reward: 0.0000 \n",
      "# Game: 1280\n",
      "[*] Saving checkpoints...\n"
     ]
    },
    {
     "name": "stderr",
     "output_type": "stream",
     "text": [
      "  9%|█▍             | 4599996/49900000 [21:30:37<208:12:58, 60.43it/s]"
     ]
    },
    {
     "name": "stdout",
     "output_type": "stream",
     "text": [
      "////////////////////////\n",
      "Average reward: 0.0685 \n",
      "Average loss: 0.034119 \n",
      "Average Q: 8.589478\n",
      "\n",
      "Avg. Ep. Reward: 2.6977 \n",
      "Max Ep. Reward: 14.0000 \n",
      "Min Ep. Reward: 0.0000 \n",
      "# Game: 1267\n",
      "[*] Saving checkpoints...\n"
     ]
    },
    {
     "name": "stderr",
     "output_type": "stream",
     "text": [
      "  9%|█▍             | 4649999/49900000 [21:45:11<212:40:35, 59.10it/s]"
     ]
    },
    {
     "name": "stdout",
     "output_type": "stream",
     "text": [
      "////////////////////////\n",
      "Average reward: 0.0683 \n",
      "Average loss: 0.034213 \n",
      "Average Q: 8.553996\n",
      "\n",
      "Avg. Ep. Reward: 2.7044 \n",
      "Max Ep. Reward: 14.0000 \n",
      "Min Ep. Reward: 0.0000 \n",
      "# Game: 1262\n",
      "[*] Saving checkpoints...\n"
     ]
    },
    {
     "name": "stderr",
     "output_type": "stream",
     "text": [
      "  9%|█▍             | 4699996/49900000 [21:59:44<206:53:37, 60.69it/s]"
     ]
    },
    {
     "name": "stdout",
     "output_type": "stream",
     "text": [
      "////////////////////////\n",
      "Average reward: 0.0674 \n",
      "Average loss: 0.034183 \n",
      "Average Q: 8.447070\n",
      "\n",
      "Avg. Ep. Reward: 2.5816 \n",
      "Max Ep. Reward: 13.0000 \n",
      "Min Ep. Reward: 0.0000 \n",
      "# Game: 1305\n",
      "[*] Saving checkpoints...\n"
     ]
    },
    {
     "name": "stderr",
     "output_type": "stream",
     "text": [
      " 10%|█▍             | 4749993/49900000 [22:14:15<223:59:32, 55.99it/s]"
     ]
    },
    {
     "name": "stdout",
     "output_type": "stream",
     "text": [
      "////////////////////////\n",
      "Average reward: 0.0680 \n",
      "Average loss: 0.034471 \n",
      "Average Q: 8.393321\n",
      "\n",
      "Avg. Ep. Reward: 2.6709 \n",
      "Max Ep. Reward: 15.0000 \n",
      "Min Ep. Reward: 0.0000 \n",
      "# Game: 1273\n",
      "[*] Saving checkpoints...\n"
     ]
    },
    {
     "name": "stderr",
     "output_type": "stream",
     "text": [
      " 10%|█▍             | 4799996/49900000 [22:28:51<204:35:38, 61.23it/s]"
     ]
    },
    {
     "name": "stdout",
     "output_type": "stream",
     "text": [
      "////////////////////////\n",
      "Average reward: 0.0682 \n",
      "Average loss: 0.034997 \n",
      "Average Q: 8.354055\n",
      "\n",
      "Avg. Ep. Reward: 2.6524 \n",
      "Max Ep. Reward: 14.0000 \n",
      "Min Ep. Reward: 0.0000 \n",
      "# Game: 1286\n",
      "[*] Saving checkpoints...\n"
     ]
    },
    {
     "name": "stderr",
     "output_type": "stream",
     "text": [
      " 10%|█▍             | 4849995/49900000 [22:43:23<219:53:12, 56.91it/s]"
     ]
    },
    {
     "name": "stdout",
     "output_type": "stream",
     "text": [
      "////////////////////////\n",
      "Average reward: 0.0680 \n",
      "Average loss: 0.033830 \n",
      "Average Q: 8.312289\n",
      "\n",
      "Avg. Ep. Reward: 2.6472 \n",
      "Max Ep. Reward: 14.0000 \n",
      "Min Ep. Reward: 0.0000 \n",
      "# Game: 1284\n",
      "[*] Saving checkpoints...\n"
     ]
    },
    {
     "name": "stderr",
     "output_type": "stream",
     "text": [
      " 10%|█▍             | 4899997/49900000 [22:57:54<220:42:00, 56.64it/s]"
     ]
    },
    {
     "name": "stdout",
     "output_type": "stream",
     "text": [
      "////////////////////////\n",
      "Average reward: 0.0680 \n",
      "Average loss: 0.034456 \n",
      "Average Q: 8.238815\n",
      "\n",
      "Avg. Ep. Reward: 2.6811 \n",
      "Max Ep. Reward: 11.0000 \n",
      "Min Ep. Reward: 0.0000 \n",
      "# Game: 1267\n",
      "[*] Saving checkpoints...\n"
     ]
    },
    {
     "name": "stderr",
     "output_type": "stream",
     "text": [
      " 10%|█▍             | 4949997/49900000 [23:12:29<227:50:30, 54.80it/s]"
     ]
    },
    {
     "name": "stdout",
     "output_type": "stream",
     "text": [
      "////////////////////////\n",
      "Average reward: 0.0684 \n",
      "Average loss: 0.034049 \n",
      "Average Q: 8.168776\n",
      "\n",
      "Avg. Ep. Reward: 2.7352 \n",
      "Max Ep. Reward: 13.0000 \n",
      "Min Ep. Reward: 0.0000 \n",
      "# Game: 1250\n",
      "[*] Saving checkpoints...\n"
     ]
    },
    {
     "name": "stderr",
     "output_type": "stream",
     "text": [
      " 10%|█▌             | 4999996/49900000 [23:27:07<212:54:49, 58.58it/s]"
     ]
    },
    {
     "name": "stdout",
     "output_type": "stream",
     "text": [
      "////////////////////////\n",
      "Average reward: 0.0692 \n",
      "Average loss: 0.033490 \n",
      "Average Q: 8.133943\n",
      "\n",
      "Avg. Ep. Reward: 2.7731 \n",
      "Max Ep. Reward: 14.0000 \n",
      "Min Ep. Reward: 0.0000 \n",
      "# Game: 1247\n",
      "[*] Saving checkpoints...\n"
     ]
    },
    {
     "name": "stderr",
     "output_type": "stream",
     "text": [
      " 10%|█▌             | 5049997/49900000 [23:41:40<224:41:51, 55.44it/s]"
     ]
    },
    {
     "name": "stdout",
     "output_type": "stream",
     "text": [
      "////////////////////////\n",
      "Average reward: 0.0694 \n",
      "Average loss: 0.033674 \n",
      "Average Q: 8.111031\n",
      "\n",
      "Avg. Ep. Reward: 2.8202 \n",
      "Max Ep. Reward: 13.0000 \n",
      "Min Ep. Reward: 0.0000 \n",
      "# Game: 1229\n",
      "[*] Saving checkpoints...\n"
     ]
    },
    {
     "name": "stderr",
     "output_type": "stream",
     "text": [
      " 10%|█▌             | 5099993/49900000 [23:56:11<216:39:58, 57.44it/s]"
     ]
    },
    {
     "name": "stdout",
     "output_type": "stream",
     "text": [
      "////////////////////////\n",
      "Average reward: 0.0689 \n",
      "Average loss: 0.034131 \n",
      "Average Q: 8.068065\n",
      "\n",
      "Avg. Ep. Reward: 2.8031 \n",
      "Max Ep. Reward: 13.0000 \n",
      "Min Ep. Reward: 0.0000 \n",
      "# Game: 1229\n",
      "[*] Saving checkpoints...\n"
     ]
    },
    {
     "name": "stderr",
     "output_type": "stream",
     "text": [
      " 10%|█▌             | 5149995/49900000 [24:10:50<216:17:08, 57.47it/s]"
     ]
    },
    {
     "name": "stdout",
     "output_type": "stream",
     "text": [
      "////////////////////////\n",
      "Average reward: 0.0685 \n",
      "Average loss: 0.033459 \n",
      "Average Q: 8.014034\n",
      "\n",
      "Avg. Ep. Reward: 2.7760 \n",
      "Max Ep. Reward: 15.0000 \n",
      "Min Ep. Reward: 0.0000 \n",
      "# Game: 1232\n",
      "[*] Saving checkpoints...\n"
     ]
    },
    {
     "name": "stderr",
     "output_type": "stream",
     "text": [
      " 10%|█▌             | 5199993/49900000 [24:25:19<228:23:05, 54.37it/s]"
     ]
    },
    {
     "name": "stdout",
     "output_type": "stream",
     "text": [
      "////////////////////////\n",
      "Average reward: 0.0681 \n",
      "Average loss: 0.033258 \n",
      "Average Q: 7.987269\n",
      "\n",
      "Avg. Ep. Reward: 2.7460 \n",
      "Max Ep. Reward: 13.0000 \n",
      "Min Ep. Reward: 0.0000 \n",
      "# Game: 1240\n",
      "[*] Saving checkpoints...\n"
     ]
    },
    {
     "name": "stderr",
     "output_type": "stream",
     "text": [
      " 11%|█▌             | 5249997/49900000 [24:39:51<225:46:45, 54.93it/s]"
     ]
    },
    {
     "name": "stdout",
     "output_type": "stream",
     "text": [
      "////////////////////////\n",
      "Average reward: 0.0694 \n",
      "Average loss: 0.033303 \n",
      "Average Q: 7.983484\n",
      "\n",
      "Avg. Ep. Reward: 2.8157 \n",
      "Max Ep. Reward: 13.0000 \n",
      "Min Ep. Reward: 0.0000 \n",
      "# Game: 1232\n",
      "[*] Saving checkpoints...\n"
     ]
    },
    {
     "name": "stderr",
     "output_type": "stream",
     "text": [
      " 11%|█▌             | 5299993/49900000 [24:54:24<212:18:23, 58.35it/s]"
     ]
    },
    {
     "name": "stdout",
     "output_type": "stream",
     "text": [
      "////////////////////////\n",
      "Average reward: 0.0691 \n",
      "Average loss: 0.033324 \n",
      "Average Q: 7.982246\n",
      "\n",
      "Avg. Ep. Reward: 2.7630 \n",
      "Max Ep. Reward: 12.0000 \n",
      "Min Ep. Reward: 0.0000 \n",
      "# Game: 1249\n",
      "[*] Saving checkpoints...\n"
     ]
    },
    {
     "name": "stderr",
     "output_type": "stream",
     "text": [
      " 11%|█▌             | 5349999/49900000 [25:08:56<202:19:47, 61.16it/s]"
     ]
    },
    {
     "name": "stdout",
     "output_type": "stream",
     "text": [
      "////////////////////////\n",
      "Average reward: 0.0698 \n",
      "Average loss: 0.033317 \n",
      "Average Q: 7.953708\n",
      "\n",
      "Avg. Ep. Reward: 2.8512 \n",
      "Max Ep. Reward: 12.0000 \n",
      "Min Ep. Reward: 0.0000 \n",
      "# Game: 1223\n",
      "[*] Saving checkpoints...\n"
     ]
    },
    {
     "name": "stderr",
     "output_type": "stream",
     "text": [
      " 11%|█▌             | 5399993/49900000 [25:23:28<209:43:14, 58.94it/s]"
     ]
    },
    {
     "name": "stdout",
     "output_type": "stream",
     "text": [
      "////////////////////////\n",
      "Average reward: 0.0695 \n",
      "Average loss: 0.032408 \n",
      "Average Q: 7.932187\n",
      "\n",
      "Avg. Ep. Reward: 2.8870 \n",
      "Max Ep. Reward: 17.0000 \n",
      "Min Ep. Reward: 0.0000 \n",
      "# Game: 1204\n",
      "[*] Saving checkpoints...\n"
     ]
    },
    {
     "name": "stderr",
     "output_type": "stream",
     "text": [
      " 11%|█▋             | 5449997/49900000 [25:38:01<216:13:08, 57.11it/s]"
     ]
    },
    {
     "name": "stdout",
     "output_type": "stream",
     "text": [
      "////////////////////////\n",
      "Average reward: 0.0702 \n",
      "Average loss: 0.033272 \n",
      "Average Q: 7.885437\n",
      "\n",
      "Avg. Ep. Reward: 2.8977 \n",
      "Max Ep. Reward: 19.0000 \n",
      "Min Ep. Reward: 0.0000 \n",
      "# Game: 1212\n",
      "[*] Saving checkpoints...\n"
     ]
    },
    {
     "name": "stderr",
     "output_type": "stream",
     "text": [
      " 11%|█▋             | 5499993/49900000 [25:52:36<213:30:28, 57.77it/s]"
     ]
    },
    {
     "name": "stdout",
     "output_type": "stream",
     "text": [
      "////////////////////////\n",
      "Average reward: 0.0698 \n",
      "Average loss: 0.033419 \n",
      "Average Q: 7.840991\n",
      "\n",
      "Avg. Ep. Reward: 2.8723 \n",
      "Max Ep. Reward: 13.0000 \n",
      "Min Ep. Reward: 0.0000 \n",
      "# Game: 1214\n",
      "[*] Saving checkpoints...\n"
     ]
    },
    {
     "name": "stderr",
     "output_type": "stream",
     "text": [
      " 11%|█▋             | 5549994/49900000 [26:07:08<227:02:03, 54.26it/s]"
     ]
    },
    {
     "name": "stdout",
     "output_type": "stream",
     "text": [
      "////////////////////////\n",
      "Average reward: 0.0688 \n",
      "Average loss: 0.033468 \n",
      "Average Q: 7.824626\n",
      "\n",
      "Avg. Ep. Reward: 2.7906 \n",
      "Max Ep. Reward: 12.0000 \n",
      "Min Ep. Reward: 0.0000 \n",
      "# Game: 1232\n",
      "[*] Saving checkpoints...\n"
     ]
    },
    {
     "name": "stderr",
     "output_type": "stream",
     "text": [
      " 11%|█▋             | 5599993/49900000 [26:21:42<221:26:47, 55.57it/s]"
     ]
    },
    {
     "name": "stdout",
     "output_type": "stream",
     "text": [
      "////////////////////////\n",
      "Average reward: 0.0697 \n",
      "Average loss: 0.032428 \n",
      "Average Q: 7.815013\n",
      "\n",
      "Avg. Ep. Reward: 2.8881 \n",
      "Max Ep. Reward: 13.0000 \n",
      "Min Ep. Reward: 0.0000 \n",
      "# Game: 1206\n",
      "[*] Saving checkpoints...\n"
     ]
    },
    {
     "name": "stderr",
     "output_type": "stream",
     "text": [
      " 11%|█▋             | 5649993/49900000 [26:36:16<226:13:45, 54.33it/s]"
     ]
    },
    {
     "name": "stdout",
     "output_type": "stream",
     "text": [
      "////////////////////////\n",
      "Average reward: 0.0693 \n",
      "Average loss: 0.032767 \n",
      "Average Q: 7.758051\n",
      "\n",
      "Avg. Ep. Reward: 2.8402 \n",
      "Max Ep. Reward: 14.0000 \n",
      "Min Ep. Reward: 0.0000 \n",
      "# Game: 1220\n",
      "[*] Saving checkpoints...\n"
     ]
    },
    {
     "name": "stderr",
     "output_type": "stream",
     "text": [
      " 11%|█▋             | 5699993/49900000 [26:50:46<221:48:12, 55.35it/s]"
     ]
    },
    {
     "name": "stdout",
     "output_type": "stream",
     "text": [
      "////////////////////////\n",
      "Average reward: 0.0692 \n",
      "Average loss: 0.033065 \n",
      "Average Q: 7.759636\n",
      "\n",
      "Avg. Ep. Reward: 2.8023 \n",
      "Max Ep. Reward: 13.0000 \n",
      "Min Ep. Reward: 0.0000 \n",
      "# Game: 1234\n",
      "[*] Saving checkpoints...\n"
     ]
    },
    {
     "name": "stderr",
     "output_type": "stream",
     "text": [
      " 12%|█▋             | 5749993/49900000 [27:05:22<219:52:34, 55.78it/s]"
     ]
    },
    {
     "name": "stdout",
     "output_type": "stream",
     "text": [
      "////////////////////////\n",
      "Average reward: 0.0689 \n",
      "Average loss: 0.032596 \n",
      "Average Q: 7.726442\n",
      "\n",
      "Avg. Ep. Reward: 2.8788 \n",
      "Max Ep. Reward: 14.0000 \n",
      "Min Ep. Reward: 0.0000 \n",
      "# Game: 1196\n",
      "[*] Saving checkpoints...\n"
     ]
    },
    {
     "name": "stderr",
     "output_type": "stream",
     "text": [
      " 12%|█▋             | 5799999/49900000 [27:19:57<205:37:42, 59.57it/s]"
     ]
    },
    {
     "name": "stdout",
     "output_type": "stream",
     "text": [
      "////////////////////////\n",
      "Average reward: 0.0707 \n",
      "Average loss: 0.032778 \n",
      "Average Q: 7.669216\n",
      "\n",
      "Avg. Ep. Reward: 2.9689 \n",
      "Max Ep. Reward: 18.0000 \n",
      "Min Ep. Reward: 0.0000 \n",
      "# Game: 1189\n",
      "[*] Saving checkpoints...\n"
     ]
    },
    {
     "name": "stderr",
     "output_type": "stream",
     "text": [
      " 12%|█▊             | 5849995/49900000 [27:34:28<210:42:32, 58.07it/s]"
     ]
    },
    {
     "name": "stdout",
     "output_type": "stream",
     "text": [
      "////////////////////////\n",
      "Average reward: 0.0691 \n",
      "Average loss: 0.031778 \n",
      "Average Q: 7.639857\n",
      "\n",
      "Avg. Ep. Reward: 2.7413 \n",
      "Max Ep. Reward: 14.0000 \n",
      "Min Ep. Reward: 0.0000 \n",
      "# Game: 1260\n",
      "[*] Saving checkpoints...\n"
     ]
    },
    {
     "name": "stderr",
     "output_type": "stream",
     "text": [
      " 12%|█▊             | 5899993/49900000 [27:48:54<201:47:02, 60.57it/s]"
     ]
    },
    {
     "name": "stdout",
     "output_type": "stream",
     "text": [
      "////////////////////////\n",
      "Average reward: 0.0708 \n",
      "Average loss: 0.032399 \n",
      "Average Q: 7.621898\n",
      "\n",
      "Avg. Ep. Reward: 2.9690 \n",
      "Max Ep. Reward: 17.0000 \n",
      "Min Ep. Reward: 0.0000 \n",
      "# Game: 1193\n",
      "[*] Saving checkpoints...\n"
     ]
    },
    {
     "name": "stderr",
     "output_type": "stream",
     "text": [
      " 12%|█▊             | 5949995/49900000 [28:03:19<209:02:13, 58.40it/s]"
     ]
    },
    {
     "name": "stdout",
     "output_type": "stream",
     "text": [
      "////////////////////////\n",
      "Average reward: 0.0710 \n",
      "Average loss: 0.031905 \n",
      "Average Q: 7.605235\n",
      "\n",
      "Avg. Ep. Reward: 2.9907 \n",
      "Max Ep. Reward: 14.0000 \n",
      "Min Ep. Reward: 0.0000 \n",
      "# Game: 1186\n",
      "[*] Saving checkpoints...\n"
     ]
    },
    {
     "name": "stderr",
     "output_type": "stream",
     "text": [
      " 12%|█▊             | 5999993/49900000 [28:17:51<224:06:54, 54.41it/s]"
     ]
    },
    {
     "name": "stdout",
     "output_type": "stream",
     "text": [
      "////////////////////////\n",
      "Average reward: 0.0695 \n",
      "Average loss: 0.031570 \n",
      "Average Q: 7.590341\n",
      "\n",
      "Avg. Ep. Reward: 2.8412 \n",
      "Max Ep. Reward: 12.0000 \n",
      "Min Ep. Reward: 0.0000 \n",
      "# Game: 1222\n",
      "[*] Saving checkpoints...\n"
     ]
    },
    {
     "name": "stderr",
     "output_type": "stream",
     "text": [
      " 12%|█▊             | 6049997/49900000 [28:32:20<213:51:49, 56.95it/s]"
     ]
    },
    {
     "name": "stdout",
     "output_type": "stream",
     "text": [
      "////////////////////////\n",
      "Average reward: 0.0699 \n",
      "Average loss: 0.031332 \n",
      "Average Q: 7.595337\n",
      "\n",
      "Avg. Ep. Reward: 2.8931 \n",
      "Max Ep. Reward: 14.0000 \n",
      "Min Ep. Reward: 0.0000 \n",
      "# Game: 1207\n",
      "[*] Saving checkpoints...\n"
     ]
    },
    {
     "name": "stderr",
     "output_type": "stream",
     "text": [
      " 12%|█▊             | 6099997/49900000 [28:46:49<213:25:37, 57.01it/s]"
     ]
    },
    {
     "name": "stdout",
     "output_type": "stream",
     "text": [
      "////////////////////////\n",
      "Average reward: 0.0705 \n",
      "Average loss: 0.031463 \n",
      "Average Q: 7.600688\n",
      "\n",
      "Avg. Ep. Reward: 2.9822 \n",
      "Max Ep. Reward: 13.0000 \n",
      "Min Ep. Reward: 0.0000 \n",
      "# Game: 1182\n",
      "[*] Saving checkpoints...\n"
     ]
    },
    {
     "name": "stderr",
     "output_type": "stream",
     "text": [
      " 12%|█▊             | 6149993/49900000 [29:01:20<226:11:24, 53.73it/s]"
     ]
    },
    {
     "name": "stdout",
     "output_type": "stream",
     "text": [
      "////////////////////////\n",
      "Average reward: 0.0712 \n",
      "Average loss: 0.031596 \n",
      "Average Q: 7.581820\n",
      "\n",
      "Avg. Ep. Reward: 3.0315 \n",
      "Max Ep. Reward: 14.0000 \n",
      "Min Ep. Reward: 0.0000 \n",
      "# Game: 1174\n",
      "[*] Saving checkpoints...\n"
     ]
    },
    {
     "name": "stderr",
     "output_type": "stream",
     "text": [
      " 12%|█▊             | 6199997/49900000 [29:15:53<213:19:31, 56.90it/s]"
     ]
    },
    {
     "name": "stdout",
     "output_type": "stream",
     "text": [
      "////////////////////////\n",
      "Average reward: 0.0700 \n",
      "Average loss: 0.031904 \n",
      "Average Q: 7.543655\n",
      "\n",
      "Avg. Ep. Reward: 2.9183 \n",
      "Max Ep. Reward: 14.0000 \n",
      "Min Ep. Reward: 0.0000 \n",
      "# Game: 1200\n",
      "[*] Saving checkpoints...\n"
     ]
    },
    {
     "name": "stderr",
     "output_type": "stream",
     "text": [
      " 13%|█▉             | 6249994/49900000 [29:30:21<222:30:21, 54.49it/s]"
     ]
    },
    {
     "name": "stdout",
     "output_type": "stream",
     "text": [
      "////////////////////////\n",
      "Average reward: 0.0711 \n",
      "Average loss: 0.031843 \n",
      "Average Q: 7.516218\n",
      "\n",
      "Avg. Ep. Reward: 2.9992 \n",
      "Max Ep. Reward: 15.0000 \n",
      "Min Ep. Reward: 0.0000 \n",
      "# Game: 1184\n",
      "[*] Saving checkpoints...\n"
     ]
    },
    {
     "name": "stderr",
     "output_type": "stream",
     "text": [
      " 13%|█▉             | 6299993/49900000 [29:44:50<213:50:16, 56.64it/s]"
     ]
    },
    {
     "name": "stdout",
     "output_type": "stream",
     "text": [
      "////////////////////////\n",
      "Average reward: 0.0709 \n",
      "Average loss: 0.031309 \n",
      "Average Q: 7.501994\n",
      "\n",
      "Avg. Ep. Reward: 2.9427 \n",
      "Max Ep. Reward: 13.0000 \n",
      "Min Ep. Reward: 0.0000 \n",
      "# Game: 1205\n",
      "[*] Saving checkpoints...\n"
     ]
    },
    {
     "name": "stderr",
     "output_type": "stream",
     "text": [
      " 13%|█▉             | 6349995/49900000 [29:59:18<201:21:45, 60.08it/s]"
     ]
    },
    {
     "name": "stdout",
     "output_type": "stream",
     "text": [
      "////////////////////////\n",
      "Average reward: 0.0705 \n",
      "Average loss: 0.030794 \n",
      "Average Q: 7.481183\n",
      "\n",
      "Avg. Ep. Reward: 2.9318 \n",
      "Max Ep. Reward: 14.0000 \n",
      "Min Ep. Reward: 0.0000 \n",
      "# Game: 1202\n",
      "[*] Saving checkpoints...\n"
     ]
    },
    {
     "name": "stderr",
     "output_type": "stream",
     "text": [
      " 13%|█▉             | 6399997/49900000 [30:13:51<212:05:48, 56.97it/s]"
     ]
    },
    {
     "name": "stdout",
     "output_type": "stream",
     "text": [
      "////////////////////////\n",
      "Average reward: 0.0718 \n",
      "Average loss: 0.031353 \n",
      "Average Q: 7.463123\n",
      "\n",
      "Avg. Ep. Reward: 3.1400 \n",
      "Max Ep. Reward: 14.0000 \n",
      "Min Ep. Reward: 0.0000 \n",
      "# Game: 1143\n",
      "[*] Saving checkpoints...\n"
     ]
    },
    {
     "name": "stderr",
     "output_type": "stream",
     "text": [
      " 13%|█▉             | 6449997/49900000 [30:28:23<208:43:47, 57.82it/s]"
     ]
    },
    {
     "name": "stdout",
     "output_type": "stream",
     "text": [
      "////////////////////////\n",
      "Average reward: 0.0717 \n",
      "Average loss: 0.031369 \n",
      "Average Q: 7.472600\n",
      "\n",
      "Avg. Ep. Reward: 3.1782 \n",
      "Max Ep. Reward: 15.0000 \n",
      "Min Ep. Reward: 0.0000 \n",
      "# Game: 1128\n",
      "[*] Saving checkpoints...\n"
     ]
    },
    {
     "name": "stderr",
     "output_type": "stream",
     "text": [
      " 13%|█▉             | 6499996/49900000 [30:42:48<202:56:34, 59.40it/s]"
     ]
    },
    {
     "name": "stdout",
     "output_type": "stream",
     "text": [
      "////////////////////////\n",
      "Average reward: 0.0702 \n",
      "Average loss: 0.030890 \n",
      "Average Q: 7.476440\n",
      "\n",
      "Avg. Ep. Reward: 2.9796 \n",
      "Max Ep. Reward: 15.0000 \n",
      "Min Ep. Reward: 0.0000 \n",
      "# Game: 1178\n",
      "[*] Saving checkpoints...\n"
     ]
    },
    {
     "name": "stderr",
     "output_type": "stream",
     "text": [
      " 13%|█▉             | 6549993/49900000 [30:57:18<215:20:51, 55.92it/s]"
     ]
    },
    {
     "name": "stdout",
     "output_type": "stream",
     "text": [
      "////////////////////////\n",
      "Average reward: 0.0712 \n",
      "Average loss: 0.030683 \n",
      "Average Q: 7.487874\n",
      "\n",
      "Avg. Ep. Reward: 3.1120 \n",
      "Max Ep. Reward: 15.0000 \n",
      "Min Ep. Reward: 0.0000 \n",
      "# Game: 1143\n",
      "[*] Saving checkpoints...\n"
     ]
    },
    {
     "name": "stderr",
     "output_type": "stream",
     "text": [
      " 13%|█▉             | 6599993/49900000 [31:11:46<214:21:33, 56.11it/s]"
     ]
    },
    {
     "name": "stdout",
     "output_type": "stream",
     "text": [
      "////////////////////////\n",
      "Average reward: 0.0720 \n",
      "Average loss: 0.031389 \n",
      "Average Q: 7.483153\n",
      "\n",
      "Avg. Ep. Reward: 3.1793 \n",
      "Max Ep. Reward: 14.0000 \n",
      "Min Ep. Reward: 0.0000 \n",
      "# Game: 1132\n",
      "[*] Saving checkpoints...\n"
     ]
    },
    {
     "name": "stderr",
     "output_type": "stream",
     "text": [
      " 13%|█▉             | 6649994/49900000 [31:26:17<221:48:13, 54.16it/s]"
     ]
    },
    {
     "name": "stdout",
     "output_type": "stream",
     "text": [
      "////////////////////////\n",
      "Average reward: 0.0723 \n",
      "Average loss: 0.031054 \n",
      "Average Q: 7.477340\n",
      "\n",
      "Avg. Ep. Reward: 3.1815 \n",
      "Max Ep. Reward: 16.0000 \n",
      "Min Ep. Reward: 0.0000 \n",
      "# Game: 1135\n",
      "[*] Saving checkpoints...\n"
     ]
    },
    {
     "name": "stderr",
     "output_type": "stream",
     "text": [
      " 13%|██             | 6699993/49900000 [31:40:49<198:47:13, 60.37it/s]"
     ]
    },
    {
     "name": "stdout",
     "output_type": "stream",
     "text": [
      "////////////////////////\n",
      "Average reward: 0.0731 \n",
      "Average loss: 0.030665 \n",
      "Average Q: 7.471228\n",
      "\n",
      "Avg. Ep. Reward: 3.2433 \n",
      "Max Ep. Reward: 17.0000 \n",
      "Min Ep. Reward: 0.0000 \n",
      "# Game: 1126\n",
      "[*] Saving checkpoints...\n"
     ]
    },
    {
     "name": "stderr",
     "output_type": "stream",
     "text": [
      " 14%|██             | 6749996/49900000 [31:55:18<205:09:16, 58.42it/s]"
     ]
    },
    {
     "name": "stdout",
     "output_type": "stream",
     "text": [
      "////////////////////////\n",
      "Average reward: 0.0733 \n",
      "Average loss: 0.030236 \n",
      "Average Q: 7.458659\n",
      "\n",
      "Avg. Ep. Reward: 3.3128 \n",
      "Max Ep. Reward: 19.0000 \n",
      "Min Ep. Reward: 0.0000 \n",
      "# Game: 1106\n",
      "[*] Saving checkpoints...\n"
     ]
    },
    {
     "name": "stderr",
     "output_type": "stream",
     "text": [
      " 14%|██             | 6799993/49900000 [32:09:53<219:29:54, 54.54it/s]"
     ]
    },
    {
     "name": "stdout",
     "output_type": "stream",
     "text": [
      "////////////////////////\n",
      "Average reward: 0.0721 \n",
      "Average loss: 0.030985 \n",
      "Average Q: 7.480791\n",
      "\n",
      "Avg. Ep. Reward: 3.1223 \n",
      "Max Ep. Reward: 17.0000 \n",
      "Min Ep. Reward: 0.0000 \n",
      "# Game: 1153\n",
      "[*] Saving checkpoints...\n"
     ]
    },
    {
     "name": "stderr",
     "output_type": "stream",
     "text": [
      " 14%|██             | 6849997/49900000 [32:24:24<212:42:57, 56.22it/s]"
     ]
    },
    {
     "name": "stdout",
     "output_type": "stream",
     "text": [
      "////////////////////////\n",
      "Average reward: 0.0733 \n",
      "Average loss: 0.030635 \n",
      "Average Q: 7.473246\n",
      "\n",
      "Avg. Ep. Reward: 3.2453 \n",
      "Max Ep. Reward: 16.0000 \n",
      "Min Ep. Reward: 0.0000 \n",
      "# Game: 1129\n",
      "[*] Saving checkpoints...\n"
     ]
    },
    {
     "name": "stderr",
     "output_type": "stream",
     "text": [
      " 14%|██             | 6899997/49900000 [32:38:51<207:13:39, 57.64it/s]"
     ]
    },
    {
     "name": "stdout",
     "output_type": "stream",
     "text": [
      "////////////////////////\n",
      "Average reward: 0.0716 \n",
      "Average loss: 0.030316 \n",
      "Average Q: 7.449569\n",
      "\n",
      "Avg. Ep. Reward: 3.0599 \n",
      "Max Ep. Reward: 15.0000 \n",
      "Min Ep. Reward: 0.0000 \n",
      "# Game: 1169\n",
      "[*] Saving checkpoints...\n"
     ]
    },
    {
     "name": "stderr",
     "output_type": "stream",
     "text": [
      " 14%|██             | 6949997/49900000 [32:53:20<220:09:27, 54.19it/s]"
     ]
    },
    {
     "name": "stdout",
     "output_type": "stream",
     "text": [
      "////////////////////////\n",
      "Average reward: 0.0719 \n",
      "Average loss: 0.030314 \n",
      "Average Q: 7.425559\n",
      "\n",
      "Avg. Ep. Reward: 3.1796 \n",
      "Max Ep. Reward: 14.0000 \n",
      "Min Ep. Reward: 0.0000 \n",
      "# Game: 1130\n",
      "[*] Saving checkpoints...\n"
     ]
    },
    {
     "name": "stderr",
     "output_type": "stream",
     "text": [
      " 14%|██             | 6999995/49900000 [33:07:49<213:02:06, 55.94it/s]"
     ]
    },
    {
     "name": "stdout",
     "output_type": "stream",
     "text": [
      "////////////////////////\n",
      "Average reward: 0.0720 \n",
      "Average loss: 0.029841 \n",
      "Average Q: 7.418619\n",
      "\n",
      "Avg. Ep. Reward: 3.2450 \n",
      "Max Ep. Reward: 19.0000 \n",
      "Min Ep. Reward: 0.0000 \n",
      "# Game: 1110\n",
      "[*] Saving checkpoints...\n"
     ]
    },
    {
     "name": "stderr",
     "output_type": "stream",
     "text": [
      " 14%|██             | 7049997/49900000 [33:22:23<218:56:40, 54.36it/s]"
     ]
    },
    {
     "name": "stdout",
     "output_type": "stream",
     "text": [
      "////////////////////////\n",
      "Average reward: 0.0727 \n",
      "Average loss: 0.029486 \n",
      "Average Q: 7.397222\n",
      "\n",
      "Avg. Ep. Reward: 3.2157 \n",
      "Max Ep. Reward: 18.0000 \n",
      "Min Ep. Reward: 0.0000 \n",
      "# Game: 1131\n",
      "[*] Saving checkpoints...\n"
     ]
    },
    {
     "name": "stderr",
     "output_type": "stream",
     "text": [
      " 14%|██▏            | 7099993/49900000 [33:36:49<213:30:03, 55.69it/s]"
     ]
    },
    {
     "name": "stdout",
     "output_type": "stream",
     "text": [
      "////////////////////////\n",
      "Average reward: 0.0723 \n",
      "Average loss: 0.030553 \n",
      "Average Q: 7.374756\n",
      "\n",
      "Avg. Ep. Reward: 3.3208 \n",
      "Max Ep. Reward: 22.0000 \n",
      "Min Ep. Reward: 0.0000 \n",
      "# Game: 1088\n",
      "[*] Saving checkpoints...\n"
     ]
    },
    {
     "name": "stderr",
     "output_type": "stream",
     "text": [
      " 14%|██▏            | 7149993/49900000 [33:51:17<199:54:56, 59.40it/s]"
     ]
    },
    {
     "name": "stdout",
     "output_type": "stream",
     "text": [
      "////////////////////////\n",
      "Average reward: 0.0720 \n",
      "Average loss: 0.029949 \n",
      "Average Q: 7.381688\n",
      "\n",
      "Avg. Ep. Reward: 3.2039 \n",
      "Max Ep. Reward: 14.0000 \n",
      "Min Ep. Reward: 0.0000 \n",
      "# Game: 1123\n",
      "[*] Saving checkpoints...\n"
     ]
    },
    {
     "name": "stderr",
     "output_type": "stream",
     "text": [
      " 14%|██▏            | 7199996/49900000 [34:05:50<194:31:47, 60.97it/s]"
     ]
    },
    {
     "name": "stdout",
     "output_type": "stream",
     "text": [
      "////////////////////////\n",
      "Average reward: 0.0737 \n",
      "Average loss: 0.029769 \n",
      "Average Q: 7.349531\n",
      "\n",
      "Avg. Ep. Reward: 3.3842 \n",
      "Max Ep. Reward: 16.0000 \n",
      "Min Ep. Reward: 0.0000 \n",
      "# Game: 1088\n",
      "[*] Saving checkpoints...\n"
     ]
    },
    {
     "name": "stderr",
     "output_type": "stream",
     "text": [
      " 15%|██▏            | 7249993/49900000 [34:20:16<199:03:32, 59.52it/s]"
     ]
    },
    {
     "name": "stdout",
     "output_type": "stream",
     "text": [
      "////////////////////////\n",
      "Average reward: 0.0727 \n",
      "Average loss: 0.029661 \n",
      "Average Q: 7.332436\n",
      "\n",
      "Avg. Ep. Reward: 3.1284 \n",
      "Max Ep. Reward: 19.0000 \n",
      "Min Ep. Reward: 0.0000 \n",
      "# Game: 1160\n",
      "[*] Saving checkpoints...\n"
     ]
    },
    {
     "name": "stderr",
     "output_type": "stream",
     "text": [
      " 15%|██▏            | 7299995/49900000 [34:34:45<198:26:05, 59.63it/s]"
     ]
    },
    {
     "name": "stdout",
     "output_type": "stream",
     "text": [
      "////////////////////////\n",
      "Average reward: 0.0725 \n",
      "Average loss: 0.029771 \n",
      "Average Q: 7.339198\n",
      "\n",
      "Avg. Ep. Reward: 3.1835 \n",
      "Max Ep. Reward: 17.0000 \n",
      "Min Ep. Reward: 0.0000 \n",
      "# Game: 1139\n",
      "[*] Saving checkpoints...\n"
     ]
    },
    {
     "name": "stderr",
     "output_type": "stream",
     "text": [
      " 15%|██▏            | 7349993/49900000 [34:49:11<205:00:34, 57.65it/s]"
     ]
    },
    {
     "name": "stdout",
     "output_type": "stream",
     "text": [
      "////////////////////////\n",
      "Average reward: 0.0730 \n",
      "Average loss: 0.029566 \n",
      "Average Q: 7.353966\n",
      "\n",
      "Avg. Ep. Reward: 3.2822 \n",
      "Max Ep. Reward: 15.0000 \n",
      "Min Ep. Reward: 0.0000 \n",
      "# Game: 1109\n",
      "[*] Saving checkpoints...\n"
     ]
    },
    {
     "name": "stderr",
     "output_type": "stream",
     "text": [
      " 15%|██▏            | 7399997/49900000 [35:03:45<213:30:27, 55.29it/s]"
     ]
    },
    {
     "name": "stdout",
     "output_type": "stream",
     "text": [
      "////////////////////////\n",
      "Average reward: 0.0727 \n",
      "Average loss: 0.029573 \n",
      "Average Q: 7.393683\n",
      "\n",
      "Avg. Ep. Reward: 3.2435 \n",
      "Max Ep. Reward: 14.0000 \n",
      "Min Ep. Reward: 0.0000 \n",
      "# Game: 1121\n",
      "[*] Saving checkpoints...\n"
     ]
    },
    {
     "name": "stderr",
     "output_type": "stream",
     "text": [
      " 15%|██▏            | 7449993/49900000 [35:18:19<207:04:30, 56.94it/s]"
     ]
    },
    {
     "name": "stdout",
     "output_type": "stream",
     "text": [
      "////////////////////////\n",
      "Average reward: 0.0721 \n",
      "Average loss: 0.029401 \n",
      "Average Q: 7.410358\n",
      "\n",
      "Avg. Ep. Reward: 3.2159 \n",
      "Max Ep. Reward: 15.0000 \n",
      "Min Ep. Reward: 0.0000 \n",
      "# Game: 1121\n",
      "[*] Saving checkpoints...\n"
     ]
    },
    {
     "name": "stderr",
     "output_type": "stream",
     "text": [
      " 15%|██▎            | 7499997/49900000 [35:32:50<202:02:38, 58.29it/s]"
     ]
    },
    {
     "name": "stdout",
     "output_type": "stream",
     "text": [
      "////////////////////////\n",
      "Average reward: 0.0739 \n",
      "Average loss: 0.029378 \n",
      "Average Q: 7.401353\n",
      "\n",
      "Avg. Ep. Reward: 3.4031 \n",
      "Max Ep. Reward: 23.0000 \n",
      "Min Ep. Reward: 0.0000 \n",
      "# Game: 1084\n",
      "[*] Saving checkpoints...\n"
     ]
    },
    {
     "name": "stderr",
     "output_type": "stream",
     "text": [
      " 15%|██▎            | 7549997/49900000 [35:47:25<201:08:38, 58.48it/s]"
     ]
    },
    {
     "name": "stdout",
     "output_type": "stream",
     "text": [
      "////////////////////////\n",
      "Average reward: 0.0723 \n",
      "Average loss: 0.029873 \n",
      "Average Q: 7.413193\n",
      "\n",
      "Avg. Ep. Reward: 3.2080 \n",
      "Max Ep. Reward: 14.0000 \n",
      "Min Ep. Reward: 0.0000 \n",
      "# Game: 1125\n",
      "[*] Saving checkpoints...\n"
     ]
    },
    {
     "name": "stderr",
     "output_type": "stream",
     "text": [
      " 15%|██▎            | 7599997/49900000 [36:01:50<206:53:23, 56.79it/s]"
     ]
    },
    {
     "name": "stdout",
     "output_type": "stream",
     "text": [
      "////////////////////////\n",
      "Average reward: 0.0731 \n",
      "Average loss: 0.029699 \n",
      "Average Q: 7.415067\n",
      "\n",
      "Avg. Ep. Reward: 3.2290 \n",
      "Max Ep. Reward: 17.0000 \n",
      "Min Ep. Reward: 0.0000 \n",
      "# Game: 1131\n",
      "[*] Saving checkpoints...\n"
     ]
    },
    {
     "name": "stderr",
     "output_type": "stream",
     "text": [
      " 15%|██▎            | 7649997/49900000 [36:16:22<201:19:43, 58.29it/s]"
     ]
    },
    {
     "name": "stdout",
     "output_type": "stream",
     "text": [
      "////////////////////////\n",
      "Average reward: 0.0735 \n",
      "Average loss: 0.029433 \n",
      "Average Q: 7.430888\n",
      "\n",
      "Avg. Ep. Reward: 3.2736 \n",
      "Max Ep. Reward: 14.0000 \n",
      "Min Ep. Reward: 0.0000 \n",
      "# Game: 1122\n",
      "[*] Saving checkpoints...\n"
     ]
    },
    {
     "name": "stderr",
     "output_type": "stream",
     "text": [
      " 15%|██▎            | 7699997/49900000 [36:30:55<198:22:14, 59.09it/s]"
     ]
    },
    {
     "name": "stdout",
     "output_type": "stream",
     "text": [
      "////////////////////////\n",
      "Average reward: 0.0725 \n",
      "Average loss: 0.030054 \n",
      "Average Q: 7.430108\n",
      "\n",
      "Avg. Ep. Reward: 3.2808 \n",
      "Max Ep. Reward: 16.0000 \n",
      "Min Ep. Reward: 0.0000 \n",
      "# Game: 1104\n",
      "[*] Saving checkpoints...\n"
     ]
    },
    {
     "name": "stderr",
     "output_type": "stream",
     "text": [
      " 16%|██▎            | 7749997/49900000 [36:45:27<200:18:08, 58.45it/s]"
     ]
    },
    {
     "name": "stdout",
     "output_type": "stream",
     "text": [
      "////////////////////////\n",
      "Average reward: 0.0727 \n",
      "Average loss: 0.029760 \n",
      "Average Q: 7.466563\n",
      "\n",
      "Avg. Ep. Reward: 3.2659 \n",
      "Max Ep. Reward: 18.0000 \n",
      "Min Ep. Reward: 0.0000 \n",
      "# Game: 1113\n",
      "[*] Saving checkpoints...\n"
     ]
    },
    {
     "name": "stderr",
     "output_type": "stream",
     "text": [
      " 16%|██▎            | 7799997/49900000 [37:00:04<194:42:51, 60.06it/s]"
     ]
    },
    {
     "name": "stdout",
     "output_type": "stream",
     "text": [
      "////////////////////////\n",
      "Average reward: 0.0746 \n",
      "Average loss: 0.029266 \n",
      "Average Q: 7.467955\n",
      "\n",
      "Avg. Ep. Reward: 3.5525 \n",
      "Max Ep. Reward: 19.0000 \n",
      "Min Ep. Reward: 0.0000 \n",
      "# Game: 1048\n",
      "[*] Saving checkpoints...\n"
     ]
    },
    {
     "name": "stderr",
     "output_type": "stream",
     "text": [
      " 16%|██▎            | 7849993/49900000 [37:14:32<201:49:53, 57.87it/s]"
     ]
    },
    {
     "name": "stdout",
     "output_type": "stream",
     "text": [
      "////////////////////////\n",
      "Average reward: 0.0723 \n",
      "Average loss: 0.029239 \n",
      "Average Q: 7.477533\n",
      "\n",
      "Avg. Ep. Reward: 3.2043 \n",
      "Max Ep. Reward: 18.0000 \n",
      "Min Ep. Reward: 0.0000 \n",
      "# Game: 1126\n",
      "[*] Saving checkpoints...\n"
     ]
    },
    {
     "name": "stderr",
     "output_type": "stream",
     "text": [
      " 16%|██▎            | 7899997/49900000 [37:29:07<199:48:36, 58.39it/s]"
     ]
    },
    {
     "name": "stdout",
     "output_type": "stream",
     "text": [
      "////////////////////////\n",
      "Average reward: 0.0726 \n",
      "Average loss: 0.029550 \n",
      "Average Q: 7.478022\n",
      "\n",
      "Avg. Ep. Reward: 3.2371 \n",
      "Max Ep. Reward: 14.0000 \n",
      "Min Ep. Reward: 0.0000 \n",
      "# Game: 1122\n",
      "[*] Saving checkpoints...\n"
     ]
    },
    {
     "name": "stderr",
     "output_type": "stream",
     "text": [
      " 16%|██▍            | 7949997/49900000 [37:43:32<202:33:53, 57.53it/s]"
     ]
    },
    {
     "name": "stdout",
     "output_type": "stream",
     "text": [
      "////////////////////////\n",
      "Average reward: 0.0731 \n",
      "Average loss: 0.029415 \n",
      "Average Q: 7.496960\n",
      "\n",
      "Avg. Ep. Reward: 3.2567 \n",
      "Max Ep. Reward: 16.0000 \n",
      "Min Ep. Reward: 0.0000 \n",
      "# Game: 1122\n",
      "[*] Saving checkpoints...\n"
     ]
    },
    {
     "name": "stderr",
     "output_type": "stream",
     "text": [
      " 16%|██▍            | 7999995/49900000 [37:58:04<197:07:37, 59.04it/s]"
     ]
    },
    {
     "name": "stdout",
     "output_type": "stream",
     "text": [
      "////////////////////////\n",
      "Average reward: 0.0737 \n",
      "Average loss: 0.029136 \n",
      "Average Q: 7.489504\n",
      "\n",
      "Avg. Ep. Reward: 3.3473 \n",
      "Max Ep. Reward: 16.0000 \n",
      "Min Ep. Reward: 0.0000 \n",
      "# Game: 1100\n",
      "[*] Saving checkpoints...\n"
     ]
    },
    {
     "name": "stderr",
     "output_type": "stream",
     "text": [
      " 16%|██▍            | 8049993/49900000 [38:12:33<195:25:09, 59.49it/s]"
     ]
    },
    {
     "name": "stdout",
     "output_type": "stream",
     "text": [
      "////////////////////////\n",
      "Average reward: 0.0727 \n",
      "Average loss: 0.029640 \n",
      "Average Q: 7.504959\n",
      "\n",
      "Avg. Ep. Reward: 3.2382 \n",
      "Max Ep. Reward: 18.0000 \n",
      "Min Ep. Reward: 0.0000 \n",
      "# Game: 1121\n",
      "[*] Saving checkpoints...\n"
     ]
    },
    {
     "name": "stderr",
     "output_type": "stream",
     "text": [
      " 16%|██▍            | 8100006/49900000 [38:27:06<229:57:11, 50.49it/s]"
     ]
    },
    {
     "name": "stdout",
     "output_type": "stream",
     "text": [
      "////////////////////////\n",
      "Average reward: 0.0721 \n",
      "Average loss: 0.028775 \n",
      "Average Q: 7.519523\n",
      "\n",
      "Avg. Ep. Reward: 3.1783 \n",
      "Max Ep. Reward: 16.0000 \n",
      "Min Ep. Reward: 0.0000 \n",
      "# Game: 1133\n"
     ]
    },
    {
     "name": "stderr",
     "output_type": "stream",
     "text": [
      " 16%|██▍            | 8149993/49900000 [38:41:34<197:49:54, 58.62it/s]"
     ]
    },
    {
     "name": "stdout",
     "output_type": "stream",
     "text": [
      "////////////////////////\n",
      "Average reward: 0.0736 \n",
      "Average loss: 0.029335 \n",
      "Average Q: 7.511160\n",
      "\n",
      "Avg. Ep. Reward: 3.4410 \n",
      "Max Ep. Reward: 16.0000 \n",
      "Min Ep. Reward: 0.0000 \n",
      "# Game: 1068\n",
      "[*] Saving checkpoints...\n"
     ]
    },
    {
     "name": "stderr",
     "output_type": "stream",
     "text": [
      " 16%|██▍            | 8199999/49900000 [38:56:00<200:32:42, 57.76it/s]"
     ]
    },
    {
     "name": "stdout",
     "output_type": "stream",
     "text": [
      "////////////////////////\n",
      "Average reward: 0.0726 \n",
      "Average loss: 0.029220 \n",
      "Average Q: 7.507248\n",
      "\n",
      "Avg. Ep. Reward: 3.2393 \n",
      "Max Ep. Reward: 15.0000 \n",
      "Min Ep. Reward: 0.0000 \n",
      "# Game: 1120\n",
      "[*] Saving checkpoints...\n"
     ]
    },
    {
     "name": "stderr",
     "output_type": "stream",
     "text": [
      " 17%|██▍            | 8249996/49900000 [39:10:30<184:07:19, 62.84it/s]"
     ]
    },
    {
     "name": "stdout",
     "output_type": "stream",
     "text": [
      "////////////////////////\n",
      "Average reward: 0.0741 \n",
      "Average loss: 0.030033 \n",
      "Average Q: 7.522119\n",
      "\n",
      "Avg. Ep. Reward: 3.4849 \n",
      "Max Ep. Reward: 18.0000 \n",
      "Min Ep. Reward: 0.0000 \n",
      "# Game: 1062\n",
      "[*] Saving checkpoints...\n"
     ]
    },
    {
     "name": "stderr",
     "output_type": "stream",
     "text": [
      " 17%|██▍            | 8299997/49900000 [39:25:03<215:08:23, 53.71it/s]"
     ]
    },
    {
     "name": "stdout",
     "output_type": "stream",
     "text": [
      "////////////////////////\n",
      "Average reward: 0.0734 \n",
      "Average loss: 0.029597 \n",
      "Average Q: 7.527287\n",
      "\n",
      "Avg. Ep. Reward: 3.3608 \n",
      "Max Ep. Reward: 16.0000 \n",
      "Min Ep. Reward: 0.0000 \n",
      "# Game: 1092\n",
      "[*] Saving checkpoints...\n"
     ]
    },
    {
     "name": "stderr",
     "output_type": "stream",
     "text": [
      " 17%|██▌            | 8349997/49900000 [39:39:35<202:37:18, 56.96it/s]"
     ]
    },
    {
     "name": "stdout",
     "output_type": "stream",
     "text": [
      "////////////////////////\n",
      "Average reward: 0.0719 \n",
      "Average loss: 0.029588 \n",
      "Average Q: 7.528466\n",
      "\n",
      "Avg. Ep. Reward: 3.2002 \n",
      "Max Ep. Reward: 16.0000 \n",
      "Min Ep. Reward: 0.0000 \n",
      "# Game: 1124\n",
      "[*] Saving checkpoints...\n"
     ]
    },
    {
     "name": "stderr",
     "output_type": "stream",
     "text": [
      " 17%|██▌            | 8399998/49900000 [39:54:01<216:18:13, 53.29it/s]"
     ]
    },
    {
     "name": "stdout",
     "output_type": "stream",
     "text": [
      "////////////////////////\n",
      "Average reward: 0.0741 \n",
      "Average loss: 0.029514 \n",
      "Average Q: 7.559822\n",
      "\n",
      "Avg. Ep. Reward: 3.5185 \n",
      "Max Ep. Reward: 15.0000 \n",
      "Min Ep. Reward: 0.0000 \n",
      "# Game: 1053\n",
      "[*] Saving checkpoints...\n"
     ]
    },
    {
     "name": "stderr",
     "output_type": "stream",
     "text": [
      " 17%|██▌            | 8449997/49900000 [40:08:32<198:04:41, 58.13it/s]"
     ]
    },
    {
     "name": "stdout",
     "output_type": "stream",
     "text": [
      "////////////////////////\n",
      "Average reward: 0.0734 \n",
      "Average loss: 0.029765 \n",
      "Average Q: 7.584988\n",
      "\n",
      "Avg. Ep. Reward: 3.3258 \n",
      "Max Ep. Reward: 17.0000 \n",
      "Min Ep. Reward: 0.0000 \n",
      "# Game: 1102\n",
      "[*] Saving checkpoints...\n"
     ]
    },
    {
     "name": "stderr",
     "output_type": "stream",
     "text": [
      " 17%|██▌            | 8499997/49900000 [40:23:05<205:54:22, 55.85it/s]"
     ]
    },
    {
     "name": "stdout",
     "output_type": "stream",
     "text": [
      "////////////////////////\n",
      "Average reward: 0.0726 \n",
      "Average loss: 0.030210 \n",
      "Average Q: 7.606045\n",
      "\n",
      "Avg. Ep. Reward: 3.2117 \n",
      "Max Ep. Reward: 16.0000 \n",
      "Min Ep. Reward: 0.0000 \n",
      "# Game: 1129\n",
      "[*] Saving checkpoints...\n"
     ]
    },
    {
     "name": "stderr",
     "output_type": "stream",
     "text": [
      " 17%|██▌            | 8549993/49900000 [40:37:35<197:58:48, 58.02it/s]"
     ]
    },
    {
     "name": "stdout",
     "output_type": "stream",
     "text": [
      "////////////////////////\n",
      "Average reward: 0.0730 \n",
      "Average loss: 0.029986 \n",
      "Average Q: 7.635607\n",
      "\n",
      "Avg. Ep. Reward: 3.2115 \n",
      "Max Ep. Reward: 22.0000 \n",
      "Min Ep. Reward: 0.0000 \n",
      "# Game: 1135\n",
      "[*] Saving checkpoints...\n"
     ]
    },
    {
     "name": "stderr",
     "output_type": "stream",
     "text": [
      " 17%|██▌            | 8599997/49900000 [40:52:08<203:54:32, 56.26it/s]"
     ]
    },
    {
     "name": "stdout",
     "output_type": "stream",
     "text": [
      "////////////////////////\n",
      "Average reward: 0.0732 \n",
      "Average loss: 0.030008 \n",
      "Average Q: 7.645071\n",
      "\n",
      "Avg. Ep. Reward: 3.3631 \n",
      "Max Ep. Reward: 22.0000 \n",
      "Min Ep. Reward: 0.0000 \n",
      "# Game: 1088\n",
      "[*] Saving checkpoints...\n"
     ]
    },
    {
     "name": "stderr",
     "output_type": "stream",
     "text": [
      " 17%|██▌            | 8649994/49900000 [41:06:43<212:12:04, 54.00it/s]"
     ]
    },
    {
     "name": "stdout",
     "output_type": "stream",
     "text": [
      "////////////////////////\n",
      "Average reward: 0.0726 \n",
      "Average loss: 0.030125 \n",
      "Average Q: 7.634469\n",
      "\n",
      "Avg. Ep. Reward: 3.2039 \n",
      "Max Ep. Reward: 18.0000 \n",
      "Min Ep. Reward: 0.0000 \n",
      "# Game: 1133\n",
      "[*] Saving checkpoints...\n"
     ]
    },
    {
     "name": "stderr",
     "output_type": "stream",
     "text": [
      " 17%|██▌            | 8699993/49900000 [41:21:10<186:50:14, 61.25it/s]"
     ]
    },
    {
     "name": "stdout",
     "output_type": "stream",
     "text": [
      "////////////////////////\n",
      "Average reward: 0.0737 \n",
      "Average loss: 0.030066 \n",
      "Average Q: 7.637747\n",
      "\n",
      "Avg. Ep. Reward: 3.5081 \n",
      "Max Ep. Reward: 19.0000 \n",
      "Min Ep. Reward: 0.0000 \n",
      "# Game: 1049\n",
      "[*] Saving checkpoints...\n"
     ]
    },
    {
     "name": "stderr",
     "output_type": "stream",
     "text": [
      " 18%|██▋            | 8749997/49900000 [41:35:36<192:23:51, 59.41it/s]"
     ]
    },
    {
     "name": "stdout",
     "output_type": "stream",
     "text": [
      "////////////////////////\n",
      "Average reward: 0.0741 \n",
      "Average loss: 0.030531 \n",
      "Average Q: 7.654902\n",
      "\n",
      "Avg. Ep. Reward: 3.4686 \n",
      "Max Ep. Reward: 20.0000 \n",
      "Min Ep. Reward: 0.0000 \n",
      "# Game: 1067\n",
      "[*] Saving checkpoints...\n"
     ]
    },
    {
     "name": "stderr",
     "output_type": "stream",
     "text": [
      " 18%|██▋            | 8799993/49900000 [41:50:13<198:59:53, 57.37it/s]"
     ]
    },
    {
     "name": "stdout",
     "output_type": "stream",
     "text": [
      "////////////////////////\n",
      "Average reward: 0.0730 \n",
      "Average loss: 0.030044 \n",
      "Average Q: 7.666257\n",
      "\n",
      "Avg. Ep. Reward: 3.3266 \n",
      "Max Ep. Reward: 17.0000 \n",
      "Min Ep. Reward: 0.0000 \n",
      "# Game: 1096\n",
      "[*] Saving checkpoints...\n"
     ]
    },
    {
     "name": "stderr",
     "output_type": "stream",
     "text": [
      " 18%|██▋            | 8849997/49900000 [42:04:50<212:36:08, 53.63it/s]"
     ]
    },
    {
     "name": "stdout",
     "output_type": "stream",
     "text": [
      "////////////////////////\n",
      "Average reward: 0.0734 \n",
      "Average loss: 0.030249 \n",
      "Average Q: 7.700129\n",
      "\n",
      "Avg. Ep. Reward: 3.3611 \n",
      "Max Ep. Reward: 18.0000 \n",
      "Min Ep. Reward: 0.0000 \n",
      "# Game: 1091\n",
      "[*] Saving checkpoints...\n"
     ]
    },
    {
     "name": "stderr",
     "output_type": "stream",
     "text": [
      " 18%|██▋            | 8899993/49900000 [42:19:24<198:18:20, 57.43it/s]"
     ]
    },
    {
     "name": "stdout",
     "output_type": "stream",
     "text": [
      "////////////////////////\n",
      "Average reward: 0.0735 \n",
      "Average loss: 0.029903 \n",
      "Average Q: 7.736784\n",
      "\n",
      "Avg. Ep. Reward: 3.3728 \n",
      "Max Ep. Reward: 28.0000 \n",
      "Min Ep. Reward: 0.0000 \n",
      "# Game: 1089\n",
      "[*] Saving checkpoints...\n"
     ]
    },
    {
     "name": "stderr",
     "output_type": "stream",
     "text": [
      " 18%|██▋            | 8949996/49900000 [42:33:53<187:05:13, 60.80it/s]"
     ]
    },
    {
     "name": "stdout",
     "output_type": "stream",
     "text": [
      "////////////////////////\n",
      "Average reward: 0.0734 \n",
      "Average loss: 0.030426 \n",
      "Average Q: 7.775776\n",
      "\n",
      "Avg. Ep. Reward: 3.3624 \n",
      "Max Ep. Reward: 21.0000 \n",
      "Min Ep. Reward: 0.0000 \n",
      "# Game: 1090\n",
      "[*] Saving checkpoints...\n"
     ]
    },
    {
     "name": "stderr",
     "output_type": "stream",
     "text": [
      " 18%|██▋            | 8999998/49900000 [42:48:27<201:55:55, 56.26it/s]"
     ]
    },
    {
     "name": "stdout",
     "output_type": "stream",
     "text": [
      "////////////////////////\n",
      "Average reward: 0.0742 \n",
      "Average loss: 0.029821 \n",
      "Average Q: 7.806098\n",
      "\n",
      "Avg. Ep. Reward: 3.5367 \n",
      "Max Ep. Reward: 15.0000 \n",
      "Min Ep. Reward: 0.0000 \n",
      "# Game: 1049\n",
      "[*] Saving checkpoints...\n"
     ]
    },
    {
     "name": "stderr",
     "output_type": "stream",
     "text": [
      " 18%|██▋            | 9049996/49900000 [43:02:56<184:22:58, 61.54it/s]"
     ]
    },
    {
     "name": "stdout",
     "output_type": "stream",
     "text": [
      "////////////////////////\n",
      "Average reward: 0.0749 \n",
      "Average loss: 0.029929 \n",
      "Average Q: 7.802185\n",
      "\n",
      "Avg. Ep. Reward: 3.5216 \n",
      "Max Ep. Reward: 16.0000 \n",
      "Min Ep. Reward: 0.0000 \n",
      "# Game: 1064\n",
      "[*] Saving checkpoints...\n"
     ]
    },
    {
     "name": "stderr",
     "output_type": "stream",
     "text": [
      " 18%|██▋            | 9099997/49900000 [43:17:25<204:50:07, 55.33it/s]"
     ]
    },
    {
     "name": "stdout",
     "output_type": "stream",
     "text": [
      "////////////////////////\n",
      "Average reward: 0.0745 \n",
      "Average loss: 0.029566 \n",
      "Average Q: 7.816507\n",
      "\n",
      "Avg. Ep. Reward: 3.4049 \n",
      "Max Ep. Reward: 16.0000 \n",
      "Min Ep. Reward: 0.0000 \n",
      "# Game: 1094\n",
      "[*] Saving checkpoints...\n"
     ]
    },
    {
     "name": "stderr",
     "output_type": "stream",
     "text": [
      " 18%|██▊            | 9149993/49900000 [43:31:56<196:48:27, 57.52it/s]"
     ]
    },
    {
     "name": "stdout",
     "output_type": "stream",
     "text": [
      "////////////////////////\n",
      "Average reward: 0.0737 \n",
      "Average loss: 0.030552 \n",
      "Average Q: 7.825061\n",
      "\n",
      "Avg. Ep. Reward: 3.3525 \n",
      "Max Ep. Reward: 17.0000 \n",
      "Min Ep. Reward: 0.0000 \n",
      "# Game: 1098\n",
      "[*] Saving checkpoints...\n"
     ]
    },
    {
     "name": "stderr",
     "output_type": "stream",
     "text": [
      " 18%|██▊            | 9199993/49900000 [43:46:24<198:22:47, 56.99it/s]"
     ]
    },
    {
     "name": "stdout",
     "output_type": "stream",
     "text": [
      "////////////////////////\n",
      "Average reward: 0.0746 \n",
      "Average loss: 0.029481 \n",
      "Average Q: 7.844539\n",
      "\n",
      "Avg. Ep. Reward: 3.5061 \n",
      "Max Ep. Reward: 15.0000 \n",
      "Min Ep. Reward: 0.0000 \n",
      "# Game: 1063\n",
      "[*] Saving checkpoints...\n"
     ]
    },
    {
     "name": "stderr",
     "output_type": "stream",
     "text": [
      " 19%|██▊            | 9249997/49900000 [44:00:48<199:10:12, 56.69it/s]"
     ]
    },
    {
     "name": "stdout",
     "output_type": "stream",
     "text": [
      "////////////////////////\n",
      "Average reward: 0.0745 \n",
      "Average loss: 0.029650 \n",
      "Average Q: 7.875949\n",
      "\n",
      "Avg. Ep. Reward: 3.4850 \n",
      "Max Ep. Reward: 16.0000 \n",
      "Min Ep. Reward: 0.0000 \n",
      "# Game: 1068\n",
      "[*] Saving checkpoints...\n"
     ]
    },
    {
     "name": "stderr",
     "output_type": "stream",
     "text": [
      " 19%|██▊            | 9299999/49900000 [44:15:19<202:03:00, 55.82it/s]"
     ]
    },
    {
     "name": "stdout",
     "output_type": "stream",
     "text": [
      "////////////////////////\n",
      "Average reward: 0.0730 \n",
      "Average loss: 0.029759 \n",
      "Average Q: 7.940134\n",
      "\n",
      "Avg. Ep. Reward: 3.2283 \n",
      "Max Ep. Reward: 18.0000 \n",
      "Min Ep. Reward: 0.0000 \n",
      "# Game: 1130\n",
      "[*] Saving checkpoints...\n"
     ]
    },
    {
     "name": "stderr",
     "output_type": "stream",
     "text": [
      " 19%|██▊            | 9349997/49900000 [44:29:54<213:38:41, 52.72it/s]"
     ]
    },
    {
     "name": "stdout",
     "output_type": "stream",
     "text": [
      "////////////////////////\n",
      "Average reward: 0.0730 \n",
      "Average loss: 0.029668 \n",
      "Average Q: 7.996176\n",
      "\n",
      "Avg. Ep. Reward: 3.2972 \n",
      "Max Ep. Reward: 13.0000 \n",
      "Min Ep. Reward: 0.0000 \n",
      "# Game: 1107\n",
      "[*] Saving checkpoints...\n"
     ]
    },
    {
     "name": "stderr",
     "output_type": "stream",
     "text": [
      " 19%|██▊            | 9399993/49900000 [44:44:30<197:29:43, 56.96it/s]"
     ]
    },
    {
     "name": "stdout",
     "output_type": "stream",
     "text": [
      "////////////////////////\n",
      "Average reward: 0.0742 \n",
      "Average loss: 0.030049 \n",
      "Average Q: 8.022258\n",
      "\n",
      "Avg. Ep. Reward: 3.4530 \n",
      "Max Ep. Reward: 25.0000 \n",
      "Min Ep. Reward: 0.0000 \n",
      "# Game: 1075\n",
      "[*] Saving checkpoints...\n"
     ]
    },
    {
     "name": "stderr",
     "output_type": "stream",
     "text": [
      " 19%|██▊            | 9449998/49900000 [44:59:02<207:50:45, 54.06it/s]"
     ]
    },
    {
     "name": "stdout",
     "output_type": "stream",
     "text": [
      "////////////////////////\n",
      "Average reward: 0.0730 \n",
      "Average loss: 0.030271 \n",
      "Average Q: 8.057731\n",
      "\n",
      "Avg. Ep. Reward: 3.2589 \n",
      "Max Ep. Reward: 17.0000 \n",
      "Min Ep. Reward: 0.0000 \n",
      "# Game: 1120\n",
      "[*] Saving checkpoints...\n"
     ]
    },
    {
     "name": "stderr",
     "output_type": "stream",
     "text": [
      " 19%|██▊            | 9499999/49900000 [45:13:38<195:04:12, 57.53it/s]"
     ]
    },
    {
     "name": "stdout",
     "output_type": "stream",
     "text": [
      "////////////////////////\n",
      "Average reward: 0.0741 \n",
      "Average loss: 0.030401 \n",
      "Average Q: 8.103188\n",
      "\n",
      "Avg. Ep. Reward: 3.3929 \n",
      "Max Ep. Reward: 21.0000 \n",
      "Min Ep. Reward: 0.0000 \n",
      "# Game: 1092\n",
      "[*] Saving checkpoints...\n"
     ]
    },
    {
     "name": "stderr",
     "output_type": "stream",
     "text": [
      " 19%|██▊            | 9549999/49900000 [45:28:15<191:26:51, 58.55it/s]"
     ]
    },
    {
     "name": "stdout",
     "output_type": "stream",
     "text": [
      "////////////////////////\n",
      "Average reward: 0.0730 \n",
      "Average loss: 0.030756 \n",
      "Average Q: 8.127315\n",
      "\n",
      "Avg. Ep. Reward: 3.2169 \n",
      "Max Ep. Reward: 15.0000 \n",
      "Min Ep. Reward: 0.0000 \n",
      "# Game: 1134\n",
      "[*] Saving checkpoints...\n"
     ]
    },
    {
     "name": "stderr",
     "output_type": "stream",
     "text": [
      " 19%|██▉            | 9599997/49900000 [45:42:44<206:37:23, 54.18it/s]"
     ]
    },
    {
     "name": "stdout",
     "output_type": "stream",
     "text": [
      "////////////////////////\n",
      "Average reward: 0.0739 \n",
      "Average loss: 0.030002 \n",
      "Average Q: 8.162812\n",
      "\n",
      "Avg. Ep. Reward: 3.4404 \n",
      "Max Ep. Reward: 17.0000 \n",
      "Min Ep. Reward: 0.0000 \n",
      "# Game: 1074\n",
      "[*] Saving checkpoints...\n"
     ]
    },
    {
     "name": "stderr",
     "output_type": "stream",
     "text": [
      " 19%|██▉            | 9649995/49900000 [45:57:17<196:22:04, 56.94it/s]"
     ]
    },
    {
     "name": "stdout",
     "output_type": "stream",
     "text": [
      "////////////////////////\n",
      "Average reward: 0.0736 \n",
      "Average loss: 0.030468 \n",
      "Average Q: 8.172533\n",
      "\n",
      "Avg. Ep. Reward: 3.4083 \n",
      "Max Ep. Reward: 17.0000 \n",
      "Min Ep. Reward: 0.0000 \n",
      "# Game: 1080\n",
      "[*] Saving checkpoints...\n"
     ]
    },
    {
     "name": "stderr",
     "output_type": "stream",
     "text": [
      " 19%|██▉            | 9699993/49900000 [46:11:47<195:01:58, 57.26it/s]"
     ]
    },
    {
     "name": "stdout",
     "output_type": "stream",
     "text": [
      "////////////////////////\n",
      "Average reward: 0.0738 \n",
      "Average loss: 0.030258 \n",
      "Average Q: 8.168396\n",
      "\n",
      "Avg. Ep. Reward: 3.5311 \n",
      "Max Ep. Reward: 18.0000 \n",
      "Min Ep. Reward: 0.0000 \n",
      "# Game: 1045\n",
      "[*] Saving checkpoints...\n"
     ]
    },
    {
     "name": "stderr",
     "output_type": "stream",
     "text": [
      " 20%|██▉            | 9749995/49900000 [46:26:21<195:03:58, 57.17it/s]"
     ]
    },
    {
     "name": "stdout",
     "output_type": "stream",
     "text": [
      "////////////////////////\n",
      "Average reward: 0.0738 \n",
      "Average loss: 0.029678 \n",
      "Average Q: 8.162366\n",
      "\n",
      "Avg. Ep. Reward: 3.3875 \n",
      "Max Ep. Reward: 14.0000 \n",
      "Min Ep. Reward: 0.0000 \n",
      "# Game: 1089\n",
      "[*] Saving checkpoints...\n"
     ]
    },
    {
     "name": "stderr",
     "output_type": "stream",
     "text": [
      " 20%|██▉            | 9799993/49900000 [46:40:46<201:31:37, 55.27it/s]"
     ]
    },
    {
     "name": "stdout",
     "output_type": "stream",
     "text": [
      "////////////////////////\n",
      "Average reward: 0.0738 \n",
      "Average loss: 0.030006 \n",
      "Average Q: 8.164784\n",
      "\n",
      "Avg. Ep. Reward: 3.6035 \n",
      "Max Ep. Reward: 16.0000 \n",
      "Min Ep. Reward: 0.0000 \n",
      "# Game: 1024\n",
      "[*] Saving checkpoints...\n"
     ]
    },
    {
     "name": "stderr",
     "output_type": "stream",
     "text": [
      " 20%|██▉            | 9849997/49900000 [46:55:15<199:56:39, 55.64it/s]"
     ]
    },
    {
     "name": "stdout",
     "output_type": "stream",
     "text": [
      "////////////////////////\n",
      "Average reward: 0.0741 \n",
      "Average loss: 0.029775 \n",
      "Average Q: 8.211530\n",
      "\n",
      "Avg. Ep. Reward: 3.4589 \n",
      "Max Ep. Reward: 18.0000 \n",
      "Min Ep. Reward: 0.0000 \n",
      "# Game: 1070\n",
      "[*] Saving checkpoints...\n"
     ]
    },
    {
     "name": "stderr",
     "output_type": "stream",
     "text": [
      " 20%|██▉            | 9899995/49900000 [47:09:48<190:17:43, 58.39it/s]"
     ]
    },
    {
     "name": "stdout",
     "output_type": "stream",
     "text": [
      "////////////////////////\n",
      "Average reward: 0.0737 \n",
      "Average loss: 0.030676 \n",
      "Average Q: 8.281117\n",
      "\n",
      "Avg. Ep. Reward: 3.3592 \n",
      "Max Ep. Reward: 18.0000 \n",
      "Min Ep. Reward: 0.0000 \n",
      "# Game: 1097\n",
      "[*] Saving checkpoints...\n"
     ]
    },
    {
     "name": "stderr",
     "output_type": "stream",
     "text": [
      " 20%|██▉            | 9949997/49900000 [47:24:21<201:26:21, 55.09it/s]"
     ]
    },
    {
     "name": "stdout",
     "output_type": "stream",
     "text": [
      "////////////////////////\n",
      "Average reward: 0.0749 \n",
      "Average loss: 0.030068 \n",
      "Average Q: 8.319118\n",
      "\n",
      "Avg. Ep. Reward: 3.5813 \n",
      "Max Ep. Reward: 23.0000 \n",
      "Min Ep. Reward: 0.0000 \n",
      "# Game: 1046\n",
      "[*] Saving checkpoints...\n"
     ]
    },
    {
     "name": "stderr",
     "output_type": "stream",
     "text": [
      " 20%|███            | 9999997/49900000 [47:38:44<190:30:01, 58.18it/s]"
     ]
    },
    {
     "name": "stdout",
     "output_type": "stream",
     "text": [
      "////////////////////////\n",
      "Average reward: 0.0747 \n",
      "Average loss: 0.030618 \n",
      "Average Q: 8.365641\n",
      "\n",
      "Avg. Ep. Reward: 3.4698 \n",
      "Max Ep. Reward: 25.0000 \n",
      "Min Ep. Reward: 0.0000 \n",
      "# Game: 1075\n",
      "[*] Saving checkpoints...\n"
     ]
    },
    {
     "name": "stderr",
     "output_type": "stream",
     "text": [
      " 20%|██▊           | 10049998/49900000 [47:53:09<202:32:30, 54.65it/s]"
     ]
    },
    {
     "name": "stdout",
     "output_type": "stream",
     "text": [
      "////////////////////////\n",
      "Average reward: 0.0744 \n",
      "Average loss: 0.030446 \n",
      "Average Q: 8.416658\n",
      "\n",
      "Avg. Ep. Reward: 3.5794 \n",
      "Max Ep. Reward: 22.0000 \n",
      "Min Ep. Reward: 0.0000 \n",
      "# Game: 1039\n",
      "[*] Saving checkpoints...\n"
     ]
    },
    {
     "name": "stderr",
     "output_type": "stream",
     "text": [
      " 20%|██▊           | 10099995/49900000 [48:07:39<188:33:31, 58.63it/s]"
     ]
    },
    {
     "name": "stdout",
     "output_type": "stream",
     "text": [
      "////////////////////////\n",
      "Average reward: 0.0742 \n",
      "Average loss: 0.030486 \n",
      "Average Q: 8.413695\n",
      "\n",
      "Avg. Ep. Reward: 3.5066 \n",
      "Max Ep. Reward: 23.0000 \n",
      "Min Ep. Reward: 0.0000 \n",
      "# Game: 1058\n",
      "[*] Saving checkpoints...\n"
     ]
    },
    {
     "name": "stderr",
     "output_type": "stream",
     "text": [
      " 20%|██▊           | 10149999/49900000 [48:22:09<195:30:10, 56.48it/s]"
     ]
    },
    {
     "name": "stdout",
     "output_type": "stream",
     "text": [
      "////////////////////////\n",
      "Average reward: 0.0740 \n",
      "Average loss: 0.030260 \n",
      "Average Q: 8.459541\n",
      "\n",
      "Avg. Ep. Reward: 3.4859 \n",
      "Max Ep. Reward: 18.0000 \n",
      "Min Ep. Reward: 0.0000 \n",
      "# Game: 1062\n",
      "[*] Saving checkpoints...\n"
     ]
    },
    {
     "name": "stderr",
     "output_type": "stream",
     "text": [
      " 20%|██▊           | 10199993/49900000 [48:36:36<199:26:09, 55.29it/s]"
     ]
    },
    {
     "name": "stdout",
     "output_type": "stream",
     "text": [
      "////////////////////////\n",
      "Average reward: 0.0754 \n",
      "Average loss: 0.029976 \n",
      "Average Q: 8.501309\n",
      "\n",
      "Avg. Ep. Reward: 3.5490 \n",
      "Max Ep. Reward: 19.0000 \n",
      "Min Ep. Reward: 0.0000 \n",
      "# Game: 1062\n",
      "[*] Saving checkpoints...\n"
     ]
    },
    {
     "name": "stderr",
     "output_type": "stream",
     "text": [
      " 21%|██▉           | 10249993/49900000 [48:51:08<182:50:30, 60.24it/s]"
     ]
    },
    {
     "name": "stdout",
     "output_type": "stream",
     "text": [
      "////////////////////////\n",
      "Average reward: 0.0745 \n",
      "Average loss: 0.030350 \n",
      "Average Q: 8.518763\n",
      "\n",
      "Avg. Ep. Reward: 3.4353 \n",
      "Max Ep. Reward: 22.0000 \n",
      "Min Ep. Reward: 0.0000 \n",
      "# Game: 1082\n",
      "[*] Saving checkpoints...\n"
     ]
    },
    {
     "name": "stderr",
     "output_type": "stream",
     "text": [
      " 21%|██▉           | 10299995/49900000 [49:05:37<178:48:32, 61.52it/s]"
     ]
    },
    {
     "name": "stdout",
     "output_type": "stream",
     "text": [
      "////////////////////////\n",
      "Average reward: 0.0752 \n",
      "Average loss: 0.030554 \n",
      "Average Q: 8.528100\n",
      "\n",
      "Avg. Ep. Reward: 3.6224 \n",
      "Max Ep. Reward: 19.0000 \n",
      "Min Ep. Reward: 0.0000 \n",
      "# Game: 1038\n",
      "[*] Saving checkpoints...\n"
     ]
    },
    {
     "name": "stderr",
     "output_type": "stream",
     "text": [
      " 21%|██▉           | 10349993/49900000 [49:20:11<192:48:52, 56.98it/s]"
     ]
    },
    {
     "name": "stdout",
     "output_type": "stream",
     "text": [
      "////////////////////////\n",
      "Average reward: 0.0739 \n",
      "Average loss: 0.030264 \n",
      "Average Q: 8.542285\n",
      "\n",
      "Avg. Ep. Reward: 3.3708 \n",
      "Max Ep. Reward: 18.0000 \n",
      "Min Ep. Reward: 0.0000 \n",
      "# Game: 1095\n",
      "[*] Saving checkpoints...\n"
     ]
    },
    {
     "name": "stderr",
     "output_type": "stream",
     "text": [
      " 21%|██▉           | 10399993/49900000 [49:34:37<190:22:37, 57.63it/s]"
     ]
    },
    {
     "name": "stdout",
     "output_type": "stream",
     "text": [
      "////////////////////////\n",
      "Average reward: 0.0737 \n",
      "Average loss: 0.030643 \n",
      "Average Q: 8.546980\n",
      "\n",
      "Avg. Ep. Reward: 3.3967 \n",
      "Max Ep. Reward: 20.0000 \n",
      "Min Ep. Reward: 0.0000 \n",
      "# Game: 1084\n",
      "[*] Saving checkpoints...\n"
     ]
    },
    {
     "name": "stderr",
     "output_type": "stream",
     "text": [
      " 21%|██▉           | 10449998/49900000 [49:49:02<197:10:34, 55.58it/s]"
     ]
    },
    {
     "name": "stdout",
     "output_type": "stream",
     "text": [
      "////////////////////////\n",
      "Average reward: 0.0728 \n",
      "Average loss: 0.030742 \n",
      "Average Q: 8.584287\n",
      "\n",
      "Avg. Ep. Reward: 3.3045 \n",
      "Max Ep. Reward: 19.0000 \n",
      "Min Ep. Reward: 0.0000 \n",
      "# Game: 1100\n",
      "[*] Saving checkpoints...\n"
     ]
    },
    {
     "name": "stderr",
     "output_type": "stream",
     "text": [
      " 21%|██▉           | 10499993/49900000 [50:03:32<189:43:25, 57.69it/s]"
     ]
    },
    {
     "name": "stdout",
     "output_type": "stream",
     "text": [
      "////////////////////////\n",
      "Average reward: 0.0757 \n",
      "Average loss: 0.030041 \n",
      "Average Q: 8.601635\n",
      "\n",
      "Avg. Ep. Reward: 3.6567 \n",
      "Max Ep. Reward: 20.0000 \n",
      "Min Ep. Reward: 0.0000 \n",
      "# Game: 1034\n",
      "[*] Saving checkpoints...\n"
     ]
    },
    {
     "name": "stderr",
     "output_type": "stream",
     "text": [
      " 21%|██▉           | 10549997/49900000 [50:18:04<182:34:05, 59.87it/s]"
     ]
    },
    {
     "name": "stdout",
     "output_type": "stream",
     "text": [
      "////////////////////////\n",
      "Average reward: 0.0749 \n",
      "Average loss: 0.030424 \n",
      "Average Q: 8.617434\n",
      "\n",
      "Avg. Ep. Reward: 3.4648 \n",
      "Max Ep. Reward: 23.0000 \n",
      "Min Ep. Reward: 0.0000 \n",
      "# Game: 1080\n",
      "[*] Saving checkpoints...\n"
     ]
    },
    {
     "name": "stderr",
     "output_type": "stream",
     "text": [
      " 21%|██▉           | 10599993/49900000 [50:32:33<197:51:44, 55.17it/s]"
     ]
    },
    {
     "name": "stdout",
     "output_type": "stream",
     "text": [
      "////////////////////////\n",
      "Average reward: 0.0751 \n",
      "Average loss: 0.030695 \n",
      "Average Q: 8.656571\n",
      "\n",
      "Avg. Ep. Reward: 3.5439 \n",
      "Max Ep. Reward: 18.0000 \n",
      "Min Ep. Reward: 0.0000 \n",
      "# Game: 1059\n",
      "[*] Saving checkpoints...\n"
     ]
    },
    {
     "name": "stderr",
     "output_type": "stream",
     "text": [
      " 21%|██▉           | 10649993/49900000 [50:47:03<184:15:30, 59.17it/s]"
     ]
    },
    {
     "name": "stdout",
     "output_type": "stream",
     "text": [
      "////////////////////////\n",
      "Average reward: 0.0745 \n",
      "Average loss: 0.031533 \n",
      "Average Q: 8.682515\n",
      "\n",
      "Avg. Ep. Reward: 3.5423 \n",
      "Max Ep. Reward: 19.0000 \n",
      "Min Ep. Reward: 0.0000 \n",
      "# Game: 1051\n",
      "[*] Saving checkpoints...\n"
     ]
    },
    {
     "name": "stderr",
     "output_type": "stream",
     "text": [
      " 21%|███           | 10699997/49900000 [51:01:33<183:22:24, 59.38it/s]"
     ]
    },
    {
     "name": "stdout",
     "output_type": "stream",
     "text": [
      "////////////////////////\n",
      "Average reward: 0.0756 \n",
      "Average loss: 0.030989 \n",
      "Average Q: 8.690421\n",
      "\n",
      "Avg. Ep. Reward: 3.6451 \n",
      "Max Ep. Reward: 20.0000 \n",
      "Min Ep. Reward: 0.0000 \n",
      "# Game: 1037\n",
      "[*] Saving checkpoints...\n"
     ]
    },
    {
     "name": "stderr",
     "output_type": "stream",
     "text": [
      " 22%|███           | 10749995/49900000 [51:15:59<187:04:45, 58.13it/s]"
     ]
    },
    {
     "name": "stdout",
     "output_type": "stream",
     "text": [
      "////////////////////////\n",
      "Average reward: 0.0750 \n",
      "Average loss: 0.031956 \n",
      "Average Q: 8.674482\n",
      "\n",
      "Avg. Ep. Reward: 3.6073 \n",
      "Max Ep. Reward: 21.0000 \n",
      "Min Ep. Reward: 0.0000 \n",
      "# Game: 1039\n",
      "[*] Saving checkpoints...\n"
     ]
    },
    {
     "name": "stderr",
     "output_type": "stream",
     "text": [
      " 22%|███           | 10799993/49900000 [51:30:32<186:42:30, 58.17it/s]"
     ]
    },
    {
     "name": "stdout",
     "output_type": "stream",
     "text": [
      "////////////////////////\n",
      "Average reward: 0.0757 \n",
      "Average loss: 0.031341 \n",
      "Average Q: 8.658985\n",
      "\n",
      "Avg. Ep. Reward: 3.6053 \n",
      "Max Ep. Reward: 28.0000 \n",
      "Min Ep. Reward: 0.0000 \n",
      "# Game: 1049\n",
      "[*] Saving checkpoints...\n"
     ]
    },
    {
     "name": "stderr",
     "output_type": "stream",
     "text": [
      " 22%|███           | 10849996/49900000 [51:45:00<182:43:50, 59.36it/s]"
     ]
    },
    {
     "name": "stdout",
     "output_type": "stream",
     "text": [
      "////////////////////////\n",
      "Average reward: 0.0757 \n",
      "Average loss: 0.031687 \n",
      "Average Q: 8.658019\n",
      "\n",
      "Avg. Ep. Reward: 3.5799 \n",
      "Max Ep. Reward: 23.0000 \n",
      "Min Ep. Reward: 0.0000 \n",
      "# Game: 1057\n",
      "[*] Saving checkpoints...\n"
     ]
    },
    {
     "name": "stderr",
     "output_type": "stream",
     "text": [
      " 22%|███           | 10899993/49900000 [51:59:26<192:16:28, 56.34it/s]"
     ]
    },
    {
     "name": "stdout",
     "output_type": "stream",
     "text": [
      "////////////////////////\n",
      "Average reward: 0.0743 \n",
      "Average loss: 0.031195 \n",
      "Average Q: 8.686271\n",
      "\n",
      "Avg. Ep. Reward: 3.4705 \n",
      "Max Ep. Reward: 20.0000 \n",
      "Min Ep. Reward: 0.0000 \n",
      "# Game: 1069\n",
      "[*] Saving checkpoints...\n"
     ]
    },
    {
     "name": "stderr",
     "output_type": "stream",
     "text": [
      " 22%|███           | 10949994/49900000 [52:13:59<183:37:19, 58.92it/s]"
     ]
    },
    {
     "name": "stdout",
     "output_type": "stream",
     "text": [
      "////////////////////////\n",
      "Average reward: 0.0749 \n",
      "Average loss: 0.030938 \n",
      "Average Q: 8.720163\n",
      "\n",
      "Avg. Ep. Reward: 3.5464 \n",
      "Max Ep. Reward: 22.0000 \n",
      "Min Ep. Reward: 0.0000 \n",
      "# Game: 1056\n",
      "[*] Saving checkpoints...\n"
     ]
    },
    {
     "name": "stderr",
     "output_type": "stream",
     "text": [
      " 22%|███           | 10999993/49900000 [52:28:34<199:50:40, 54.07it/s]"
     ]
    },
    {
     "name": "stdout",
     "output_type": "stream",
     "text": [
      "////////////////////////\n",
      "Average reward: 0.0755 \n",
      "Average loss: 0.030867 \n",
      "Average Q: 8.733154\n",
      "\n",
      "Avg. Ep. Reward: 3.5831 \n",
      "Max Ep. Reward: 32.0000 \n",
      "Min Ep. Reward: 0.0000 \n",
      "# Game: 1053\n",
      "[*] Saving checkpoints...\n"
     ]
    },
    {
     "name": "stderr",
     "output_type": "stream",
     "text": [
      " 22%|███           | 11049997/49900000 [52:43:06<193:11:21, 55.86it/s]"
     ]
    },
    {
     "name": "stdout",
     "output_type": "stream",
     "text": [
      "////////////////////////\n",
      "Average reward: 0.0734 \n",
      "Average loss: 0.031776 \n",
      "Average Q: 8.760585\n",
      "\n",
      "Avg. Ep. Reward: 3.4367 \n",
      "Max Ep. Reward: 19.0000 \n",
      "Min Ep. Reward: 0.0000 \n",
      "# Game: 1067\n",
      "[*] Saving checkpoints...\n"
     ]
    },
    {
     "name": "stderr",
     "output_type": "stream",
     "text": [
      " 22%|███           | 11099997/49900000 [52:57:40<186:13:16, 57.88it/s]"
     ]
    },
    {
     "name": "stdout",
     "output_type": "stream",
     "text": [
      "////////////////////////\n",
      "Average reward: 0.0748 \n",
      "Average loss: 0.032050 \n",
      "Average Q: 8.817034\n",
      "\n",
      "Avg. Ep. Reward: 3.5718 \n",
      "Max Ep. Reward: 20.0000 \n",
      "Min Ep. Reward: 0.0000 \n",
      "# Game: 1044\n",
      "[*] Saving checkpoints...\n"
     ]
    },
    {
     "name": "stderr",
     "output_type": "stream",
     "text": [
      " 22%|███▏          | 11149993/49900000 [53:12:13<188:55:20, 56.98it/s]"
     ]
    },
    {
     "name": "stdout",
     "output_type": "stream",
     "text": [
      "////////////////////////\n",
      "Average reward: 0.0752 \n",
      "Average loss: 0.031617 \n",
      "Average Q: 8.847281\n",
      "\n",
      "Avg. Ep. Reward: 3.6709 \n",
      "Max Ep. Reward: 26.0000 \n",
      "Min Ep. Reward: 0.0000 \n",
      "# Game: 1024\n",
      "[*] Saving checkpoints...\n"
     ]
    },
    {
     "name": "stderr",
     "output_type": "stream",
     "text": [
      " 22%|███▏          | 11199998/49900000 [53:26:51<206:41:39, 52.01it/s]"
     ]
    },
    {
     "name": "stdout",
     "output_type": "stream",
     "text": [
      "////////////////////////\n",
      "Average reward: 0.0744 \n",
      "Average loss: 0.031552 \n",
      "Average Q: 8.889278\n",
      "\n",
      "Avg. Ep. Reward: 3.4887 \n",
      "Max Ep. Reward: 20.0000 \n",
      "Min Ep. Reward: 0.0000 \n",
      "# Game: 1066\n",
      "[*] Saving checkpoints...\n"
     ]
    },
    {
     "name": "stderr",
     "output_type": "stream",
     "text": [
      " 23%|███▏          | 11249997/49900000 [53:41:20<183:15:18, 58.59it/s]"
     ]
    },
    {
     "name": "stdout",
     "output_type": "stream",
     "text": [
      "////////////////////////\n",
      "Average reward: 0.0754 \n",
      "Average loss: 0.031200 \n",
      "Average Q: 8.905626\n",
      "\n",
      "Avg. Ep. Reward: 3.5794 \n",
      "Max Ep. Reward: 20.0000 \n",
      "Min Ep. Reward: 0.0000 \n",
      "# Game: 1051\n",
      "[*] Saving checkpoints...\n"
     ]
    },
    {
     "name": "stderr",
     "output_type": "stream",
     "text": [
      " 23%|███▏          | 11299995/49900000 [53:55:45<185:25:33, 57.82it/s]"
     ]
    },
    {
     "name": "stdout",
     "output_type": "stream",
     "text": [
      "////////////////////////\n",
      "Average reward: 0.0756 \n",
      "Average loss: 0.031125 \n",
      "Average Q: 8.896858\n",
      "\n",
      "Avg. Ep. Reward: 3.7092 \n",
      "Max Ep. Reward: 23.0000 \n",
      "Min Ep. Reward: 0.0000 \n",
      "# Game: 1018\n",
      "[*] Saving checkpoints...\n"
     ]
    },
    {
     "name": "stderr",
     "output_type": "stream",
     "text": [
      " 23%|███▏          | 11349996/49900000 [54:10:12<177:29:10, 60.33it/s]"
     ]
    },
    {
     "name": "stdout",
     "output_type": "stream",
     "text": [
      "////////////////////////\n",
      "Average reward: 0.0753 \n",
      "Average loss: 0.031398 \n",
      "Average Q: 8.946265\n",
      "\n",
      "Avg. Ep. Reward: 3.6189 \n",
      "Max Ep. Reward: 24.0000 \n",
      "Min Ep. Reward: 0.0000 \n",
      "# Game: 1039\n",
      "[*] Saving checkpoints...\n"
     ]
    },
    {
     "name": "stderr",
     "output_type": "stream",
     "text": [
      " 23%|███▏          | 11399995/49900000 [54:24:40<180:01:50, 59.40it/s]"
     ]
    },
    {
     "name": "stdout",
     "output_type": "stream",
     "text": [
      "////////////////////////\n",
      "Average reward: 0.0739 \n",
      "Average loss: 0.031616 \n",
      "Average Q: 8.949186\n",
      "\n",
      "Avg. Ep. Reward: 3.5325 \n",
      "Max Ep. Reward: 18.0000 \n",
      "Min Ep. Reward: 0.0000 \n",
      "# Game: 1046\n",
      "[*] Saving checkpoints...\n"
     ]
    },
    {
     "name": "stderr",
     "output_type": "stream",
     "text": [
      " 23%|███▏          | 11449995/49900000 [54:39:09<177:59:27, 60.01it/s]"
     ]
    },
    {
     "name": "stdout",
     "output_type": "stream",
     "text": [
      "////////////////////////\n",
      "Average reward: 0.0747 \n",
      "Average loss: 0.030189 \n",
      "Average Q: 8.957316\n",
      "\n",
      "Avg. Ep. Reward: 3.5933 \n",
      "Max Ep. Reward: 23.0000 \n",
      "Min Ep. Reward: 0.0000 \n",
      "# Game: 1040\n",
      "[*] Saving checkpoints...\n"
     ]
    },
    {
     "name": "stderr",
     "output_type": "stream",
     "text": [
      " 23%|███▏          | 11499993/49900000 [54:53:39<182:00:05, 58.61it/s]"
     ]
    },
    {
     "name": "stdout",
     "output_type": "stream",
     "text": [
      "////////////////////////\n",
      "Average reward: 0.0751 \n",
      "Average loss: 0.031426 \n",
      "Average Q: 8.977270\n",
      "\n",
      "Avg. Ep. Reward: 3.5973 \n",
      "Max Ep. Reward: 19.0000 \n",
      "Min Ep. Reward: 0.0000 \n",
      "# Game: 1043\n",
      "[*] Saving checkpoints...\n"
     ]
    },
    {
     "name": "stderr",
     "output_type": "stream",
     "text": [
      " 23%|███▏          | 11549999/49900000 [55:08:04<192:12:00, 55.43it/s]"
     ]
    },
    {
     "name": "stdout",
     "output_type": "stream",
     "text": [
      "////////////////////////\n",
      "Average reward: 0.0737 \n",
      "Average loss: 0.032285 \n",
      "Average Q: 9.012846\n",
      "\n",
      "Avg. Ep. Reward: 3.4270 \n",
      "Max Ep. Reward: 15.0000 \n",
      "Min Ep. Reward: 0.0000 \n",
      "# Game: 1075\n",
      "[*] Saving checkpoints...\n"
     ]
    },
    {
     "name": "stderr",
     "output_type": "stream",
     "text": [
      " 23%|███▎          | 11599996/49900000 [55:22:33<171:57:34, 61.87it/s]"
     ]
    },
    {
     "name": "stdout",
     "output_type": "stream",
     "text": [
      "////////////////////////\n",
      "Average reward: 0.0742 \n",
      "Average loss: 0.031476 \n",
      "Average Q: 9.021054\n",
      "\n",
      "Avg. Ep. Reward: 3.5019 \n",
      "Max Ep. Reward: 18.0000 \n",
      "Min Ep. Reward: 0.0000 \n",
      "# Game: 1060\n",
      "[*] Saving checkpoints...\n"
     ]
    },
    {
     "name": "stderr",
     "output_type": "stream",
     "text": [
      " 23%|███▎          | 11649993/49900000 [55:36:57<186:08:05, 57.08it/s]"
     ]
    },
    {
     "name": "stdout",
     "output_type": "stream",
     "text": [
      "////////////////////////\n",
      "Average reward: 0.0748 \n",
      "Average loss: 0.031755 \n",
      "Average Q: 9.018591\n",
      "\n",
      "Avg. Ep. Reward: 3.6151 \n",
      "Max Ep. Reward: 25.0000 \n",
      "Min Ep. Reward: 0.0000 \n",
      "# Game: 1034\n",
      "[*] Saving checkpoints...\n"
     ]
    },
    {
     "name": "stderr",
     "output_type": "stream",
     "text": [
      " 23%|███▎          | 11699999/49900000 [55:51:23<183:01:02, 57.98it/s]"
     ]
    },
    {
     "name": "stdout",
     "output_type": "stream",
     "text": [
      "////////////////////////\n",
      "Average reward: 0.0750 \n",
      "Average loss: 0.032398 \n",
      "Average Q: 9.065255\n",
      "\n",
      "Avg. Ep. Reward: 3.6357 \n",
      "Max Ep. Reward: 22.0000 \n",
      "Min Ep. Reward: 0.0000 \n",
      "# Game: 1032\n",
      "[*] Saving checkpoints...\n"
     ]
    },
    {
     "name": "stderr",
     "output_type": "stream",
     "text": [
      " 24%|███▎          | 11749993/49900000 [56:05:52<181:28:31, 58.39it/s]"
     ]
    },
    {
     "name": "stdout",
     "output_type": "stream",
     "text": [
      "////////////////////////\n",
      "Average reward: 0.0739 \n",
      "Average loss: 0.032202 \n",
      "Average Q: 9.079268\n",
      "\n",
      "Avg. Ep. Reward: 3.5934 \n",
      "Max Ep. Reward: 17.0000 \n",
      "Min Ep. Reward: 0.0000 \n",
      "# Game: 1028\n",
      "[*] Saving checkpoints...\n"
     ]
    },
    {
     "name": "stderr",
     "output_type": "stream",
     "text": [
      " 24%|███▎          | 11799997/49900000 [56:20:25<186:01:46, 56.89it/s]"
     ]
    },
    {
     "name": "stdout",
     "output_type": "stream",
     "text": [
      "////////////////////////\n",
      "Average reward: 0.0740 \n",
      "Average loss: 0.031539 \n",
      "Average Q: 9.097797\n",
      "\n",
      "Avg. Ep. Reward: 3.5938 \n",
      "Max Ep. Reward: 18.0000 \n",
      "Min Ep. Reward: 0.0000 \n",
      "# Game: 1029\n",
      "[*] Saving checkpoints...\n"
     ]
    },
    {
     "name": "stderr",
     "output_type": "stream",
     "text": [
      " 24%|███▎          | 11849997/49900000 [56:34:50<200:08:10, 52.81it/s]"
     ]
    },
    {
     "name": "stdout",
     "output_type": "stream",
     "text": [
      "////////////////////////\n",
      "Average reward: 0.0746 \n",
      "Average loss: 0.031699 \n",
      "Average Q: 9.144766\n",
      "\n",
      "Avg. Ep. Reward: 3.6468 \n",
      "Max Ep. Reward: 19.0000 \n",
      "Min Ep. Reward: 0.0000 \n",
      "# Game: 1022\n",
      "[*] Saving checkpoints...\n"
     ]
    },
    {
     "name": "stderr",
     "output_type": "stream",
     "text": [
      " 24%|███▎          | 11899993/49900000 [56:49:20<181:12:14, 58.25it/s]"
     ]
    },
    {
     "name": "stdout",
     "output_type": "stream",
     "text": [
      "////////////////////////\n",
      "Average reward: 0.0745 \n",
      "Average loss: 0.031486 \n",
      "Average Q: 9.135010\n",
      "\n",
      "Avg. Ep. Reward: 3.6769 \n",
      "Max Ep. Reward: 22.0000 \n",
      "Min Ep. Reward: 0.0000 \n",
      "# Game: 1012\n",
      "[*] Saving checkpoints...\n"
     ]
    },
    {
     "name": "stderr",
     "output_type": "stream",
     "text": [
      " 24%|███▎          | 11949997/49900000 [57:03:48<194:42:11, 54.14it/s]"
     ]
    },
    {
     "name": "stdout",
     "output_type": "stream",
     "text": [
      "////////////////////////\n",
      "Average reward: 0.0738 \n",
      "Average loss: 0.031159 \n",
      "Average Q: 9.172968\n",
      "\n",
      "Avg. Ep. Reward: 3.4910 \n",
      "Max Ep. Reward: 21.0000 \n",
      "Min Ep. Reward: 0.0000 \n",
      "# Game: 1057\n",
      "[*] Saving checkpoints...\n"
     ]
    },
    {
     "name": "stderr",
     "output_type": "stream",
     "text": [
      " 24%|███▎          | 11999994/49900000 [57:18:12<200:54:23, 52.40it/s]"
     ]
    },
    {
     "name": "stdout",
     "output_type": "stream",
     "text": [
      "////////////////////////\n",
      "Average reward: 0.0741 \n",
      "Average loss: 0.032151 \n",
      "Average Q: 9.215201\n",
      "\n",
      "Avg. Ep. Reward: 3.5876 \n",
      "Max Ep. Reward: 21.0000 \n",
      "Min Ep. Reward: 0.0000 \n",
      "# Game: 1033\n",
      "[*] Saving checkpoints...\n"
     ]
    },
    {
     "name": "stderr",
     "output_type": "stream",
     "text": [
      " 24%|███▍          | 12049993/49900000 [57:32:45<174:52:36, 60.12it/s]"
     ]
    },
    {
     "name": "stdout",
     "output_type": "stream",
     "text": [
      "////////////////////////\n",
      "Average reward: 0.0737 \n",
      "Average loss: 0.031436 \n",
      "Average Q: 9.222857\n",
      "\n",
      "Avg. Ep. Reward: 3.4378 \n",
      "Max Ep. Reward: 18.0000 \n",
      "Min Ep. Reward: 0.0000 \n",
      "# Game: 1069\n",
      "[*] Saving checkpoints...\n"
     ]
    },
    {
     "name": "stderr",
     "output_type": "stream",
     "text": [
      " 24%|███▍          | 12099996/49900000 [57:47:21<171:30:33, 61.22it/s]"
     ]
    },
    {
     "name": "stdout",
     "output_type": "stream",
     "text": [
      "////////////////////////\n",
      "Average reward: 0.0750 \n",
      "Average loss: 0.031385 \n",
      "Average Q: 9.210372\n",
      "\n",
      "Avg. Ep. Reward: 3.5767 \n",
      "Max Ep. Reward: 20.0000 \n",
      "Min Ep. Reward: 0.0000 \n",
      "# Game: 1049\n",
      "[*] Saving checkpoints...\n"
     ]
    },
    {
     "name": "stderr",
     "output_type": "stream",
     "text": [
      " 24%|███▍          | 12149994/49900000 [58:01:46<177:20:12, 59.13it/s]"
     ]
    },
    {
     "name": "stdout",
     "output_type": "stream",
     "text": [
      "////////////////////////\n",
      "Average reward: 0.0748 \n",
      "Average loss: 0.031881 \n",
      "Average Q: 9.254152\n",
      "\n",
      "Avg. Ep. Reward: 3.6112 \n",
      "Max Ep. Reward: 26.0000 \n",
      "Min Ep. Reward: 0.0000 \n",
      "# Game: 1034\n",
      "[*] Saving checkpoints...\n"
     ]
    },
    {
     "name": "stderr",
     "output_type": "stream",
     "text": [
      " 24%|███▍          | 12199993/49900000 [58:16:12<188:33:23, 55.54it/s]"
     ]
    },
    {
     "name": "stdout",
     "output_type": "stream",
     "text": [
      "////////////////////////\n",
      "Average reward: 0.0747 \n",
      "Average loss: 0.031018 \n",
      "Average Q: 9.247923\n",
      "\n",
      "Avg. Ep. Reward: 3.6237 \n",
      "Max Ep. Reward: 24.0000 \n",
      "Min Ep. Reward: 0.0000 \n",
      "# Game: 1031\n",
      "[*] Saving checkpoints...\n"
     ]
    },
    {
     "name": "stderr",
     "output_type": "stream",
     "text": [
      " 25%|███▍          | 12249997/49900000 [58:30:39<181:22:55, 57.66it/s]"
     ]
    },
    {
     "name": "stdout",
     "output_type": "stream",
     "text": [
      "////////////////////////\n",
      "Average reward: 0.0744 \n",
      "Average loss: 0.030981 \n",
      "Average Q: 9.284281\n",
      "\n",
      "Avg. Ep. Reward: 3.5294 \n",
      "Max Ep. Reward: 20.0000 \n",
      "Min Ep. Reward: 0.0000 \n",
      "# Game: 1054\n",
      "[*] Saving checkpoints...\n"
     ]
    },
    {
     "name": "stderr",
     "output_type": "stream",
     "text": [
      " 25%|███▍          | 12299997/49900000 [58:45:08<181:22:02, 57.59it/s]"
     ]
    },
    {
     "name": "stdout",
     "output_type": "stream",
     "text": [
      "////////////////////////\n",
      "Average reward: 0.0755 \n",
      "Average loss: 0.030608 \n",
      "Average Q: 9.306257\n",
      "\n",
      "Avg. Ep. Reward: 3.7219 \n",
      "Max Ep. Reward: 28.0000 \n",
      "Min Ep. Reward: 0.0000 \n",
      "# Game: 1014\n",
      "[*] Saving checkpoints...\n"
     ]
    },
    {
     "name": "stderr",
     "output_type": "stream",
     "text": [
      " 25%|███▍          | 12349994/49900000 [58:59:32<186:15:12, 56.00it/s]"
     ]
    },
    {
     "name": "stdout",
     "output_type": "stream",
     "text": [
      "////////////////////////\n",
      "Average reward: 0.0751 \n",
      "Average loss: 0.031116 \n",
      "Average Q: 9.318734\n",
      "\n",
      "Avg. Ep. Reward: 3.6876 \n",
      "Max Ep. Reward: 22.0000 \n",
      "Min Ep. Reward: 0.0000 \n",
      "# Game: 1018\n",
      "[*] Saving checkpoints...\n"
     ]
    },
    {
     "name": "stderr",
     "output_type": "stream",
     "text": [
      " 25%|███▍          | 12399998/49900000 [59:14:00<190:47:54, 54.60it/s]"
     ]
    },
    {
     "name": "stdout",
     "output_type": "stream",
     "text": [
      "////////////////////////\n",
      "Average reward: 0.0747 \n",
      "Average loss: 0.030900 \n",
      "Average Q: 9.321702\n",
      "\n",
      "Avg. Ep. Reward: 3.6510 \n",
      "Max Ep. Reward: 21.0000 \n",
      "Min Ep. Reward: 0.0000 \n",
      "# Game: 1023\n",
      "[*] Saving checkpoints...\n"
     ]
    },
    {
     "name": "stderr",
     "output_type": "stream",
     "text": [
      " 25%|███▍          | 12449997/49900000 [59:28:32<182:13:44, 57.09it/s]"
     ]
    },
    {
     "name": "stdout",
     "output_type": "stream",
     "text": [
      "////////////////////////\n",
      "Average reward: 0.0761 \n",
      "Average loss: 0.031595 \n",
      "Average Q: 9.349246\n",
      "\n",
      "Avg. Ep. Reward: 3.8707 \n",
      "Max Ep. Reward: 23.0000 \n",
      "Min Ep. Reward: 0.0000 \n",
      "# Game: 982\n",
      "[*] Saving checkpoints...\n"
     ]
    },
    {
     "name": "stderr",
     "output_type": "stream",
     "text": [
      " 25%|███▌          | 12499998/49900000 [59:43:06<189:41:53, 54.77it/s]"
     ]
    },
    {
     "name": "stdout",
     "output_type": "stream",
     "text": [
      "////////////////////////\n",
      "Average reward: 0.0750 \n",
      "Average loss: 0.031401 \n",
      "Average Q: 9.371861\n",
      "\n",
      "Avg. Ep. Reward: 3.6654 \n",
      "Max Ep. Reward: 27.0000 \n",
      "Min Ep. Reward: 0.0000 \n",
      "# Game: 1022\n",
      "[*] Saving checkpoints...\n"
     ]
    },
    {
     "name": "stderr",
     "output_type": "stream",
     "text": [
      " 25%|███▌          | 12549997/49900000 [59:57:31<185:55:31, 55.80it/s]"
     ]
    },
    {
     "name": "stdout",
     "output_type": "stream",
     "text": [
      "////////////////////////\n",
      "Average reward: 0.0752 \n",
      "Average loss: 0.030446 \n",
      "Average Q: 9.389320\n",
      "\n",
      "Avg. Ep. Reward: 3.6415 \n",
      "Max Ep. Reward: 20.0000 \n",
      "Min Ep. Reward: 0.0000 \n",
      "# Game: 1032\n",
      "[*] Saving checkpoints...\n"
     ]
    },
    {
     "name": "stderr",
     "output_type": "stream",
     "text": [
      " 25%|███▌          | 12599999/49900000 [60:11:55<173:29:25, 59.72it/s]"
     ]
    },
    {
     "name": "stdout",
     "output_type": "stream",
     "text": [
      "////////////////////////\n",
      "Average reward: 0.0754 \n",
      "Average loss: 0.030115 \n",
      "Average Q: 9.397499\n",
      "\n",
      "Avg. Ep. Reward: 3.7257 \n",
      "Max Ep. Reward: 25.0000 \n",
      "Min Ep. Reward: 0.0000 \n",
      "# Game: 1010\n",
      "[*] Saving checkpoints...\n"
     ]
    },
    {
     "name": "stderr",
     "output_type": "stream",
     "text": [
      " 25%|███▌          | 12649995/49900000 [60:26:15<181:40:52, 56.95it/s]"
     ]
    },
    {
     "name": "stdout",
     "output_type": "stream",
     "text": [
      "////////////////////////\n",
      "Average reward: 0.0754 \n",
      "Average loss: 0.031269 \n",
      "Average Q: 9.382812\n",
      "\n",
      "Avg. Ep. Reward: 3.8608 \n",
      "Max Ep. Reward: 24.0000 \n",
      "Min Ep. Reward: 0.0000 \n",
      "# Game: 977\n",
      "[*] Saving checkpoints...\n"
     ]
    },
    {
     "name": "stderr",
     "output_type": "stream",
     "text": [
      " 25%|███▌          | 12699993/49900000 [60:40:46<181:03:55, 57.07it/s]"
     ]
    },
    {
     "name": "stdout",
     "output_type": "stream",
     "text": [
      "////////////////////////\n",
      "Average reward: 0.0754 \n",
      "Average loss: 0.031084 \n",
      "Average Q: 9.382307\n",
      "\n",
      "Avg. Ep. Reward: 3.8014 \n",
      "Max Ep. Reward: 21.0000 \n",
      "Min Ep. Reward: 0.0000 \n",
      "# Game: 992\n",
      "[*] Saving checkpoints...\n"
     ]
    },
    {
     "name": "stderr",
     "output_type": "stream",
     "text": [
      " 26%|███▌          | 12749993/49900000 [60:55:17<178:21:57, 57.86it/s]"
     ]
    },
    {
     "name": "stdout",
     "output_type": "stream",
     "text": [
      "////////////////////////\n",
      "Average reward: 0.0759 \n",
      "Average loss: 0.031026 \n",
      "Average Q: 9.386523\n",
      "\n",
      "Avg. Ep. Reward: 3.8793 \n",
      "Max Ep. Reward: 22.0000 \n",
      "Min Ep. Reward: 0.0000 \n",
      "# Game: 978\n",
      "[*] Saving checkpoints...\n"
     ]
    },
    {
     "name": "stderr",
     "output_type": "stream",
     "text": [
      " 26%|███▌          | 12799993/49900000 [61:09:47<184:40:25, 55.80it/s]"
     ]
    },
    {
     "name": "stdout",
     "output_type": "stream",
     "text": [
      "////////////////////////\n",
      "Average reward: 0.0750 \n",
      "Average loss: 0.030697 \n",
      "Average Q: 9.387070\n",
      "\n",
      "Avg. Ep. Reward: 3.6353 \n",
      "Max Ep. Reward: 24.0000 \n",
      "Min Ep. Reward: 0.0000 \n",
      "# Game: 1031\n",
      "[*] Saving checkpoints...\n"
     ]
    },
    {
     "name": "stderr",
     "output_type": "stream",
     "text": [
      " 26%|███▌          | 12849995/49900000 [61:24:18<181:21:42, 56.75it/s]"
     ]
    },
    {
     "name": "stdout",
     "output_type": "stream",
     "text": [
      "////////////////////////\n",
      "Average reward: 0.0759 \n",
      "Average loss: 0.030219 \n",
      "Average Q: 9.378396\n",
      "\n",
      "Avg. Ep. Reward: 3.6880 \n",
      "Max Ep. Reward: 18.0000 \n",
      "Min Ep. Reward: 0.0000 \n",
      "# Game: 1029\n",
      "[*] Saving checkpoints...\n"
     ]
    },
    {
     "name": "stderr",
     "output_type": "stream",
     "text": [
      " 26%|███▌          | 12899997/49900000 [61:38:50<185:49:20, 55.31it/s]"
     ]
    },
    {
     "name": "stdout",
     "output_type": "stream",
     "text": [
      "////////////////////////\n",
      "Average reward: 0.0748 \n",
      "Average loss: 0.029776 \n",
      "Average Q: 9.380309\n",
      "\n",
      "Avg. Ep. Reward: 3.6703 \n",
      "Max Ep. Reward: 20.0000 \n",
      "Min Ep. Reward: 0.0000 \n",
      "# Game: 1019\n",
      "[*] Saving checkpoints...\n"
     ]
    },
    {
     "name": "stderr",
     "output_type": "stream",
     "text": [
      " 26%|███▋          | 12949995/49900000 [61:53:20<182:56:06, 56.11it/s]"
     ]
    },
    {
     "name": "stdout",
     "output_type": "stream",
     "text": [
      "////////////////////////\n",
      "Average reward: 0.0757 \n",
      "Average loss: 0.030223 \n",
      "Average Q: 9.374284\n",
      "\n",
      "Avg. Ep. Reward: 3.8107 \n",
      "Max Ep. Reward: 21.0000 \n",
      "Min Ep. Reward: 0.0000 \n",
      "# Game: 993\n",
      "[*] Saving checkpoints...\n"
     ]
    },
    {
     "name": "stderr",
     "output_type": "stream",
     "text": [
      " 26%|███▋          | 12999997/49900000 [62:07:50<186:05:25, 55.08it/s]"
     ]
    },
    {
     "name": "stdout",
     "output_type": "stream",
     "text": [
      "////////////////////////\n",
      "Average reward: 0.0754 \n",
      "Average loss: 0.029768 \n",
      "Average Q: 9.358501\n",
      "\n",
      "Avg. Ep. Reward: 3.7475 \n",
      "Max Ep. Reward: 21.0000 \n",
      "Min Ep. Reward: 0.0000 \n",
      "# Game: 1006\n",
      "[*] Saving checkpoints...\n"
     ]
    },
    {
     "name": "stderr",
     "output_type": "stream",
     "text": [
      " 26%|███▋          | 13049997/49900000 [62:22:13<166:51:10, 61.35it/s]"
     ]
    },
    {
     "name": "stdout",
     "output_type": "stream",
     "text": [
      "////////////////////////\n",
      "Average reward: 0.0750 \n",
      "Average loss: 0.030962 \n",
      "Average Q: 9.322546\n",
      "\n",
      "Avg. Ep. Reward: 3.7658 \n",
      "Max Ep. Reward: 21.0000 \n",
      "Min Ep. Reward: 0.0000 \n",
      "# Game: 995\n",
      "[*] Saving checkpoints...\n"
     ]
    },
    {
     "name": "stderr",
     "output_type": "stream",
     "text": [
      " 26%|███▋          | 13099997/49900000 [62:36:41<181:02:24, 56.46it/s]"
     ]
    },
    {
     "name": "stdout",
     "output_type": "stream",
     "text": [
      "////////////////////////\n",
      "Average reward: 0.0753 \n",
      "Average loss: 0.030790 \n",
      "Average Q: 9.285750\n",
      "\n",
      "Avg. Ep. Reward: 3.7819 \n",
      "Max Ep. Reward: 18.0000 \n",
      "Min Ep. Reward: 0.0000 \n",
      "# Game: 995\n",
      "[*] Saving checkpoints...\n"
     ]
    },
    {
     "name": "stderr",
     "output_type": "stream",
     "text": [
      " 26%|███▋          | 13149995/49900000 [62:51:11<173:26:53, 58.86it/s]"
     ]
    },
    {
     "name": "stdout",
     "output_type": "stream",
     "text": [
      "////////////////////////\n",
      "Average reward: 0.0747 \n",
      "Average loss: 0.030387 \n",
      "Average Q: 9.294637\n",
      "\n",
      "Avg. Ep. Reward: 3.7452 \n",
      "Max Ep. Reward: 24.0000 \n",
      "Min Ep. Reward: 0.0000 \n",
      "# Game: 997\n",
      "[*] Saving checkpoints...\n"
     ]
    },
    {
     "name": "stderr",
     "output_type": "stream",
     "text": [
      " 26%|███▋          | 13199997/49900000 [63:05:38<190:18:47, 53.57it/s]"
     ]
    },
    {
     "name": "stdout",
     "output_type": "stream",
     "text": [
      "////////////////////////\n",
      "Average reward: 0.0752 \n",
      "Average loss: 0.029937 \n",
      "Average Q: 9.326310\n",
      "\n",
      "Avg. Ep. Reward: 3.6673 \n",
      "Max Ep. Reward: 28.0000 \n",
      "Min Ep. Reward: 0.0000 \n",
      "# Game: 1025\n",
      "[*] Saving checkpoints...\n"
     ]
    },
    {
     "name": "stderr",
     "output_type": "stream",
     "text": [
      " 27%|███▋          | 13249993/49900000 [63:20:09<175:48:12, 57.91it/s]"
     ]
    },
    {
     "name": "stdout",
     "output_type": "stream",
     "text": [
      "////////////////////////\n",
      "Average reward: 0.0741 \n",
      "Average loss: 0.030210 \n",
      "Average Q: 9.332017\n",
      "\n",
      "Avg. Ep. Reward: 3.5640 \n",
      "Max Ep. Reward: 30.0000 \n",
      "Min Ep. Reward: 0.0000 \n",
      "# Game: 1039\n",
      "[*] Saving checkpoints...\n"
     ]
    },
    {
     "name": "stderr",
     "output_type": "stream",
     "text": [
      " 27%|███▋          | 13299993/49900000 [63:34:36<177:08:55, 57.39it/s]"
     ]
    },
    {
     "name": "stdout",
     "output_type": "stream",
     "text": [
      "////////////////////////\n",
      "Average reward: 0.0745 \n",
      "Average loss: 0.030505 \n",
      "Average Q: 9.338848\n",
      "\n",
      "Avg. Ep. Reward: 3.5857 \n",
      "Max Ep. Reward: 20.0000 \n",
      "Min Ep. Reward: 0.0000 \n",
      "# Game: 1038\n",
      "[*] Saving checkpoints...\n"
     ]
    },
    {
     "name": "stderr",
     "output_type": "stream",
     "text": [
      " 27%|███▋          | 13349999/49900000 [63:49:11<174:44:35, 58.10it/s]"
     ]
    },
    {
     "name": "stdout",
     "output_type": "stream",
     "text": [
      "////////////////////////\n",
      "Average reward: 0.0746 \n",
      "Average loss: 0.031190 \n",
      "Average Q: 9.348274\n",
      "\n",
      "Avg. Ep. Reward: 3.6296 \n",
      "Max Ep. Reward: 20.0000 \n",
      "Min Ep. Reward: 0.0000 \n",
      "# Game: 1026\n",
      "[*] Saving checkpoints...\n"
     ]
    },
    {
     "name": "stderr",
     "output_type": "stream",
     "text": [
      " 27%|███▊          | 13399997/49900000 [64:03:28<185:08:36, 54.76it/s]"
     ]
    },
    {
     "name": "stdout",
     "output_type": "stream",
     "text": [
      "////////////////////////\n",
      "Average reward: 0.0751 \n",
      "Average loss: 0.029891 \n",
      "Average Q: 9.318825\n",
      "\n",
      "Avg. Ep. Reward: 3.5573 \n",
      "Max Ep. Reward: 20.0000 \n",
      "Min Ep. Reward: 0.0000 \n",
      "# Game: 1055\n",
      "[*] Saving checkpoints...\n"
     ]
    },
    {
     "name": "stderr",
     "output_type": "stream",
     "text": [
      " 27%|███▊          | 13449993/49900000 [64:17:51<191:17:58, 52.93it/s]"
     ]
    },
    {
     "name": "stdout",
     "output_type": "stream",
     "text": [
      "////////////////////////\n",
      "Average reward: 0.0751 \n",
      "Average loss: 0.029848 \n",
      "Average Q: 9.325109\n",
      "\n",
      "Avg. Ep. Reward: 3.7815 \n",
      "Max Ep. Reward: 21.0000 \n",
      "Min Ep. Reward: 0.0000 \n",
      "# Game: 993\n",
      "[*] Saving checkpoints...\n"
     ]
    },
    {
     "name": "stderr",
     "output_type": "stream",
     "text": [
      " 27%|███▊          | 13499996/49900000 [64:32:19<171:51:28, 58.83it/s]"
     ]
    },
    {
     "name": "stdout",
     "output_type": "stream",
     "text": [
      "////////////////////////\n",
      "Average reward: 0.0748 \n",
      "Average loss: 0.030278 \n",
      "Average Q: 9.323386\n",
      "\n",
      "Avg. Ep. Reward: 3.6295 \n",
      "Max Ep. Reward: 21.0000 \n",
      "Min Ep. Reward: 0.0000 \n",
      "# Game: 1031\n",
      "[*] Saving checkpoints...\n"
     ]
    },
    {
     "name": "stderr",
     "output_type": "stream",
     "text": [
      " 27%|███▊          | 13549997/49900000 [64:46:46<180:03:20, 56.08it/s]"
     ]
    },
    {
     "name": "stdout",
     "output_type": "stream",
     "text": [
      "////////////////////////\n",
      "Average reward: 0.0754 \n",
      "Average loss: 0.029587 \n",
      "Average Q: 9.324349\n",
      "\n",
      "Avg. Ep. Reward: 3.7143 \n",
      "Max Ep. Reward: 24.0000 \n",
      "Min Ep. Reward: 0.0000 \n",
      "# Game: 1015\n",
      "[*] Saving checkpoints...\n"
     ]
    },
    {
     "name": "stderr",
     "output_type": "stream",
     "text": [
      " 27%|███▊          | 13599997/49900000 [65:01:09<173:40:11, 58.06it/s]"
     ]
    },
    {
     "name": "stdout",
     "output_type": "stream",
     "text": [
      "////////////////////////\n",
      "Average reward: 0.0763 \n",
      "Average loss: 0.029558 \n",
      "Average Q: 9.309481\n",
      "\n",
      "Avg. Ep. Reward: 3.7579 \n",
      "Max Ep. Reward: 25.0000 \n",
      "Min Ep. Reward: 0.0000 \n",
      "# Game: 1012\n",
      "[*] Saving checkpoints...\n"
     ]
    },
    {
     "name": "stderr",
     "output_type": "stream",
     "text": [
      " 27%|███▊          | 13649997/49900000 [65:15:38<170:22:38, 59.10it/s]"
     ]
    },
    {
     "name": "stdout",
     "output_type": "stream",
     "text": [
      "////////////////////////\n",
      "Average reward: 0.0740 \n",
      "Average loss: 0.029482 \n",
      "Average Q: 9.260811\n",
      "\n",
      "Avg. Ep. Reward: 3.5219 \n",
      "Max Ep. Reward: 23.0000 \n",
      "Min Ep. Reward: 0.0000 \n",
      "# Game: 1050\n",
      "[*] Saving checkpoints...\n"
     ]
    },
    {
     "name": "stderr",
     "output_type": "stream",
     "text": [
      " 27%|███▊          | 13699996/49900000 [65:30:09<165:41:04, 60.69it/s]"
     ]
    },
    {
     "name": "stdout",
     "output_type": "stream",
     "text": [
      "////////////////////////\n",
      "Average reward: 0.0758 \n",
      "Average loss: 0.029816 \n",
      "Average Q: 9.251931\n",
      "\n",
      "Avg. Ep. Reward: 3.7505 \n",
      "Max Ep. Reward: 18.0000 \n",
      "Min Ep. Reward: 0.0000 \n",
      "# Game: 1010\n",
      "[*] Saving checkpoints...\n"
     ]
    },
    {
     "name": "stderr",
     "output_type": "stream",
     "text": [
      " 28%|███▊          | 13749997/49900000 [65:44:33<174:55:46, 57.40it/s]"
     ]
    },
    {
     "name": "stdout",
     "output_type": "stream",
     "text": [
      "////////////////////////\n",
      "Average reward: 0.0750 \n",
      "Average loss: 0.028770 \n",
      "Average Q: 9.246129\n",
      "\n",
      "Avg. Ep. Reward: 3.7535 \n",
      "Max Ep. Reward: 27.0000 \n",
      "Min Ep. Reward: 0.0000 \n",
      "# Game: 998\n",
      "[*] Saving checkpoints...\n"
     ]
    },
    {
     "name": "stderr",
     "output_type": "stream",
     "text": [
      " 28%|███▊          | 13799993/49900000 [65:59:05<169:08:02, 59.29it/s]"
     ]
    },
    {
     "name": "stdout",
     "output_type": "stream",
     "text": [
      "////////////////////////\n",
      "Average reward: 0.0747 \n",
      "Average loss: 0.029660 \n",
      "Average Q: 9.229834\n",
      "\n",
      "Avg. Ep. Reward: 3.5404 \n",
      "Max Ep. Reward: 21.0000 \n",
      "Min Ep. Reward: 0.0000 \n",
      "# Game: 1053\n",
      "[*] Saving checkpoints...\n"
     ]
    },
    {
     "name": "stderr",
     "output_type": "stream",
     "text": [
      " 28%|███▉          | 13845215/49900000 [66:12:10<174:16:46, 57.47it/s]"
     ]
    },
    {
     "ename": "KeyboardInterrupt",
     "evalue": "",
     "output_type": "error",
     "traceback": [
      "\u001b[0;31m---------------------------------------------------------------------------\u001b[0m",
      "\u001b[0;31mKeyboardInterrupt\u001b[0m                         Traceback (most recent call last)",
      "\u001b[0;32m<ipython-input-9-2098b8589219>\u001b[0m in \u001b[0;36m<module>\u001b[0;34m()\u001b[0m\n\u001b[1;32m     11\u001b[0m \u001b[0;34m\u001b[0m\u001b[0m\n\u001b[1;32m     12\u001b[0m     \u001b[0;32mif\u001b[0m \u001b[0mis_train\u001b[0m\u001b[0;34m:\u001b[0m\u001b[0;34m\u001b[0m\u001b[0m\n\u001b[0;32m---> 13\u001b[0;31m         \u001b[0magent\u001b[0m\u001b[0;34m.\u001b[0m\u001b[0mtrain\u001b[0m\u001b[0;34m(\u001b[0m\u001b[0;34m)\u001b[0m\u001b[0;34m\u001b[0m\u001b[0m\n\u001b[0m\u001b[1;32m     14\u001b[0m     \u001b[0;32melse\u001b[0m\u001b[0;34m:\u001b[0m\u001b[0;34m\u001b[0m\u001b[0m\n\u001b[1;32m     15\u001b[0m         \u001b[0magent\u001b[0m\u001b[0;34m.\u001b[0m\u001b[0mplay\u001b[0m\u001b[0;34m(\u001b[0m\u001b[0;34m)\u001b[0m\u001b[0;34m\u001b[0m\u001b[0m\n",
      "\u001b[0;32m<ipython-input-8-ce47977c786a>\u001b[0m in \u001b[0;36mtrain\u001b[0;34m(self)\u001b[0m\n\u001b[1;32m    173\u001b[0m \u001b[0;34m\u001b[0m\u001b[0m\n\u001b[1;32m    174\u001b[0m             \u001b[0;31m# 2. Execute the action\u001b[0m\u001b[0;34m\u001b[0m\u001b[0;34m\u001b[0m\u001b[0m\n\u001b[0;32m--> 175\u001b[0;31m             \u001b[0mscreen\u001b[0m\u001b[0;34m,\u001b[0m \u001b[0mreward\u001b[0m\u001b[0;34m,\u001b[0m \u001b[0mterminal\u001b[0m \u001b[0;34m=\u001b[0m \u001b[0mself\u001b[0m\u001b[0;34m.\u001b[0m\u001b[0menv\u001b[0m\u001b[0;34m.\u001b[0m\u001b[0mexecute_action\u001b[0m\u001b[0;34m(\u001b[0m\u001b[0maction\u001b[0m\u001b[0;34m,\u001b[0m\u001b[0mis_training\u001b[0m\u001b[0;34m=\u001b[0m\u001b[0mTrue\u001b[0m\u001b[0;34m)\u001b[0m\u001b[0;34m\u001b[0m\u001b[0m\n\u001b[0m\u001b[1;32m    176\u001b[0m \u001b[0;34m\u001b[0m\u001b[0m\n\u001b[1;32m    177\u001b[0m             \u001b[0;31m# 3. New observation\u001b[0m\u001b[0;34m\u001b[0m\u001b[0;34m\u001b[0m\u001b[0m\n",
      "\u001b[0;32m<ipython-input-3-d4aa18ef85dd>\u001b[0m in \u001b[0;36mexecute_action\u001b[0;34m(self, action, is_training)\u001b[0m\n\u001b[1;32m      9\u001b[0m \u001b[0;34m\u001b[0m\u001b[0m\n\u001b[1;32m     10\u001b[0m         \u001b[0;32mfor\u001b[0m \u001b[0m_\u001b[0m \u001b[0;32min\u001b[0m \u001b[0mxrange\u001b[0m\u001b[0;34m(\u001b[0m\u001b[0mself\u001b[0m\u001b[0;34m.\u001b[0m\u001b[0maction_repeat\u001b[0m\u001b[0;34m)\u001b[0m\u001b[0;34m:\u001b[0m\u001b[0;34m\u001b[0m\u001b[0m\n\u001b[0;32m---> 11\u001b[0;31m             \u001b[0mscreen\u001b[0m\u001b[0;34m,\u001b[0m \u001b[0mreward\u001b[0m\u001b[0;34m,\u001b[0m \u001b[0mterminal\u001b[0m\u001b[0;34m,\u001b[0m \u001b[0m_\u001b[0m \u001b[0;34m=\u001b[0m \u001b[0mself\u001b[0m\u001b[0;34m.\u001b[0m\u001b[0menv\u001b[0m\u001b[0;34m.\u001b[0m\u001b[0mstep\u001b[0m\u001b[0;34m(\u001b[0m\u001b[0maction\u001b[0m\u001b[0;34m)\u001b[0m\u001b[0;34m\u001b[0m\u001b[0m\n\u001b[0m\u001b[1;32m     12\u001b[0m             \u001b[0mcum_reward\u001b[0m \u001b[0;34m+=\u001b[0m \u001b[0mreward\u001b[0m\u001b[0;34m\u001b[0m\u001b[0m\n\u001b[1;32m     13\u001b[0m \u001b[0;34m\u001b[0m\u001b[0m\n",
      "\u001b[0;32m/home/camilog/.local/lib/python2.7/site-packages/gym/core.pyc\u001b[0m in \u001b[0;36mstep\u001b[0;34m(self, action)\u001b[0m\n\u001b[1;32m    120\u001b[0m         \"\"\"\n\u001b[1;32m    121\u001b[0m         \u001b[0mself\u001b[0m\u001b[0;34m.\u001b[0m\u001b[0mmonitor\u001b[0m\u001b[0;34m.\u001b[0m\u001b[0m_before_step\u001b[0m\u001b[0;34m(\u001b[0m\u001b[0maction\u001b[0m\u001b[0;34m)\u001b[0m\u001b[0;34m\u001b[0m\u001b[0m\n\u001b[0;32m--> 122\u001b[0;31m         \u001b[0mobservation\u001b[0m\u001b[0;34m,\u001b[0m \u001b[0mreward\u001b[0m\u001b[0;34m,\u001b[0m \u001b[0mdone\u001b[0m\u001b[0;34m,\u001b[0m \u001b[0minfo\u001b[0m \u001b[0;34m=\u001b[0m \u001b[0mself\u001b[0m\u001b[0;34m.\u001b[0m\u001b[0m_step\u001b[0m\u001b[0;34m(\u001b[0m\u001b[0maction\u001b[0m\u001b[0;34m)\u001b[0m\u001b[0;34m\u001b[0m\u001b[0m\n\u001b[0m\u001b[1;32m    123\u001b[0m \u001b[0;34m\u001b[0m\u001b[0m\n\u001b[1;32m    124\u001b[0m         \u001b[0mdone\u001b[0m \u001b[0;34m=\u001b[0m \u001b[0mself\u001b[0m\u001b[0;34m.\u001b[0m\u001b[0mmonitor\u001b[0m\u001b[0;34m.\u001b[0m\u001b[0m_after_step\u001b[0m\u001b[0;34m(\u001b[0m\u001b[0mobservation\u001b[0m\u001b[0;34m,\u001b[0m \u001b[0mreward\u001b[0m\u001b[0;34m,\u001b[0m \u001b[0mdone\u001b[0m\u001b[0;34m,\u001b[0m \u001b[0minfo\u001b[0m\u001b[0;34m)\u001b[0m\u001b[0;34m\u001b[0m\u001b[0m\n",
      "\u001b[0;32m/home/camilog/.local/lib/python2.7/site-packages/gym/envs/atari/atari_env.pyc\u001b[0m in \u001b[0;36m_step\u001b[0;34m(self, a)\u001b[0m\n\u001b[1;32m     79\u001b[0m             \u001b[0mnum_steps\u001b[0m \u001b[0;34m=\u001b[0m \u001b[0mself\u001b[0m\u001b[0;34m.\u001b[0m\u001b[0mnp_random\u001b[0m\u001b[0;34m.\u001b[0m\u001b[0mrandint\u001b[0m\u001b[0;34m(\u001b[0m\u001b[0mself\u001b[0m\u001b[0;34m.\u001b[0m\u001b[0mframeskip\u001b[0m\u001b[0;34m[\u001b[0m\u001b[0;36m0\u001b[0m\u001b[0;34m]\u001b[0m\u001b[0;34m,\u001b[0m \u001b[0mself\u001b[0m\u001b[0;34m.\u001b[0m\u001b[0mframeskip\u001b[0m\u001b[0;34m[\u001b[0m\u001b[0;36m1\u001b[0m\u001b[0;34m]\u001b[0m\u001b[0;34m)\u001b[0m\u001b[0;34m\u001b[0m\u001b[0m\n\u001b[1;32m     80\u001b[0m         \u001b[0;32mfor\u001b[0m \u001b[0m_\u001b[0m \u001b[0;32min\u001b[0m \u001b[0mrange\u001b[0m\u001b[0;34m(\u001b[0m\u001b[0mnum_steps\u001b[0m\u001b[0;34m)\u001b[0m\u001b[0;34m:\u001b[0m\u001b[0;34m\u001b[0m\u001b[0m\n\u001b[0;32m---> 81\u001b[0;31m             \u001b[0mreward\u001b[0m \u001b[0;34m+=\u001b[0m \u001b[0mself\u001b[0m\u001b[0;34m.\u001b[0m\u001b[0male\u001b[0m\u001b[0;34m.\u001b[0m\u001b[0mact\u001b[0m\u001b[0;34m(\u001b[0m\u001b[0maction\u001b[0m\u001b[0;34m)\u001b[0m\u001b[0;34m\u001b[0m\u001b[0m\n\u001b[0m\u001b[1;32m     82\u001b[0m         \u001b[0mob\u001b[0m \u001b[0;34m=\u001b[0m \u001b[0mself\u001b[0m\u001b[0;34m.\u001b[0m\u001b[0m_get_obs\u001b[0m\u001b[0;34m(\u001b[0m\u001b[0;34m)\u001b[0m\u001b[0;34m\u001b[0m\u001b[0m\n\u001b[1;32m     83\u001b[0m \u001b[0;34m\u001b[0m\u001b[0m\n",
      "\u001b[0;32m/home/camilog/.local/lib/python2.7/site-packages/atari_py/ale_python_interface.pyc\u001b[0m in \u001b[0;36mact\u001b[0;34m(self, action)\u001b[0m\n\u001b[1;32m    139\u001b[0m \u001b[0;34m\u001b[0m\u001b[0m\n\u001b[1;32m    140\u001b[0m     \u001b[0;32mdef\u001b[0m \u001b[0mact\u001b[0m\u001b[0;34m(\u001b[0m\u001b[0mself\u001b[0m\u001b[0;34m,\u001b[0m \u001b[0maction\u001b[0m\u001b[0;34m)\u001b[0m\u001b[0;34m:\u001b[0m\u001b[0;34m\u001b[0m\u001b[0m\n\u001b[0;32m--> 141\u001b[0;31m         \u001b[0;32mreturn\u001b[0m \u001b[0male_lib\u001b[0m\u001b[0;34m.\u001b[0m\u001b[0mact\u001b[0m\u001b[0;34m(\u001b[0m\u001b[0mself\u001b[0m\u001b[0;34m.\u001b[0m\u001b[0mobj\u001b[0m\u001b[0;34m,\u001b[0m \u001b[0mint\u001b[0m\u001b[0;34m(\u001b[0m\u001b[0maction\u001b[0m\u001b[0;34m)\u001b[0m\u001b[0;34m)\u001b[0m\u001b[0;34m\u001b[0m\u001b[0m\n\u001b[0m\u001b[1;32m    142\u001b[0m \u001b[0;34m\u001b[0m\u001b[0m\n\u001b[1;32m    143\u001b[0m     \u001b[0;32mdef\u001b[0m \u001b[0mgame_over\u001b[0m\u001b[0;34m(\u001b[0m\u001b[0mself\u001b[0m\u001b[0;34m)\u001b[0m\u001b[0;34m:\u001b[0m\u001b[0;34m\u001b[0m\u001b[0m\n",
      "\u001b[0;31mKeyboardInterrupt\u001b[0m: "
     ]
    }
   ],
   "source": [
    "is_train = True\n",
    "\n",
    "gpu_config = tf.ConfigProto()\n",
    "gpu_config.gpu_options.allow_growth = True\n",
    "gpu_config.gpu_options.per_process_gpu_memory_fraction = 1.0\n",
    "gpu_config.log_device_placement = True\n",
    "\n",
    "with tf.Session(config=gpu_config) as sess:\n",
    "    env = GymEnvironment('Breakout-v0')\n",
    "    agent = Agent(env,sess)\n",
    "    \n",
    "    if is_train:\n",
    "        agent.train()\n",
    "    else:\n",
    "        agent.play()"
   ]
  },
  {
   "cell_type": "code",
   "execution_count": null,
   "metadata": {
    "collapsed": true
   },
   "outputs": [],
   "source": []
  }
 ],
 "metadata": {
  "kernelspec": {
   "display_name": "Python 2",
   "language": "python",
   "name": "python2"
  },
  "language_info": {
   "codemirror_mode": {
    "name": "ipython",
    "version": 2
   },
   "file_extension": ".py",
   "mimetype": "text/x-python",
   "name": "python",
   "nbconvert_exporter": "python",
   "pygments_lexer": "ipython2",
   "version": "2.7.6"
  }
 },
 "nbformat": 4,
 "nbformat_minor": 0
}
